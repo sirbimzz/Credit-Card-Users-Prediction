{
  "nbformat": 4,
  "nbformat_minor": 0,
  "metadata": {
    "colab": {
      "name": "Project.ipynb",
      "provenance": [],
      "collapsed_sections": []
    },
    "kernelspec": {
      "display_name": "Python 3",
      "language": "python",
      "name": "python3"
    },
    "language_info": {
      "codemirror_mode": {
        "name": "ipython",
        "version": 3
      },
      "file_extension": ".py",
      "mimetype": "text/x-python",
      "name": "python",
      "nbconvert_exporter": "python",
      "pygments_lexer": "ipython3",
      "version": "3.7.3"
    }
  },
  "cells": [
    {
      "cell_type": "markdown",
      "metadata": {
        "id": "rji2DJwCU7yS"
      },
      "source": [
        "## Bank Churn Prediction by Abimbola Salami"
      ]
    },
    {
      "cell_type": "markdown",
      "metadata": {
        "id": "NAMwsLfRVj6y"
      },
      "source": [
        "### Background and Context\n",
        "\n",
        "Businesses like banks that provide service have to worry about the problem of 'Churn' i.e. customers leaving and joining another service provider. It is important to understand which aspects of the service influence a customer's decision in this regard. Management can concentrate efforts on the improvement of service, keeping in mind these priorities.\n",
        "\n",
        "### Objective\n",
        "\n",
        "Given a Bank customer, build a neural network-based classifier that can determine whether they will leave or not in the next 6 months.\n",
        "\n",
        "### Data Description\n",
        "\n",
        "The case study is from an open-source dataset from Kaggle. The dataset contains 10,000 sample points with 14 distinct features such as CustomerId, CreditScore, Geography, Gender, Age, Tenure, Balance, etc.\n",
        "\n",
        "### Data Dictionary\n",
        "\n",
        "- CustomerId: Unique ID which is assigned to each customer\n",
        "- Surname: Last name of the customer \n",
        "- CreditScore: It defines the credit history of the customer.  \n",
        "- Geography: A customer’s location    \n",
        "- Gender: It defines the Gender of the customer   \n",
        "- Age: Age of the customer     \n",
        "- Tenure: Number of years for which the customer has been with the bank\n",
        "- NumOfProducts: It refers to the number of products that a customer has purchased through the bank.\n",
        "- Balance: Account balance\n",
        "- HasCrCard: It is a categorical variable that decides whether the customer has a credit card or not.\n",
        "- EstimatedSalary: Estimated salary \n",
        "- isActiveMember: It is a categorical variable that decides whether the customer is an active member of the bank or not ( Active member in the sense, using bank products regularly, making transactions, etc )\n",
        "- Excited: It is a categorical variable that decides whether the customer left the bank within six months or not. It can take two values \n",
        "                    0=No ( Customer did not leave the bank )\n",
        "\n",
        "                    1=Yes ( Customer left the bank )\n",
        "\n",
        "\n"
      ]
    },
    {
      "cell_type": "markdown",
      "metadata": {
        "id": "9InfltVaYiMU"
      },
      "source": [
        "### Importing all necessary libraries\n"
      ]
    },
    {
      "cell_type": "code",
      "metadata": {
        "id": "7kBtSa7fZVW8"
      },
      "source": [
        "# Importing python libraries\n",
        "# To help with reading and manipulating data\n",
        "import pandas as pd\n",
        "import numpy as np\n",
        "# To help with data visualization\n",
        "import matplotlib.pyplot as plt\n",
        "import seaborn as sns\n",
        "# To split data\n",
        "from sklearn.model_selection import train_test_split\n",
        "# To be used for data scaling and one hot encoding\n",
        "from sklearn.preprocessing import StandardScaler, MinMaxScaler, OneHotEncoder\n",
        "# To get different metric scores\n",
        "from sklearn.metrics import accuracy_score, confusion_matrix, precision_score, recall_score, f1_score, precision_recall_curve, roc_auc_score, roc_curve\n",
        "from tensorflow.keras.models import Sequential #---Sequential ANN; Each layer is connected to the next layer\n",
        "from tensorflow.keras.layers import Dense, Dropout, BatchNormalization\n",
        "from tensorflow.keras import optimizers\n",
        "from tensorflow import keras\n",
        "import random as rn\n",
        "# To supress warnings\n",
        "import warnings\n",
        "\n",
        "warnings.filterwarnings(\"ignore\")"
      ],
      "execution_count": 1,
      "outputs": []
    },
    {
      "cell_type": "code",
      "metadata": {
        "colab": {
          "base_uri": "https://localhost:8080/"
        },
        "id": "xhu2eOubApIg",
        "outputId": "dc0a2858-be25-48c3-cd1d-c33018ff540c"
      },
      "source": [
        "import tensorflow as tf #importing tensorflow\n",
        "print(tf.__version__)"
      ],
      "execution_count": 2,
      "outputs": [
        {
          "output_type": "stream",
          "name": "stdout",
          "text": [
            "2.6.0\n"
          ]
        }
      ]
    },
    {
      "cell_type": "code",
      "metadata": {
        "id": "RJQPB17OW0-E"
      },
      "source": [
        "import os\n",
        "os.environ[\"CUDA_VISIBLE_DEVICES\"] = \"3\"\n",
        "PYTHONHASHSEED=0"
      ],
      "execution_count": 3,
      "outputs": []
    },
    {
      "cell_type": "code",
      "metadata": {
        "id": "0A0v8hD3W0-E"
      },
      "source": [
        "tf.random.set_seed(1234)\n",
        "np.random.seed(1234)\n",
        "rn.seed(1234)"
      ],
      "execution_count": 4,
      "outputs": []
    },
    {
      "cell_type": "code",
      "metadata": {
        "colab": {
          "base_uri": "https://localhost:8080/"
        },
        "id": "wsa9WfOag8R9",
        "outputId": "acf9c47d-306b-40a4-e406-8346d27a8394"
      },
      "source": [
        "#Mounting my drive\n",
        "\n",
        "from google.colab import drive\n",
        "drive.mount('/content/drive')"
      ],
      "execution_count": 5,
      "outputs": [
        {
          "output_type": "stream",
          "name": "stdout",
          "text": [
            "Drive already mounted at /content/drive; to attempt to forcibly remount, call drive.mount(\"/content/drive\", force_remount=True).\n"
          ]
        }
      ]
    },
    {
      "cell_type": "code",
      "metadata": {
        "colab": {
          "base_uri": "https://localhost:8080/"
        },
        "id": "6CVcckKm8QxD",
        "outputId": "af75c333-d384-4726-c102-8edf8dfdbb27"
      },
      "source": [
        "%cd /content/drive/My Drive/Bank_Churn"
      ],
      "execution_count": 6,
      "outputs": [
        {
          "output_type": "stream",
          "name": "stdout",
          "text": [
            "/content/drive/My Drive/Bank_Churn\n"
          ]
        }
      ]
    },
    {
      "cell_type": "code",
      "metadata": {
        "colab": {
          "base_uri": "https://localhost:8080/",
          "height": 414
        },
        "id": "De3dAW5LlyVP",
        "outputId": "d7cfd796-337c-4a26-f0f9-25c8f06108f5"
      },
      "source": [
        "# Reading the dataset\n",
        "\n",
        "bank_churn =pd.read_csv('bank.csv', index_col='RowNumber')\n",
        "\n",
        "bank_churn.head(10)"
      ],
      "execution_count": 7,
      "outputs": [
        {
          "output_type": "execute_result",
          "data": {
            "text/html": [
              "<div>\n",
              "<style scoped>\n",
              "    .dataframe tbody tr th:only-of-type {\n",
              "        vertical-align: middle;\n",
              "    }\n",
              "\n",
              "    .dataframe tbody tr th {\n",
              "        vertical-align: top;\n",
              "    }\n",
              "\n",
              "    .dataframe thead th {\n",
              "        text-align: right;\n",
              "    }\n",
              "</style>\n",
              "<table border=\"1\" class=\"dataframe\">\n",
              "  <thead>\n",
              "    <tr style=\"text-align: right;\">\n",
              "      <th></th>\n",
              "      <th>CustomerId</th>\n",
              "      <th>Surname</th>\n",
              "      <th>CreditScore</th>\n",
              "      <th>Geography</th>\n",
              "      <th>Gender</th>\n",
              "      <th>Age</th>\n",
              "      <th>Tenure</th>\n",
              "      <th>Balance</th>\n",
              "      <th>NumOfProducts</th>\n",
              "      <th>HasCrCard</th>\n",
              "      <th>IsActiveMember</th>\n",
              "      <th>EstimatedSalary</th>\n",
              "      <th>Exited</th>\n",
              "    </tr>\n",
              "    <tr>\n",
              "      <th>RowNumber</th>\n",
              "      <th></th>\n",
              "      <th></th>\n",
              "      <th></th>\n",
              "      <th></th>\n",
              "      <th></th>\n",
              "      <th></th>\n",
              "      <th></th>\n",
              "      <th></th>\n",
              "      <th></th>\n",
              "      <th></th>\n",
              "      <th></th>\n",
              "      <th></th>\n",
              "      <th></th>\n",
              "    </tr>\n",
              "  </thead>\n",
              "  <tbody>\n",
              "    <tr>\n",
              "      <th>1</th>\n",
              "      <td>15634602</td>\n",
              "      <td>Hargrave</td>\n",
              "      <td>619</td>\n",
              "      <td>France</td>\n",
              "      <td>Female</td>\n",
              "      <td>42</td>\n",
              "      <td>2</td>\n",
              "      <td>0.00</td>\n",
              "      <td>1</td>\n",
              "      <td>1</td>\n",
              "      <td>1</td>\n",
              "      <td>101348.88</td>\n",
              "      <td>1</td>\n",
              "    </tr>\n",
              "    <tr>\n",
              "      <th>2</th>\n",
              "      <td>15647311</td>\n",
              "      <td>Hill</td>\n",
              "      <td>608</td>\n",
              "      <td>Spain</td>\n",
              "      <td>Female</td>\n",
              "      <td>41</td>\n",
              "      <td>1</td>\n",
              "      <td>83807.86</td>\n",
              "      <td>1</td>\n",
              "      <td>0</td>\n",
              "      <td>1</td>\n",
              "      <td>112542.58</td>\n",
              "      <td>0</td>\n",
              "    </tr>\n",
              "    <tr>\n",
              "      <th>3</th>\n",
              "      <td>15619304</td>\n",
              "      <td>Onio</td>\n",
              "      <td>502</td>\n",
              "      <td>France</td>\n",
              "      <td>Female</td>\n",
              "      <td>42</td>\n",
              "      <td>8</td>\n",
              "      <td>159660.80</td>\n",
              "      <td>3</td>\n",
              "      <td>1</td>\n",
              "      <td>0</td>\n",
              "      <td>113931.57</td>\n",
              "      <td>1</td>\n",
              "    </tr>\n",
              "    <tr>\n",
              "      <th>4</th>\n",
              "      <td>15701354</td>\n",
              "      <td>Boni</td>\n",
              "      <td>699</td>\n",
              "      <td>France</td>\n",
              "      <td>Female</td>\n",
              "      <td>39</td>\n",
              "      <td>1</td>\n",
              "      <td>0.00</td>\n",
              "      <td>2</td>\n",
              "      <td>0</td>\n",
              "      <td>0</td>\n",
              "      <td>93826.63</td>\n",
              "      <td>0</td>\n",
              "    </tr>\n",
              "    <tr>\n",
              "      <th>5</th>\n",
              "      <td>15737888</td>\n",
              "      <td>Mitchell</td>\n",
              "      <td>850</td>\n",
              "      <td>Spain</td>\n",
              "      <td>Female</td>\n",
              "      <td>43</td>\n",
              "      <td>2</td>\n",
              "      <td>125510.82</td>\n",
              "      <td>1</td>\n",
              "      <td>1</td>\n",
              "      <td>1</td>\n",
              "      <td>79084.10</td>\n",
              "      <td>0</td>\n",
              "    </tr>\n",
              "    <tr>\n",
              "      <th>6</th>\n",
              "      <td>15574012</td>\n",
              "      <td>Chu</td>\n",
              "      <td>645</td>\n",
              "      <td>Spain</td>\n",
              "      <td>Male</td>\n",
              "      <td>44</td>\n",
              "      <td>8</td>\n",
              "      <td>113755.78</td>\n",
              "      <td>2</td>\n",
              "      <td>1</td>\n",
              "      <td>0</td>\n",
              "      <td>149756.71</td>\n",
              "      <td>1</td>\n",
              "    </tr>\n",
              "    <tr>\n",
              "      <th>7</th>\n",
              "      <td>15592531</td>\n",
              "      <td>Bartlett</td>\n",
              "      <td>822</td>\n",
              "      <td>France</td>\n",
              "      <td>Male</td>\n",
              "      <td>50</td>\n",
              "      <td>7</td>\n",
              "      <td>0.00</td>\n",
              "      <td>2</td>\n",
              "      <td>1</td>\n",
              "      <td>1</td>\n",
              "      <td>10062.80</td>\n",
              "      <td>0</td>\n",
              "    </tr>\n",
              "    <tr>\n",
              "      <th>8</th>\n",
              "      <td>15656148</td>\n",
              "      <td>Obinna</td>\n",
              "      <td>376</td>\n",
              "      <td>Germany</td>\n",
              "      <td>Female</td>\n",
              "      <td>29</td>\n",
              "      <td>4</td>\n",
              "      <td>115046.74</td>\n",
              "      <td>4</td>\n",
              "      <td>1</td>\n",
              "      <td>0</td>\n",
              "      <td>119346.88</td>\n",
              "      <td>1</td>\n",
              "    </tr>\n",
              "    <tr>\n",
              "      <th>9</th>\n",
              "      <td>15792365</td>\n",
              "      <td>He</td>\n",
              "      <td>501</td>\n",
              "      <td>France</td>\n",
              "      <td>Male</td>\n",
              "      <td>44</td>\n",
              "      <td>4</td>\n",
              "      <td>142051.07</td>\n",
              "      <td>2</td>\n",
              "      <td>0</td>\n",
              "      <td>1</td>\n",
              "      <td>74940.50</td>\n",
              "      <td>0</td>\n",
              "    </tr>\n",
              "    <tr>\n",
              "      <th>10</th>\n",
              "      <td>15592389</td>\n",
              "      <td>H?</td>\n",
              "      <td>684</td>\n",
              "      <td>France</td>\n",
              "      <td>Male</td>\n",
              "      <td>27</td>\n",
              "      <td>2</td>\n",
              "      <td>134603.88</td>\n",
              "      <td>1</td>\n",
              "      <td>1</td>\n",
              "      <td>1</td>\n",
              "      <td>71725.73</td>\n",
              "      <td>0</td>\n",
              "    </tr>\n",
              "  </tbody>\n",
              "</table>\n",
              "</div>"
            ],
            "text/plain": [
              "           CustomerId   Surname  ...  EstimatedSalary Exited\n",
              "RowNumber                        ...                        \n",
              "1            15634602  Hargrave  ...        101348.88      1\n",
              "2            15647311      Hill  ...        112542.58      0\n",
              "3            15619304      Onio  ...        113931.57      1\n",
              "4            15701354      Boni  ...         93826.63      0\n",
              "5            15737888  Mitchell  ...         79084.10      0\n",
              "6            15574012       Chu  ...        149756.71      1\n",
              "7            15592531  Bartlett  ...         10062.80      0\n",
              "8            15656148    Obinna  ...        119346.88      1\n",
              "9            15792365        He  ...         74940.50      0\n",
              "10           15592389        H?  ...         71725.73      0\n",
              "\n",
              "[10 rows x 13 columns]"
            ]
          },
          "metadata": {},
          "execution_count": 7
        }
      ]
    },
    {
      "cell_type": "code",
      "metadata": {
        "colab": {
          "base_uri": "https://localhost:8080/"
        },
        "id": "DmPGHqBpmwzH",
        "outputId": "687aa9b2-667a-4b66-cb2d-77b57dc8eccf"
      },
      "source": [
        "bank_churn.shape"
      ],
      "execution_count": 8,
      "outputs": [
        {
          "output_type": "execute_result",
          "data": {
            "text/plain": [
              "(10000, 13)"
            ]
          },
          "metadata": {},
          "execution_count": 8
        }
      ]
    },
    {
      "cell_type": "markdown",
      "metadata": {
        "id": "0I6xqlz9sA2x"
      },
      "source": [
        "- The dataset contains 10,000 rows and 13 columns\n",
        "- The column CustomerID will be dropped as it is not required in the analysis\n",
        "- The column Surname contains '?' which might require treatment\n",
        "- The dependent variable is Exited"
      ]
    },
    {
      "cell_type": "code",
      "metadata": {
        "colab": {
          "base_uri": "https://localhost:8080/"
        },
        "id": "RPZxHSFlwKDJ",
        "outputId": "a0126878-589c-4a8a-d81a-4883faf43e3e"
      },
      "source": [
        "# Checking for duplicates\n",
        "\n",
        "bank_churn[bank_churn.duplicated()].count()"
      ],
      "execution_count": 9,
      "outputs": [
        {
          "output_type": "execute_result",
          "data": {
            "text/plain": [
              "CustomerId         0\n",
              "Surname            0\n",
              "CreditScore        0\n",
              "Geography          0\n",
              "Gender             0\n",
              "Age                0\n",
              "Tenure             0\n",
              "Balance            0\n",
              "NumOfProducts      0\n",
              "HasCrCard          0\n",
              "IsActiveMember     0\n",
              "EstimatedSalary    0\n",
              "Exited             0\n",
              "dtype: int64"
            ]
          },
          "metadata": {},
          "execution_count": 9
        }
      ]
    },
    {
      "cell_type": "markdown",
      "metadata": {
        "id": "ljEU1Ny64h-E"
      },
      "source": [
        "- The dataset doesn't contain any duplicates"
      ]
    },
    {
      "cell_type": "code",
      "metadata": {
        "colab": {
          "base_uri": "https://localhost:8080/"
        },
        "id": "ZhOuKGwc2Eei",
        "outputId": "54c1b572-7cac-482f-cd6d-017ceeb07c0f"
      },
      "source": [
        "#Checking the datatypes and for null data\n",
        "\n",
        "bank_churn.info()"
      ],
      "execution_count": 10,
      "outputs": [
        {
          "output_type": "stream",
          "name": "stdout",
          "text": [
            "<class 'pandas.core.frame.DataFrame'>\n",
            "Int64Index: 10000 entries, 1 to 10000\n",
            "Data columns (total 13 columns):\n",
            " #   Column           Non-Null Count  Dtype  \n",
            "---  ------           --------------  -----  \n",
            " 0   CustomerId       10000 non-null  int64  \n",
            " 1   Surname          10000 non-null  object \n",
            " 2   CreditScore      10000 non-null  int64  \n",
            " 3   Geography        10000 non-null  object \n",
            " 4   Gender           10000 non-null  object \n",
            " 5   Age              10000 non-null  int64  \n",
            " 6   Tenure           10000 non-null  int64  \n",
            " 7   Balance          10000 non-null  float64\n",
            " 8   NumOfProducts    10000 non-null  int64  \n",
            " 9   HasCrCard        10000 non-null  int64  \n",
            " 10  IsActiveMember   10000 non-null  int64  \n",
            " 11  EstimatedSalary  10000 non-null  float64\n",
            " 12  Exited           10000 non-null  int64  \n",
            "dtypes: float64(2), int64(8), object(3)\n",
            "memory usage: 1.1+ MB\n"
          ]
        }
      ]
    },
    {
      "cell_type": "markdown",
      "metadata": {
        "id": "vSiYNSXs4nQW"
      },
      "source": [
        "- The dataset contains int64, float64 and object datatypes\n",
        "- The object datatypes will be converted to category"
      ]
    },
    {
      "cell_type": "code",
      "metadata": {
        "colab": {
          "base_uri": "https://localhost:8080/"
        },
        "id": "GxL8EU3t2yNs",
        "outputId": "ccbaa997-9d21-47a0-d402-dc05371290a4"
      },
      "source": [
        "#Checking for unique values\n",
        "\n",
        "bank_churn.nunique()"
      ],
      "execution_count": 11,
      "outputs": [
        {
          "output_type": "execute_result",
          "data": {
            "text/plain": [
              "CustomerId         10000\n",
              "Surname             2932\n",
              "CreditScore          460\n",
              "Geography              3\n",
              "Gender                 2\n",
              "Age                   70\n",
              "Tenure                11\n",
              "Balance             6382\n",
              "NumOfProducts          4\n",
              "HasCrCard              2\n",
              "IsActiveMember         2\n",
              "EstimatedSalary     9999\n",
              "Exited                 2\n",
              "dtype: int64"
            ]
          },
          "metadata": {},
          "execution_count": 11
        }
      ]
    },
    {
      "cell_type": "code",
      "metadata": {
        "colab": {
          "base_uri": "https://localhost:8080/",
          "height": 363
        },
        "id": "wO7XmpnB6gXJ",
        "outputId": "b00af80b-4c4e-4604-e67f-00269bcc95cd"
      },
      "source": [
        "#Statisitical summary of dataset\n",
        "\n",
        "bank_churn.describe().round(0).T"
      ],
      "execution_count": 12,
      "outputs": [
        {
          "output_type": "execute_result",
          "data": {
            "text/html": [
              "<div>\n",
              "<style scoped>\n",
              "    .dataframe tbody tr th:only-of-type {\n",
              "        vertical-align: middle;\n",
              "    }\n",
              "\n",
              "    .dataframe tbody tr th {\n",
              "        vertical-align: top;\n",
              "    }\n",
              "\n",
              "    .dataframe thead th {\n",
              "        text-align: right;\n",
              "    }\n",
              "</style>\n",
              "<table border=\"1\" class=\"dataframe\">\n",
              "  <thead>\n",
              "    <tr style=\"text-align: right;\">\n",
              "      <th></th>\n",
              "      <th>count</th>\n",
              "      <th>mean</th>\n",
              "      <th>std</th>\n",
              "      <th>min</th>\n",
              "      <th>25%</th>\n",
              "      <th>50%</th>\n",
              "      <th>75%</th>\n",
              "      <th>max</th>\n",
              "    </tr>\n",
              "  </thead>\n",
              "  <tbody>\n",
              "    <tr>\n",
              "      <th>CustomerId</th>\n",
              "      <td>10000.0</td>\n",
              "      <td>15690941.0</td>\n",
              "      <td>71936.0</td>\n",
              "      <td>15565701.0</td>\n",
              "      <td>15628528.0</td>\n",
              "      <td>15690738.0</td>\n",
              "      <td>15753234.0</td>\n",
              "      <td>15815690.0</td>\n",
              "    </tr>\n",
              "    <tr>\n",
              "      <th>CreditScore</th>\n",
              "      <td>10000.0</td>\n",
              "      <td>651.0</td>\n",
              "      <td>97.0</td>\n",
              "      <td>350.0</td>\n",
              "      <td>584.0</td>\n",
              "      <td>652.0</td>\n",
              "      <td>718.0</td>\n",
              "      <td>850.0</td>\n",
              "    </tr>\n",
              "    <tr>\n",
              "      <th>Age</th>\n",
              "      <td>10000.0</td>\n",
              "      <td>39.0</td>\n",
              "      <td>10.0</td>\n",
              "      <td>18.0</td>\n",
              "      <td>32.0</td>\n",
              "      <td>37.0</td>\n",
              "      <td>44.0</td>\n",
              "      <td>92.0</td>\n",
              "    </tr>\n",
              "    <tr>\n",
              "      <th>Tenure</th>\n",
              "      <td>10000.0</td>\n",
              "      <td>5.0</td>\n",
              "      <td>3.0</td>\n",
              "      <td>0.0</td>\n",
              "      <td>3.0</td>\n",
              "      <td>5.0</td>\n",
              "      <td>7.0</td>\n",
              "      <td>10.0</td>\n",
              "    </tr>\n",
              "    <tr>\n",
              "      <th>Balance</th>\n",
              "      <td>10000.0</td>\n",
              "      <td>76486.0</td>\n",
              "      <td>62397.0</td>\n",
              "      <td>0.0</td>\n",
              "      <td>0.0</td>\n",
              "      <td>97199.0</td>\n",
              "      <td>127644.0</td>\n",
              "      <td>250898.0</td>\n",
              "    </tr>\n",
              "    <tr>\n",
              "      <th>NumOfProducts</th>\n",
              "      <td>10000.0</td>\n",
              "      <td>2.0</td>\n",
              "      <td>1.0</td>\n",
              "      <td>1.0</td>\n",
              "      <td>1.0</td>\n",
              "      <td>1.0</td>\n",
              "      <td>2.0</td>\n",
              "      <td>4.0</td>\n",
              "    </tr>\n",
              "    <tr>\n",
              "      <th>HasCrCard</th>\n",
              "      <td>10000.0</td>\n",
              "      <td>1.0</td>\n",
              "      <td>0.0</td>\n",
              "      <td>0.0</td>\n",
              "      <td>0.0</td>\n",
              "      <td>1.0</td>\n",
              "      <td>1.0</td>\n",
              "      <td>1.0</td>\n",
              "    </tr>\n",
              "    <tr>\n",
              "      <th>IsActiveMember</th>\n",
              "      <td>10000.0</td>\n",
              "      <td>1.0</td>\n",
              "      <td>0.0</td>\n",
              "      <td>0.0</td>\n",
              "      <td>0.0</td>\n",
              "      <td>1.0</td>\n",
              "      <td>1.0</td>\n",
              "      <td>1.0</td>\n",
              "    </tr>\n",
              "    <tr>\n",
              "      <th>EstimatedSalary</th>\n",
              "      <td>10000.0</td>\n",
              "      <td>100090.0</td>\n",
              "      <td>57510.0</td>\n",
              "      <td>12.0</td>\n",
              "      <td>51002.0</td>\n",
              "      <td>100194.0</td>\n",
              "      <td>149388.0</td>\n",
              "      <td>199992.0</td>\n",
              "    </tr>\n",
              "    <tr>\n",
              "      <th>Exited</th>\n",
              "      <td>10000.0</td>\n",
              "      <td>0.0</td>\n",
              "      <td>0.0</td>\n",
              "      <td>0.0</td>\n",
              "      <td>0.0</td>\n",
              "      <td>0.0</td>\n",
              "      <td>0.0</td>\n",
              "      <td>1.0</td>\n",
              "    </tr>\n",
              "  </tbody>\n",
              "</table>\n",
              "</div>"
            ],
            "text/plain": [
              "                   count        mean  ...         75%         max\n",
              "CustomerId       10000.0  15690941.0  ...  15753234.0  15815690.0\n",
              "CreditScore      10000.0       651.0  ...       718.0       850.0\n",
              "Age              10000.0        39.0  ...        44.0        92.0\n",
              "Tenure           10000.0         5.0  ...         7.0        10.0\n",
              "Balance          10000.0     76486.0  ...    127644.0    250898.0\n",
              "NumOfProducts    10000.0         2.0  ...         2.0         4.0\n",
              "HasCrCard        10000.0         1.0  ...         1.0         1.0\n",
              "IsActiveMember   10000.0         1.0  ...         1.0         1.0\n",
              "EstimatedSalary  10000.0    100090.0  ...    149388.0    199992.0\n",
              "Exited           10000.0         0.0  ...         0.0         1.0\n",
              "\n",
              "[10 rows x 8 columns]"
            ]
          },
          "metadata": {},
          "execution_count": 12
        }
      ]
    },
    {
      "cell_type": "markdown",
      "metadata": {
        "id": "z06d_Re187BL"
      },
      "source": [
        "- The CreditScore ranges from 350 to 850 with an average of 651\n",
        "- The Age ranges from 18 years to 92 years with an average of 39 years old\n",
        "- The average duration the customers have been with the bank is 5 years\n",
        "- The average account balance of Customers with the bank is 76,486\n",
        "- The average number of products purchased by the customers is 2\n",
        "- The average EstimatedSalary of customers is 100,090"
      ]
    },
    {
      "cell_type": "markdown",
      "metadata": {
        "id": "s_1AnPwF_wYx"
      },
      "source": [
        "### Data Preprocessing"
      ]
    },
    {
      "cell_type": "code",
      "metadata": {
        "colab": {
          "base_uri": "https://localhost:8080/"
        },
        "id": "6xioQ74gBBE3",
        "outputId": "a18bff2b-f0dc-4d3d-af1b-787239561fb3"
      },
      "source": [
        "col = bank_churn.select_dtypes([\"object\"])\n",
        "col.columns"
      ],
      "execution_count": 13,
      "outputs": [
        {
          "output_type": "execute_result",
          "data": {
            "text/plain": [
              "Index(['Surname', 'Geography', 'Gender'], dtype='object')"
            ]
          },
          "metadata": {},
          "execution_count": 13
        }
      ]
    },
    {
      "cell_type": "code",
      "metadata": {
        "id": "k5m9Xv2qBTsW"
      },
      "source": [
        "#Converting all objects datatypes to category datatypes\n",
        "\n",
        "for i in col.columns:\n",
        "    bank_churn[i] = bank_churn[i].astype(\"category\")"
      ],
      "execution_count": 14,
      "outputs": []
    },
    {
      "cell_type": "code",
      "metadata": {
        "id": "q0MOMP6IdJJZ"
      },
      "source": [
        "#Converting 'Hascrcard', 'IsActiveMember' to category datatypes\n",
        "\n",
        "bank_churn[\"HasCrCard\"] = bank_churn[\"HasCrCard\"].astype(\"category\")\n",
        "bank_churn[\"IsActiveMember\"] = bank_churn[\"IsActiveMember\"].astype(\"category\")"
      ],
      "execution_count": 15,
      "outputs": []
    },
    {
      "cell_type": "code",
      "metadata": {
        "id": "K8UhkapMBZVd"
      },
      "source": [
        "cat_col = bank_churn.select_dtypes([\"category\"])"
      ],
      "execution_count": 16,
      "outputs": []
    },
    {
      "cell_type": "code",
      "metadata": {
        "colab": {
          "base_uri": "https://localhost:8080/"
        },
        "id": "tYxbrwy6BctS",
        "outputId": "16c60c08-252a-424f-9ffd-7ad6793a1a8d"
      },
      "source": [
        "# Displaying unique values for category variables\n",
        "\n",
        "for i in cat_col.columns:  \n",
        "    print(\"Unique values in\", i, \"are :\")\n",
        "    print(cat_col[i].value_counts())\n",
        "    print(\"*\" * 50)"
      ],
      "execution_count": 17,
      "outputs": [
        {
          "output_type": "stream",
          "name": "stdout",
          "text": [
            "Unique values in Surname are :\n",
            "Smith        32\n",
            "Martin       29\n",
            "Scott        29\n",
            "Walker       28\n",
            "Brown        26\n",
            "             ..\n",
            "Perreault     1\n",
            "Perkin        1\n",
            "Percy         1\n",
            "Hardacre      1\n",
            "Fancher       1\n",
            "Name: Surname, Length: 2932, dtype: int64\n",
            "**************************************************\n",
            "Unique values in Geography are :\n",
            "France     5014\n",
            "Germany    2509\n",
            "Spain      2477\n",
            "Name: Geography, dtype: int64\n",
            "**************************************************\n",
            "Unique values in Gender are :\n",
            "Male      5457\n",
            "Female    4543\n",
            "Name: Gender, dtype: int64\n",
            "**************************************************\n",
            "Unique values in HasCrCard are :\n",
            "1    7055\n",
            "0    2945\n",
            "Name: HasCrCard, dtype: int64\n",
            "**************************************************\n",
            "Unique values in IsActiveMember are :\n",
            "1    5151\n",
            "0    4849\n",
            "Name: IsActiveMember, dtype: int64\n",
            "**************************************************\n"
          ]
        }
      ]
    },
    {
      "cell_type": "markdown",
      "metadata": {
        "id": "CQMWxZNpB8FJ"
      },
      "source": [
        "- There are 3 countries in the datatset with France having the highest population\n",
        "- The male customers are more than the female customers\n",
        "- There are more customers with Credit cards in the dataset\n",
        "There are more active customers in the dataset"
      ]
    },
    {
      "cell_type": "code",
      "metadata": {
        "id": "F0_2yYf7Dnda"
      },
      "source": [
        "#Dropping CustomerId and Surname from the datatset\n",
        "\n",
        "bank_churn = bank_churn.drop(['Surname', 'CustomerId'], axis = 1)"
      ],
      "execution_count": 18,
      "outputs": []
    },
    {
      "cell_type": "code",
      "metadata": {
        "colab": {
          "base_uri": "https://localhost:8080/"
        },
        "id": "TMqTS8eOEDZV",
        "outputId": "c6c0390a-afaf-4eb8-e8b2-505703f04930"
      },
      "source": [
        "bank_churn[\"Exited\"].value_counts()"
      ],
      "execution_count": 19,
      "outputs": [
        {
          "output_type": "execute_result",
          "data": {
            "text/plain": [
              "0    7963\n",
              "1    2037\n",
              "Name: Exited, dtype: int64"
            ]
          },
          "metadata": {},
          "execution_count": 19
        }
      ]
    },
    {
      "cell_type": "markdown",
      "metadata": {
        "id": "MtDyGpUPEf1N"
      },
      "source": [
        "- Most of the customers did not leave the bank"
      ]
    },
    {
      "cell_type": "markdown",
      "metadata": {
        "id": "nWe6-lYjFKWO"
      },
      "source": [
        "## Exploratory Data Analysis\n",
        "\n",
        "\n",
        "###Univariate Analysis of variables"
      ]
    },
    {
      "cell_type": "code",
      "metadata": {
        "colab": {
          "base_uri": "https://localhost:8080/"
        },
        "id": "tra2_IQFFg0c",
        "outputId": "7dd44a82-6588-4884-db08-816c96cf6b66"
      },
      "source": [
        "bank_churn.columns"
      ],
      "execution_count": 20,
      "outputs": [
        {
          "output_type": "execute_result",
          "data": {
            "text/plain": [
              "Index(['CreditScore', 'Geography', 'Gender', 'Age', 'Tenure', 'Balance',\n",
              "       'NumOfProducts', 'HasCrCard', 'IsActiveMember', 'EstimatedSalary',\n",
              "       'Exited'],\n",
              "      dtype='object')"
            ]
          },
          "metadata": {},
          "execution_count": 20
        }
      ]
    },
    {
      "cell_type": "code",
      "metadata": {
        "id": "KOL-9dbyIQ5d"
      },
      "source": [
        "corr_cols = ['CreditScore', 'Age', 'Tenure', 'Balance', 'NumOfProducts', 'EstimatedSalary']"
      ],
      "execution_count": 21,
      "outputs": []
    },
    {
      "cell_type": "code",
      "metadata": {
        "colab": {
          "base_uri": "https://localhost:8080/",
          "height": 414
        },
        "id": "ZvTI5UCRI7Ym",
        "outputId": "3096140c-7fc3-4025-c36c-f65b472b8959"
      },
      "source": [
        "plt.figure(figsize=(18, 10))\n",
        "\n",
        "pos = 1\n",
        "\n",
        "for i in corr_cols:\n",
        "\n",
        "    plt.subplot(3, 3, pos)\n",
        "\n",
        "    sns.distplot(bank_churn[i], kde=False)\n",
        "\n",
        "    pos += 1"
      ],
      "execution_count": 22,
      "outputs": [
        {
          "output_type": "display_data",
          "data": {
            "image/png": "[encoded data removed]",
            "text/plain": [
              "<Figure size 1296x720 with 6 Axes>"
            ]
          },
          "metadata": {
            "needs_background": "light"
          }
        }
      ]
    },
    {
      "cell_type": "markdown",
      "metadata": {
        "id": "UfFh-NXrkTV5"
      },
      "source": [
        "- CreditScore and Age are normally distributed\n",
        "- EstimatedSalary is uniformly distributed\n"
      ]
    },
    {
      "cell_type": "code",
      "metadata": {
        "colab": {
          "base_uri": "https://localhost:8080/",
          "height": 414
        },
        "id": "EUhoPBs4TKH9",
        "outputId": "550fd2cb-d244-4d76-da12-96b1a0c6c8f9"
      },
      "source": [
        "# Checking for Outliers\n",
        "\n",
        "plt.figure(figsize=(18, 10))\n",
        "\n",
        "pos = 1\n",
        "\n",
        "for i in corr_cols:\n",
        "\n",
        "    plt.subplot(3, 3, pos)\n",
        "\n",
        "    sns.boxplot(bank_churn[i])\n",
        "\n",
        "    pos += 1"
      ],
      "execution_count": 23,
      "outputs": [
        {
          "output_type": "display_data",
          "data": {
            "image/png": "[encoded data removed]",
            "text/plain": [
              "<Figure size 1296x720 with 6 Axes>"
            ]
          },
          "metadata": {
            "needs_background": "light"
          }
        }
      ]
    },
    {
      "cell_type": "markdown",
      "metadata": {
        "id": "zihHiLoEmwTE"
      },
      "source": [
        "There are outliers present in CreditScore, Age and NumOfProducts"
      ]
    },
    {
      "cell_type": "code",
      "metadata": {
        "id": "lMwBhSrCTWWS"
      },
      "source": [
        "# Function to create barplots that indicate percentage for each category.\n",
        "\n",
        "def perc_on_bar(plot, feature):\n",
        "    \"\"\"\n",
        "    plot\n",
        "    feature: categorical feature\n",
        "    the function won't work if a column is passed in hue parameter\n",
        "    \"\"\"\n",
        "    total = len(feature)  # length of the column\n",
        "    for p in ax.patches:\n",
        "        percentage = \"{:.1f}%\".format(\n",
        "            100 * p.get_height() / total\n",
        "        )  # percentage of each class of the category\n",
        "        x = p.get_x() + p.get_width() / 2 - 0.05  # width of the plot\n",
        "        y = p.get_y() + p.get_height()  # hieght of the plot\n",
        "        ax.annotate(percentage, (x, y), size=12)  # annotate the percantage\n",
        "    plt.show()  # show the plot"
      ],
      "execution_count": 24,
      "outputs": []
    },
    {
      "cell_type": "code",
      "metadata": {
        "colab": {
          "base_uri": "https://localhost:8080/"
        },
        "id": "Wu5nz1UpbYCI",
        "outputId": "0e964577-d93f-41f4-8f6b-ad3494ef5b8a"
      },
      "source": [
        "cat_col.columns"
      ],
      "execution_count": 25,
      "outputs": [
        {
          "output_type": "execute_result",
          "data": {
            "text/plain": [
              "Index(['Surname', 'Geography', 'Gender', 'HasCrCard', 'IsActiveMember'], dtype='object')"
            ]
          },
          "metadata": {},
          "execution_count": 25
        }
      ]
    },
    {
      "cell_type": "code",
      "metadata": {
        "colab": {
          "base_uri": "https://localhost:8080/",
          "height": 334
        },
        "id": "6N3l3SsWbaYR",
        "outputId": "cb281f57-4301-4cfa-d470-f2f1a8d2d217"
      },
      "source": [
        "plt.figure(figsize=(5, 5))\n",
        "ax = sns.countplot(bank_churn['Geography'], palette=\"winter\")\n",
        "perc_on_bar(ax, bank_churn['Geography'])"
      ],
      "execution_count": 26,
      "outputs": [
        {
          "output_type": "display_data",
          "data": {
            "image/png": "[encoded data removed]",
            "text/plain": [
              "<Figure size 360x360 with 1 Axes>"
            ]
          },
          "metadata": {
            "needs_background": "light"
          }
        }
      ]
    },
    {
      "cell_type": "code",
      "metadata": {
        "colab": {
          "base_uri": "https://localhost:8080/",
          "height": 334
        },
        "id": "tyTWYaSlj9ED",
        "outputId": "36ac70c9-cbab-4119-f7c9-8988849e5bc4"
      },
      "source": [
        "plt.figure(figsize=(5, 5))\n",
        "ax = sns.countplot(bank_churn['Gender'], palette=\"winter\")\n",
        "perc_on_bar(ax, bank_churn['Gender'])"
      ],
      "execution_count": 27,
      "outputs": [
        {
          "output_type": "display_data",
          "data": {
            "image/png": "[encoded data removed]",
            "text/plain": [
              "<Figure size 360x360 with 1 Axes>"
            ]
          },
          "metadata": {
            "needs_background": "light"
          }
        }
      ]
    },
    {
      "cell_type": "code",
      "metadata": {
        "colab": {
          "base_uri": "https://localhost:8080/",
          "height": 334
        },
        "id": "6s3TXALtkC0e",
        "outputId": "1fb49c5e-fb50-43dc-a0a3-f0f57f6a3ad7"
      },
      "source": [
        "plt.figure(figsize=(5, 5))\n",
        "ax = sns.countplot(bank_churn['HasCrCard'], palette=\"winter\")\n",
        "perc_on_bar(ax, bank_churn['HasCrCard'])"
      ],
      "execution_count": 28,
      "outputs": [
        {
          "output_type": "display_data",
          "data": {
            "image/png": "[encoded data removed]",
            "text/plain": [
              "<Figure size 360x360 with 1 Axes>"
            ]
          },
          "metadata": {
            "needs_background": "light"
          }
        }
      ]
    },
    {
      "cell_type": "code",
      "metadata": {
        "colab": {
          "base_uri": "https://localhost:8080/",
          "height": 334
        },
        "id": "VbGLvT_ekJOj",
        "outputId": "445c0958-086d-428a-bfa1-dd79251b59fc"
      },
      "source": [
        "plt.figure(figsize=(5, 5))\n",
        "ax = sns.countplot(bank_churn['IsActiveMember'], palette=\"winter\")\n",
        "perc_on_bar(ax, bank_churn['IsActiveMember'])"
      ],
      "execution_count": 29,
      "outputs": [
        {
          "output_type": "display_data",
          "data": {
            "image/png": "[encoded data removed]",
            "text/plain": [
              "<Figure size 360x360 with 1 Axes>"
            ]
          },
          "metadata": {
            "needs_background": "light"
          }
        }
      ]
    },
    {
      "cell_type": "code",
      "metadata": {
        "colab": {
          "base_uri": "https://localhost:8080/",
          "height": 334
        },
        "id": "5KBPjOdmm93i",
        "outputId": "d61d2e24-6411-4e98-d722-d80ee52e4e51"
      },
      "source": [
        "plt.figure(figsize=(5, 5))\n",
        "ax = sns.countplot(bank_churn['Exited'], palette=\"winter\")\n",
        "perc_on_bar(ax, bank_churn['Exited'])"
      ],
      "execution_count": 30,
      "outputs": [
        {
          "output_type": "display_data",
          "data": {
            "image/png": "[encoded data removed]",
            "text/plain": [
              "<Figure size 360x360 with 1 Axes>"
            ]
          },
          "metadata": {
            "needs_background": "light"
          }
        }
      ]
    },
    {
      "cell_type": "markdown",
      "metadata": {
        "id": "AJ7RikC8nNov"
      },
      "source": [
        "## Bivariate Analysis and Multivariate Analysis"
      ]
    },
    {
      "cell_type": "code",
      "metadata": {
        "colab": {
          "base_uri": "https://localhost:8080/",
          "height": 143
        },
        "id": "78liNR4myx_c",
        "outputId": "21ae82e7-4f4f-4b77-9bf8-400a49cd6337"
      },
      "source": [
        "# Grouping Exited variables by mean\n",
        "bank_churn.groupby('Exited').mean()"
      ],
      "execution_count": 31,
      "outputs": [
        {
          "output_type": "execute_result",
          "data": {
            "text/html": [
              "<div>\n",
              "<style scoped>\n",
              "    .dataframe tbody tr th:only-of-type {\n",
              "        vertical-align: middle;\n",
              "    }\n",
              "\n",
              "    .dataframe tbody tr th {\n",
              "        vertical-align: top;\n",
              "    }\n",
              "\n",
              "    .dataframe thead th {\n",
              "        text-align: right;\n",
              "    }\n",
              "</style>\n",
              "<table border=\"1\" class=\"dataframe\">\n",
              "  <thead>\n",
              "    <tr style=\"text-align: right;\">\n",
              "      <th></th>\n",
              "      <th>CreditScore</th>\n",
              "      <th>Age</th>\n",
              "      <th>Tenure</th>\n",
              "      <th>Balance</th>\n",
              "      <th>NumOfProducts</th>\n",
              "      <th>EstimatedSalary</th>\n",
              "    </tr>\n",
              "    <tr>\n",
              "      <th>Exited</th>\n",
              "      <th></th>\n",
              "      <th></th>\n",
              "      <th></th>\n",
              "      <th></th>\n",
              "      <th></th>\n",
              "      <th></th>\n",
              "    </tr>\n",
              "  </thead>\n",
              "  <tbody>\n",
              "    <tr>\n",
              "      <th>0</th>\n",
              "      <td>651.853196</td>\n",
              "      <td>37.408389</td>\n",
              "      <td>5.033279</td>\n",
              "      <td>72745.296779</td>\n",
              "      <td>1.544267</td>\n",
              "      <td>99738.391772</td>\n",
              "    </tr>\n",
              "    <tr>\n",
              "      <th>1</th>\n",
              "      <td>645.351497</td>\n",
              "      <td>44.837997</td>\n",
              "      <td>4.932744</td>\n",
              "      <td>91108.539337</td>\n",
              "      <td>1.475209</td>\n",
              "      <td>101465.677531</td>\n",
              "    </tr>\n",
              "  </tbody>\n",
              "</table>\n",
              "</div>"
            ],
            "text/plain": [
              "        CreditScore        Age  ...  NumOfProducts  EstimatedSalary\n",
              "Exited                          ...                                \n",
              "0        651.853196  37.408389  ...       1.544267     99738.391772\n",
              "1        645.351497  44.837997  ...       1.475209    101465.677531\n",
              "\n",
              "[2 rows x 6 columns]"
            ]
          },
          "metadata": {},
          "execution_count": 31
        }
      ]
    },
    {
      "cell_type": "code",
      "metadata": {
        "colab": {
          "base_uri": "https://localhost:8080/",
          "height": 541
        },
        "id": "I5K564PFnR3b",
        "outputId": "cd5604f2-6dd7-4614-b98c-690c64a91b62"
      },
      "source": [
        "plt.figure(figsize=(15, 9))\n",
        "\n",
        "sns.heatmap(\n",
        "    bank_churn[corr_cols].corr(), annot=True, vmin=-1, vmax=1, fmt=\".2f\", cmap=\"Spectral\"\n",
        ")\n",
        "plt.show()"
      ],
      "execution_count": 32,
      "outputs": [
        {
          "output_type": "display_data",
          "data": {
            "image/png": "[encoded data removed]",
            "text/plain": [
              "<Figure size 1080x648 with 2 Axes>"
            ]
          },
          "metadata": {
            "needs_background": "light"
          }
        }
      ]
    },
    {
      "cell_type": "code",
      "metadata": {
        "id": "MSF13xTrnXSo"
      },
      "source": [
        "# function to plot stacked bar chart\n",
        "\n",
        "def stacked_barplot(data, predictor, target):\n",
        "    \"\"\"\n",
        "    Print the category counts and plot a stacked bar chart\n",
        "\n",
        "    data: dataframe\n",
        "    predictor: independent variable\n",
        "    target: target variable\n",
        "    \"\"\"\n",
        "    count = data[predictor].nunique()\n",
        "    sorter = data[target].value_counts().index[-1]\n",
        "    tab1 = pd.crosstab(data[predictor], data[target], margins=True).sort_values(\n",
        "        by=sorter, ascending=False\n",
        "    )\n",
        "    print(tab1)\n",
        "    print(\"-\" * 120)\n",
        "    tab = pd.crosstab(data[predictor], data[target], normalize=\"index\").sort_values(\n",
        "        by=sorter, ascending=False\n",
        "    )\n",
        "    tab.plot(kind=\"bar\", stacked=True, figsize=(10, 5))\n",
        "    plt.legend(\n",
        "        loc=\"lower left\",\n",
        "        frameon=False,\n",
        "    )\n",
        "    plt.legend(loc=\"upper left\", bbox_to_anchor=(1, 1))\n",
        "    plt.show()"
      ],
      "execution_count": 33,
      "outputs": []
    },
    {
      "cell_type": "code",
      "metadata": {
        "colab": {
          "base_uri": "https://localhost:8080/"
        },
        "id": "luq-CNCUUHDx",
        "outputId": "11ce8814-7bf5-4e1f-d763-691a987538c5"
      },
      "source": [
        "bank_churn.columns"
      ],
      "execution_count": 34,
      "outputs": [
        {
          "output_type": "execute_result",
          "data": {
            "text/plain": [
              "Index(['CreditScore', 'Geography', 'Gender', 'Age', 'Tenure', 'Balance',\n",
              "       'NumOfProducts', 'HasCrCard', 'IsActiveMember', 'EstimatedSalary',\n",
              "       'Exited'],\n",
              "      dtype='object')"
            ]
          },
          "metadata": {},
          "execution_count": 34
        }
      ]
    },
    {
      "cell_type": "code",
      "metadata": {
        "colab": {
          "base_uri": "https://localhost:8080/",
          "height": 491
        },
        "id": "CXc4ymI6npyv",
        "outputId": "8a8af612-09ed-43f4-8f60-309dec20941c"
      },
      "source": [
        "stacked_barplot(bank_churn, \"Geography\", \"Exited\")"
      ],
      "execution_count": 35,
      "outputs": [
        {
          "output_type": "stream",
          "name": "stdout",
          "text": [
            "Exited        0     1    All\n",
            "Geography                   \n",
            "All        7963  2037  10000\n",
            "Germany    1695   814   2509\n",
            "France     4204   810   5014\n",
            "Spain      2064   413   2477\n",
            "------------------------------------------------------------------------------------------------------------------------\n"
          ]
        },
        {
          "output_type": "display_data",
          "data": {
            "image/png": "[encoded data removed]",
            "text/plain": [
              "<Figure size 720x360 with 1 Axes>"
            ]
          },
          "metadata": {
            "needs_background": "light"
          }
        }
      ]
    },
    {
      "cell_type": "code",
      "metadata": {
        "colab": {
          "base_uri": "https://localhost:8080/",
          "height": 464
        },
        "id": "Q0b4GehDU1ac",
        "outputId": "1f99ccb7-1499-4935-c381-ad5b966defcd"
      },
      "source": [
        "stacked_barplot(bank_churn, \"Gender\", \"Exited\")"
      ],
      "execution_count": 36,
      "outputs": [
        {
          "output_type": "stream",
          "name": "stdout",
          "text": [
            "Exited     0     1    All\n",
            "Gender                   \n",
            "All     7963  2037  10000\n",
            "Female  3404  1139   4543\n",
            "Male    4559   898   5457\n",
            "------------------------------------------------------------------------------------------------------------------------\n"
          ]
        },
        {
          "output_type": "display_data",
          "data": {
            "image/png": "[encoded data removed]",
            "text/plain": [
              "<Figure size 720x360 with 1 Axes>"
            ]
          },
          "metadata": {
            "needs_background": "light"
          }
        }
      ]
    },
    {
      "cell_type": "code",
      "metadata": {
        "colab": {
          "base_uri": "https://localhost:8080/",
          "height": 596
        },
        "id": "3FBCWg6hnqA9",
        "outputId": "11be69ef-636c-4c94-8a2e-40657b986eb5"
      },
      "source": [
        "stacked_barplot(bank_churn, \"Tenure\", \"Exited\")"
      ],
      "execution_count": 37,
      "outputs": [
        {
          "output_type": "stream",
          "name": "stdout",
          "text": [
            "Exited     0     1    All\n",
            "Tenure                   \n",
            "All     7963  2037  10000\n",
            "1        803   232   1035\n",
            "3        796   213   1009\n",
            "9        771   213    984\n",
            "5        803   209   1012\n",
            "4        786   203    989\n",
            "2        847   201   1048\n",
            "8        828   197   1025\n",
            "6        771   196    967\n",
            "7        851   177   1028\n",
            "10       389   101    490\n",
            "0        318    95    413\n",
            "------------------------------------------------------------------------------------------------------------------------\n"
          ]
        },
        {
          "output_type": "display_data",
          "data": {
            "image/png": "[encoded data removed]",
            "text/plain": [
              "<Figure size 720x360 with 1 Axes>"
            ]
          },
          "metadata": {
            "needs_background": "light"
          }
        }
      ]
    },
    {
      "cell_type": "code",
      "metadata": {
        "colab": {
          "base_uri": "https://localhost:8080/",
          "height": 469
        },
        "id": "LdEBwFignqPG",
        "outputId": "9bc38bb6-a73b-4fb6-e759-ea7a309ace60"
      },
      "source": [
        "stacked_barplot(bank_churn, \"NumOfProducts\", \"Exited\")"
      ],
      "execution_count": 38,
      "outputs": [
        {
          "output_type": "stream",
          "name": "stdout",
          "text": [
            "Exited            0     1    All\n",
            "NumOfProducts                   \n",
            "All            7963  2037  10000\n",
            "1              3675  1409   5084\n",
            "2              4242   348   4590\n",
            "3                46   220    266\n",
            "4                 0    60     60\n",
            "------------------------------------------------------------------------------------------------------------------------\n"
          ]
        },
        {
          "output_type": "display_data",
          "data": {
            "image/png": "[encoded data removed]",
            "text/plain": [
              "<Figure size 720x360 with 1 Axes>"
            ]
          },
          "metadata": {
            "needs_background": "light"
          }
        }
      ]
    },
    {
      "cell_type": "code",
      "metadata": {
        "colab": {
          "base_uri": "https://localhost:8080/",
          "height": 434
        },
        "id": "2WipBrTDnqYR",
        "outputId": "b82a79f7-d2cc-4c6a-f64c-7f046b22ddea"
      },
      "source": [
        "stacked_barplot(bank_churn, \"HasCrCard\", \"Exited\")"
      ],
      "execution_count": 39,
      "outputs": [
        {
          "output_type": "stream",
          "name": "stdout",
          "text": [
            "Exited        0     1    All\n",
            "HasCrCard                   \n",
            "All        7963  2037  10000\n",
            "1          5631  1424   7055\n",
            "0          2332   613   2945\n",
            "------------------------------------------------------------------------------------------------------------------------\n"
          ]
        },
        {
          "output_type": "display_data",
          "data": {
            "image/png": "[encoded data removed]",
            "text/plain": [
              "<Figure size 720x360 with 1 Axes>"
            ]
          },
          "metadata": {
            "needs_background": "light"
          }
        }
      ]
    },
    {
      "cell_type": "code",
      "metadata": {
        "colab": {
          "base_uri": "https://localhost:8080/",
          "height": 434
        },
        "id": "ordQsyJcnqh4",
        "outputId": "36abfa9a-948b-4f5f-c05f-d3d2e840025a"
      },
      "source": [
        "stacked_barplot(bank_churn, \"IsActiveMember\", \"Exited\")"
      ],
      "execution_count": 40,
      "outputs": [
        {
          "output_type": "stream",
          "name": "stdout",
          "text": [
            "Exited             0     1    All\n",
            "IsActiveMember                   \n",
            "All             7963  2037  10000\n",
            "0               3547  1302   4849\n",
            "1               4416   735   5151\n",
            "------------------------------------------------------------------------------------------------------------------------\n"
          ]
        },
        {
          "output_type": "display_data",
          "data": {
            "image/png": "[encoded data removed]",
            "text/plain": [
              "<Figure size 720x360 with 1 Axes>"
            ]
          },
          "metadata": {
            "needs_background": "light"
          }
        }
      ]
    },
    {
      "cell_type": "markdown",
      "metadata": {
        "id": "FpQ5QbHc2Z5D"
      },
      "source": [
        "## Data pre-processing"
      ]
    },
    {
      "cell_type": "code",
      "metadata": {
        "id": "W3JERcDH14q1"
      },
      "source": [
        "# Creating dummy variables using One-Hot Encoding\n",
        "bank_churn = pd.get_dummies(bank_churn,drop_first=True)"
      ],
      "execution_count": 41,
      "outputs": []
    },
    {
      "cell_type": "code",
      "metadata": {
        "id": "lkXdmYV23POF"
      },
      "source": [
        "# Splitting target and input variables\n",
        "X = bank_churn.drop('Exited', axis=1)\n",
        "y = bank_churn['Exited']"
      ],
      "execution_count": 42,
      "outputs": []
    },
    {
      "cell_type": "code",
      "metadata": {
        "colab": {
          "base_uri": "https://localhost:8080/"
        },
        "id": "pQ-Fb0sZ3U_u",
        "outputId": "3aaae7b2-f2ff-4fa1-878b-32ae67b8bdc1"
      },
      "source": [
        "# Splitting data into training, validation and test set:\n",
        "\n",
        "X_temp, X_test, y_temp, y_test = train_test_split(\n",
        "    X, y, test_size=0.2, random_state=1, stratify=y\n",
        ")\n",
        "\n",
        "X_train, X_val, y_train, y_val = train_test_split(\n",
        "    X_temp, y_temp, test_size=0.25, random_state=1, stratify=y_temp\n",
        ")\n",
        "print(X_train.shape, X_val.shape, X_test.shape)"
      ],
      "execution_count": 43,
      "outputs": [
        {
          "output_type": "stream",
          "name": "stdout",
          "text": [
            "(6000, 11) (2000, 11) (2000, 11)\n"
          ]
        }
      ]
    },
    {
      "cell_type": "code",
      "metadata": {
        "colab": {
          "base_uri": "https://localhost:8080/"
        },
        "id": "YEIGAtxk3cAk",
        "outputId": "be18141c-ad22-4b47-8ddb-a2adbf4cf945"
      },
      "source": [
        "print(\"Number of rows in train data is\", X_train.shape[0])\n",
        "print(\"Number of rows in validation data is\", X_val.shape[0])\n",
        "print(\"Number of rows in test data is\", X_test.shape[0])"
      ],
      "execution_count": 44,
      "outputs": [
        {
          "output_type": "stream",
          "name": "stdout",
          "text": [
            "Number of rows in train data is 6000\n",
            "Number of rows in validation data is 2000\n",
            "Number of rows in test data is 2000\n"
          ]
        }
      ]
    },
    {
      "cell_type": "code",
      "metadata": {
        "id": "2znhSRsq3hLW"
      },
      "source": [
        "# Scaling the data using sklearn standard scaler\n",
        "Sc_X = StandardScaler()\n",
        "X_train = Sc_X.fit_transform(X_train)\n",
        "X_val = Sc_X.transform(X_val)\n",
        "X_test = Sc_X.transform(X_test)"
      ],
      "execution_count": 45,
      "outputs": []
    },
    {
      "cell_type": "markdown",
      "metadata": {
        "id": "evY7gUn0cd6d"
      },
      "source": [
        "## Building the model"
      ]
    },
    {
      "cell_type": "code",
      "metadata": {
        "id": "k74t9yBwcgcz"
      },
      "source": [
        "#initialize the model\n",
        "bank_model = Sequential()"
      ],
      "execution_count": 46,
      "outputs": []
    },
    {
      "cell_type": "markdown",
      "metadata": {
        "id": "8v5b8zN_q7vR"
      },
      "source": [
        "- Keras layers can be added to the model\n",
        "- For the input and hidden layers we will use the ReLU function for activation while we will use the Sigmoid function for the ouput layer in order to get a probability ranging from 0 to 1.It should be noted that as this is a classification problem, sigmoid layer is used"
      ]
    },
    {
      "cell_type": "code",
      "metadata": {
        "id": "cyKZZQ2Yc1iP"
      },
      "source": [
        "# Input layer with 20 neurons connected an input of 11 columns\n",
        "bank_model.add(Dense(units=20, input_dim = 11, activation='relu'))\n",
        "\n",
        "# Hidden layer with 5 neurons\n",
        "bank_model.add(Dense(units=5,activation='relu'))\n",
        "\n",
        "# Output layer with 1 neuron\n",
        "bank_model.add(Dense(1,activation='sigmoid'))"
      ],
      "execution_count": 47,
      "outputs": []
    },
    {
      "cell_type": "code",
      "metadata": {
        "id": "bZsF4NAutqm5"
      },
      "source": [
        "# Metrics definition in Keras in order to compute accuracy, precision and recall\n",
        "METRICS = [ \n",
        "      tf.keras.metrics.BinaryAccuracy(name='accuracy'),\n",
        "      tf.keras.metrics.Precision(name='precision'),\n",
        "      tf.keras.metrics.Recall(name='recall'),\n",
        "]"
      ],
      "execution_count": 48,
      "outputs": []
    },
    {
      "cell_type": "code",
      "metadata": {
        "id": "MVZZBsO8t6Sn"
      },
      "source": [
        "# Use Adam optimizer with default learning rate and binary_crossentropy loss function\n",
        "bank_model.compile(optimizer='adam',loss='binary_crossentropy',metrics=METRICS)"
      ],
      "execution_count": 49,
      "outputs": []
    },
    {
      "cell_type": "code",
      "metadata": {
        "colab": {
          "base_uri": "https://localhost:8080/"
        },
        "id": "4p2ZwvJRuXeE",
        "outputId": "98b9d57a-3ff3-4c77-a0c8-e1e2ade6d3e6"
      },
      "source": [
        "# Model Summary\n",
        "\n",
        "bank_model.summary()"
      ],
      "execution_count": 50,
      "outputs": [
        {
          "output_type": "stream",
          "name": "stdout",
          "text": [
            "Model: \"sequential\"\n",
            "_________________________________________________________________\n",
            "Layer (type)                 Output Shape              Param #   \n",
            "=================================================================\n",
            "dense (Dense)                (None, 20)                240       \n",
            "_________________________________________________________________\n",
            "dense_1 (Dense)              (None, 5)                 105       \n",
            "_________________________________________________________________\n",
            "dense_2 (Dense)              (None, 1)                 6         \n",
            "=================================================================\n",
            "Total params: 351\n",
            "Trainable params: 351\n",
            "Non-trainable params: 0\n",
            "_________________________________________________________________\n"
          ]
        }
      ]
    },
    {
      "cell_type": "markdown",
      "metadata": {
        "id": "CtBsDxYtO0jL"
      },
      "source": [
        "- The model has a total of 351 parameters including weights and biases"
      ]
    },
    {
      "cell_type": "code",
      "metadata": {
        "id": "LtLts8CGuYUk"
      },
      "source": [
        ""
      ],
      "execution_count": 50,
      "outputs": []
    },
    {
      "cell_type": "code",
      "metadata": {
        "colab": {
          "base_uri": "https://localhost:8080/"
        },
        "id": "igpqLi1w0f2V",
        "outputId": "a92c3af6-a3d7-45fe-d8bd-10a4161d0144"
      },
      "source": [
        "#fitting the model\n",
        "\n",
        "history = bank_model.fit(X_train,y_train,epochs=100,validation_split=0.2)"
      ],
      "execution_count": 51,
      "outputs": [
        {
          "output_type": "stream",
          "name": "stdout",
          "text": [
            "Epoch 1/100\n",
            "150/150 [==============================] - 2s 5ms/step - loss: 0.7027 - accuracy: 0.5942 - precision: 0.2017 - recall: 0.3374 - val_loss: 0.5336 - val_accuracy: 0.7933 - val_precision: 0.4706 - val_recall: 0.0324\n",
            "Epoch 2/100\n",
            "150/150 [==============================] - 0s 2ms/step - loss: 0.4940 - accuracy: 0.7977 - precision: 0.6429 - recall: 0.0092 - val_loss: 0.4502 - val_accuracy: 0.8025 - val_precision: 1.0000 - val_recall: 0.0405\n",
            "Epoch 3/100\n",
            "150/150 [==============================] - 0s 2ms/step - loss: 0.4501 - accuracy: 0.8021 - precision: 0.6923 - recall: 0.0462 - val_loss: 0.4184 - val_accuracy: 0.8192 - val_precision: 0.8409 - val_recall: 0.1498\n",
            "Epoch 4/100\n",
            "150/150 [==============================] - 0s 2ms/step - loss: 0.4297 - accuracy: 0.8133 - precision: 0.7158 - recall: 0.1344 - val_loss: 0.4020 - val_accuracy: 0.8292 - val_precision: 0.7625 - val_recall: 0.2470\n",
            "Epoch 5/100\n",
            "150/150 [==============================] - 0s 2ms/step - loss: 0.4145 - accuracy: 0.8181 - precision: 0.6624 - recall: 0.2133 - val_loss: 0.3889 - val_accuracy: 0.8342 - val_precision: 0.7353 - val_recall: 0.3036\n",
            "Epoch 6/100\n",
            "150/150 [==============================] - 0s 2ms/step - loss: 0.4008 - accuracy: 0.8260 - precision: 0.6872 - recall: 0.2636 - val_loss: 0.3752 - val_accuracy: 0.8383 - val_precision: 0.7387 - val_recall: 0.3320\n",
            "Epoch 7/100\n",
            "150/150 [==============================] - 0s 2ms/step - loss: 0.3872 - accuracy: 0.8375 - precision: 0.7231 - recall: 0.3241 - val_loss: 0.3641 - val_accuracy: 0.8458 - val_precision: 0.7460 - val_recall: 0.3806\n",
            "Epoch 8/100\n",
            "150/150 [==============================] - 0s 2ms/step - loss: 0.3751 - accuracy: 0.8423 - precision: 0.7224 - recall: 0.3631 - val_loss: 0.3550 - val_accuracy: 0.8475 - val_precision: 0.7254 - val_recall: 0.4170\n",
            "Epoch 9/100\n",
            "150/150 [==============================] - 0s 2ms/step - loss: 0.3655 - accuracy: 0.8479 - precision: 0.7316 - recall: 0.3969 - val_loss: 0.3453 - val_accuracy: 0.8550 - val_precision: 0.7704 - val_recall: 0.4211\n",
            "Epoch 10/100\n",
            "150/150 [==============================] - 0s 2ms/step - loss: 0.3583 - accuracy: 0.8515 - precision: 0.7373 - recall: 0.4174 - val_loss: 0.3414 - val_accuracy: 0.8592 - val_precision: 0.7671 - val_recall: 0.4534\n",
            "Epoch 11/100\n",
            "150/150 [==============================] - 0s 2ms/step - loss: 0.3526 - accuracy: 0.8558 - precision: 0.7522 - recall: 0.4328 - val_loss: 0.3350 - val_accuracy: 0.8608 - val_precision: 0.7985 - val_recall: 0.4332\n",
            "Epoch 12/100\n",
            "150/150 [==============================] - 0s 2ms/step - loss: 0.3491 - accuracy: 0.8569 - precision: 0.7535 - recall: 0.4390 - val_loss: 0.3341 - val_accuracy: 0.8633 - val_precision: 0.7943 - val_recall: 0.4534\n",
            "Epoch 13/100\n",
            "150/150 [==============================] - 0s 2ms/step - loss: 0.3458 - accuracy: 0.8583 - precision: 0.7539 - recall: 0.4492 - val_loss: 0.3321 - val_accuracy: 0.8625 - val_precision: 0.8203 - val_recall: 0.4251\n",
            "Epoch 14/100\n",
            "150/150 [==============================] - 0s 2ms/step - loss: 0.3439 - accuracy: 0.8575 - precision: 0.7650 - recall: 0.4308 - val_loss: 0.3301 - val_accuracy: 0.8633 - val_precision: 0.7986 - val_recall: 0.4494\n",
            "Epoch 15/100\n",
            "150/150 [==============================] - 0s 3ms/step - loss: 0.3418 - accuracy: 0.8592 - precision: 0.7547 - recall: 0.4544 - val_loss: 0.3297 - val_accuracy: 0.8667 - val_precision: 0.8222 - val_recall: 0.4494\n",
            "Epoch 16/100\n",
            "150/150 [==============================] - 0s 2ms/step - loss: 0.3406 - accuracy: 0.8594 - precision: 0.7622 - recall: 0.4472 - val_loss: 0.3287 - val_accuracy: 0.8600 - val_precision: 0.7548 - val_recall: 0.4737\n",
            "Epoch 17/100\n",
            "150/150 [==============================] - 0s 2ms/step - loss: 0.3386 - accuracy: 0.8606 - precision: 0.7602 - recall: 0.4585 - val_loss: 0.3287 - val_accuracy: 0.8608 - val_precision: 0.7632 - val_recall: 0.4696\n",
            "Epoch 18/100\n",
            "150/150 [==============================] - 0s 2ms/step - loss: 0.3380 - accuracy: 0.8625 - precision: 0.7768 - recall: 0.4533 - val_loss: 0.3264 - val_accuracy: 0.8600 - val_precision: 0.7582 - val_recall: 0.4696\n",
            "Epoch 19/100\n",
            "150/150 [==============================] - 0s 2ms/step - loss: 0.3369 - accuracy: 0.8631 - precision: 0.7695 - recall: 0.4656 - val_loss: 0.3261 - val_accuracy: 0.8600 - val_precision: 0.7516 - val_recall: 0.4777\n",
            "Epoch 20/100\n",
            "150/150 [==============================] - 0s 2ms/step - loss: 0.3358 - accuracy: 0.8590 - precision: 0.7614 - recall: 0.4451 - val_loss: 0.3263 - val_accuracy: 0.8625 - val_precision: 0.7531 - val_recall: 0.4939\n",
            "Epoch 21/100\n",
            "150/150 [==============================] - 0s 2ms/step - loss: 0.3352 - accuracy: 0.8652 - precision: 0.7789 - recall: 0.4697 - val_loss: 0.3235 - val_accuracy: 0.8658 - val_precision: 0.7867 - val_recall: 0.4777\n",
            "Epoch 22/100\n",
            "150/150 [==============================] - 0s 2ms/step - loss: 0.3342 - accuracy: 0.8650 - precision: 0.7873 - recall: 0.4595 - val_loss: 0.3236 - val_accuracy: 0.8633 - val_precision: 0.7748 - val_recall: 0.4737\n",
            "Epoch 23/100\n",
            "150/150 [==============================] - 0s 2ms/step - loss: 0.3342 - accuracy: 0.8631 - precision: 0.7732 - recall: 0.4615 - val_loss: 0.3229 - val_accuracy: 0.8592 - val_precision: 0.7349 - val_recall: 0.4939\n",
            "Epoch 24/100\n",
            "150/150 [==============================] - 0s 2ms/step - loss: 0.3322 - accuracy: 0.8660 - precision: 0.7842 - recall: 0.4697 - val_loss: 0.3267 - val_accuracy: 0.8617 - val_precision: 0.7263 - val_recall: 0.5263\n",
            "Epoch 25/100\n",
            "150/150 [==============================] - 0s 3ms/step - loss: 0.3329 - accuracy: 0.8654 - precision: 0.7774 - recall: 0.4728 - val_loss: 0.3225 - val_accuracy: 0.8625 - val_precision: 0.7563 - val_recall: 0.4899\n",
            "Epoch 26/100\n",
            "150/150 [==============================] - 0s 2ms/step - loss: 0.3312 - accuracy: 0.8681 - precision: 0.8000 - recall: 0.4677 - val_loss: 0.3235 - val_accuracy: 0.8575 - val_precision: 0.7289 - val_recall: 0.4899\n",
            "Epoch 27/100\n",
            "150/150 [==============================] - 0s 2ms/step - loss: 0.3309 - accuracy: 0.8656 - precision: 0.7619 - recall: 0.4923 - val_loss: 0.3234 - val_accuracy: 0.8633 - val_precision: 0.7902 - val_recall: 0.4575\n",
            "Epoch 28/100\n",
            "150/150 [==============================] - 0s 2ms/step - loss: 0.3307 - accuracy: 0.8662 - precision: 0.7916 - recall: 0.4636 - val_loss: 0.3230 - val_accuracy: 0.8617 - val_precision: 0.7396 - val_recall: 0.5061\n",
            "Epoch 29/100\n",
            "150/150 [==============================] - 0s 3ms/step - loss: 0.3295 - accuracy: 0.8677 - precision: 0.7742 - recall: 0.4923 - val_loss: 0.3232 - val_accuracy: 0.8675 - val_precision: 0.7973 - val_recall: 0.4777\n",
            "Epoch 30/100\n",
            "150/150 [==============================] - 0s 2ms/step - loss: 0.3297 - accuracy: 0.8642 - precision: 0.7838 - recall: 0.4574 - val_loss: 0.3233 - val_accuracy: 0.8625 - val_precision: 0.7500 - val_recall: 0.4980\n",
            "Epoch 31/100\n",
            "150/150 [==============================] - 0s 2ms/step - loss: 0.3289 - accuracy: 0.8627 - precision: 0.7660 - recall: 0.4667 - val_loss: 0.3231 - val_accuracy: 0.8633 - val_precision: 0.7748 - val_recall: 0.4737\n",
            "Epoch 32/100\n",
            "150/150 [==============================] - 0s 2ms/step - loss: 0.3286 - accuracy: 0.8671 - precision: 0.7822 - recall: 0.4790 - val_loss: 0.3232 - val_accuracy: 0.8633 - val_precision: 0.7785 - val_recall: 0.4696\n",
            "Epoch 33/100\n",
            "150/150 [==============================] - 0s 2ms/step - loss: 0.3285 - accuracy: 0.8648 - precision: 0.7772 - recall: 0.4687 - val_loss: 0.3217 - val_accuracy: 0.8658 - val_precision: 0.7867 - val_recall: 0.4777\n",
            "Epoch 34/100\n",
            "150/150 [==============================] - 0s 2ms/step - loss: 0.3277 - accuracy: 0.8660 - precision: 0.7712 - recall: 0.4841 - val_loss: 0.3244 - val_accuracy: 0.8642 - val_precision: 0.7838 - val_recall: 0.4696\n",
            "Epoch 35/100\n",
            "150/150 [==============================] - 0s 3ms/step - loss: 0.3270 - accuracy: 0.8660 - precision: 0.7842 - recall: 0.4697 - val_loss: 0.3232 - val_accuracy: 0.8642 - val_precision: 0.7838 - val_recall: 0.4696\n",
            "Epoch 36/100\n",
            "150/150 [==============================] - 0s 2ms/step - loss: 0.3270 - accuracy: 0.8656 - precision: 0.7778 - recall: 0.4738 - val_loss: 0.3226 - val_accuracy: 0.8583 - val_precision: 0.7362 - val_recall: 0.4858\n",
            "Epoch 37/100\n",
            "150/150 [==============================] - 0s 2ms/step - loss: 0.3265 - accuracy: 0.8669 - precision: 0.7838 - recall: 0.4759 - val_loss: 0.3231 - val_accuracy: 0.8625 - val_precision: 0.7770 - val_recall: 0.4656\n",
            "Epoch 38/100\n",
            "150/150 [==============================] - 0s 2ms/step - loss: 0.3261 - accuracy: 0.8675 - precision: 0.7839 - recall: 0.4800 - val_loss: 0.3235 - val_accuracy: 0.8592 - val_precision: 0.7566 - val_recall: 0.4656\n",
            "Epoch 39/100\n",
            "150/150 [==============================] - 0s 2ms/step - loss: 0.3258 - accuracy: 0.8660 - precision: 0.7842 - recall: 0.4697 - val_loss: 0.3250 - val_accuracy: 0.8608 - val_precision: 0.7500 - val_recall: 0.4858\n",
            "Epoch 40/100\n",
            "150/150 [==============================] - 0s 2ms/step - loss: 0.3253 - accuracy: 0.8677 - precision: 0.7824 - recall: 0.4831 - val_loss: 0.3237 - val_accuracy: 0.8625 - val_precision: 0.7697 - val_recall: 0.4737\n",
            "Epoch 41/100\n",
            "150/150 [==============================] - 0s 2ms/step - loss: 0.3252 - accuracy: 0.8644 - precision: 0.7746 - recall: 0.4687 - val_loss: 0.3229 - val_accuracy: 0.8625 - val_precision: 0.7662 - val_recall: 0.4777\n",
            "Epoch 42/100\n",
            "150/150 [==============================] - 0s 2ms/step - loss: 0.3249 - accuracy: 0.8667 - precision: 0.7815 - recall: 0.4769 - val_loss: 0.3235 - val_accuracy: 0.8608 - val_precision: 0.7532 - val_recall: 0.4818\n",
            "Epoch 43/100\n",
            "150/150 [==============================] - 0s 2ms/step - loss: 0.3240 - accuracy: 0.8673 - precision: 0.7798 - recall: 0.4831 - val_loss: 0.3242 - val_accuracy: 0.8617 - val_precision: 0.7718 - val_recall: 0.4656\n",
            "Epoch 44/100\n",
            "150/150 [==============================] - 0s 3ms/step - loss: 0.3239 - accuracy: 0.8675 - precision: 0.7868 - recall: 0.4769 - val_loss: 0.3239 - val_accuracy: 0.8592 - val_precision: 0.7468 - val_recall: 0.4777\n",
            "Epoch 45/100\n",
            "150/150 [==============================] - 0s 2ms/step - loss: 0.3236 - accuracy: 0.8654 - precision: 0.7783 - recall: 0.4718 - val_loss: 0.3227 - val_accuracy: 0.8592 - val_precision: 0.7468 - val_recall: 0.4777\n",
            "Epoch 46/100\n",
            "150/150 [==============================] - 0s 2ms/step - loss: 0.3229 - accuracy: 0.8665 - precision: 0.7685 - recall: 0.4903 - val_loss: 0.3233 - val_accuracy: 0.8633 - val_precision: 0.7785 - val_recall: 0.4696\n",
            "Epoch 47/100\n",
            "150/150 [==============================] - 0s 2ms/step - loss: 0.3236 - accuracy: 0.8665 - precision: 0.7783 - recall: 0.4790 - val_loss: 0.3253 - val_accuracy: 0.8642 - val_precision: 0.7763 - val_recall: 0.4777\n",
            "Epoch 48/100\n",
            "150/150 [==============================] - 0s 2ms/step - loss: 0.3227 - accuracy: 0.8648 - precision: 0.7655 - recall: 0.4821 - val_loss: 0.3257 - val_accuracy: 0.8650 - val_precision: 0.7607 - val_recall: 0.5020\n",
            "Epoch 49/100\n",
            "150/150 [==============================] - 0s 2ms/step - loss: 0.3231 - accuracy: 0.8644 - precision: 0.7727 - recall: 0.4708 - val_loss: 0.3248 - val_accuracy: 0.8592 - val_precision: 0.7437 - val_recall: 0.4818\n",
            "Epoch 50/100\n",
            "150/150 [==============================] - 0s 2ms/step - loss: 0.3218 - accuracy: 0.8665 - precision: 0.7720 - recall: 0.4862 - val_loss: 0.3250 - val_accuracy: 0.8617 - val_precision: 0.7613 - val_recall: 0.4777\n",
            "Epoch 51/100\n",
            "150/150 [==============================] - 0s 2ms/step - loss: 0.3219 - accuracy: 0.8671 - precision: 0.7861 - recall: 0.4749 - val_loss: 0.3259 - val_accuracy: 0.8650 - val_precision: 0.7485 - val_recall: 0.5182\n",
            "Epoch 52/100\n",
            "150/150 [==============================] - 0s 2ms/step - loss: 0.3214 - accuracy: 0.8669 - precision: 0.7781 - recall: 0.4821 - val_loss: 0.3263 - val_accuracy: 0.8658 - val_precision: 0.7416 - val_recall: 0.5344\n",
            "Epoch 53/100\n",
            "150/150 [==============================] - 0s 2ms/step - loss: 0.3206 - accuracy: 0.8660 - precision: 0.7686 - recall: 0.4872 - val_loss: 0.3268 - val_accuracy: 0.8608 - val_precision: 0.7381 - val_recall: 0.5020\n",
            "Epoch 54/100\n",
            "150/150 [==============================] - 0s 2ms/step - loss: 0.3213 - accuracy: 0.8648 - precision: 0.7663 - recall: 0.4810 - val_loss: 0.3266 - val_accuracy: 0.8617 - val_precision: 0.7485 - val_recall: 0.4939\n",
            "Epoch 55/100\n",
            "150/150 [==============================] - 0s 2ms/step - loss: 0.3206 - accuracy: 0.8665 - precision: 0.7747 - recall: 0.4831 - val_loss: 0.3254 - val_accuracy: 0.8625 - val_precision: 0.7500 - val_recall: 0.4980\n",
            "Epoch 56/100\n",
            "150/150 [==============================] - 0s 2ms/step - loss: 0.3203 - accuracy: 0.8673 - precision: 0.7798 - recall: 0.4831 - val_loss: 0.3262 - val_accuracy: 0.8633 - val_precision: 0.7456 - val_recall: 0.5101\n",
            "Epoch 57/100\n",
            "150/150 [==============================] - 0s 2ms/step - loss: 0.3203 - accuracy: 0.8681 - precision: 0.7803 - recall: 0.4882 - val_loss: 0.3250 - val_accuracy: 0.8625 - val_precision: 0.7531 - val_recall: 0.4939\n",
            "Epoch 58/100\n",
            "150/150 [==============================] - 0s 2ms/step - loss: 0.3195 - accuracy: 0.8660 - precision: 0.7748 - recall: 0.4800 - val_loss: 0.3270 - val_accuracy: 0.8625 - val_precision: 0.7470 - val_recall: 0.5020\n",
            "Epoch 59/100\n",
            "150/150 [==============================] - 0s 2ms/step - loss: 0.3193 - accuracy: 0.8685 - precision: 0.7810 - recall: 0.4903 - val_loss: 0.3261 - val_accuracy: 0.8625 - val_precision: 0.7563 - val_recall: 0.4899\n",
            "Epoch 60/100\n",
            "150/150 [==============================] - 0s 2ms/step - loss: 0.3191 - accuracy: 0.8671 - precision: 0.7841 - recall: 0.4769 - val_loss: 0.3253 - val_accuracy: 0.8608 - val_precision: 0.7532 - val_recall: 0.4818\n",
            "Epoch 61/100\n",
            "150/150 [==============================] - 0s 2ms/step - loss: 0.3184 - accuracy: 0.8675 - precision: 0.7756 - recall: 0.4892 - val_loss: 0.3273 - val_accuracy: 0.8633 - val_precision: 0.7515 - val_recall: 0.5020\n",
            "Epoch 62/100\n",
            "150/150 [==============================] - 0s 2ms/step - loss: 0.3182 - accuracy: 0.8665 - precision: 0.7720 - recall: 0.4862 - val_loss: 0.3271 - val_accuracy: 0.8608 - val_precision: 0.7597 - val_recall: 0.4737\n",
            "Epoch 63/100\n",
            "150/150 [==============================] - 0s 2ms/step - loss: 0.3180 - accuracy: 0.8656 - precision: 0.7705 - recall: 0.4821 - val_loss: 0.3271 - val_accuracy: 0.8633 - val_precision: 0.7546 - val_recall: 0.4980\n",
            "Epoch 64/100\n",
            "150/150 [==============================] - 0s 2ms/step - loss: 0.3179 - accuracy: 0.8685 - precision: 0.7774 - recall: 0.4944 - val_loss: 0.3266 - val_accuracy: 0.8625 - val_precision: 0.7628 - val_recall: 0.4818\n",
            "Epoch 65/100\n",
            "150/150 [==============================] - 0s 2ms/step - loss: 0.3177 - accuracy: 0.8652 - precision: 0.7761 - recall: 0.4728 - val_loss: 0.3285 - val_accuracy: 0.8667 - val_precision: 0.7458 - val_recall: 0.5344\n",
            "Epoch 66/100\n",
            "150/150 [==============================] - 0s 2ms/step - loss: 0.3176 - accuracy: 0.8665 - precision: 0.7626 - recall: 0.4974 - val_loss: 0.3276 - val_accuracy: 0.8608 - val_precision: 0.7667 - val_recall: 0.4656\n",
            "Epoch 67/100\n",
            "150/150 [==============================] - 0s 2ms/step - loss: 0.3181 - accuracy: 0.8665 - precision: 0.7738 - recall: 0.4841 - val_loss: 0.3269 - val_accuracy: 0.8633 - val_precision: 0.7610 - val_recall: 0.4899\n",
            "Epoch 68/100\n",
            "150/150 [==============================] - 0s 2ms/step - loss: 0.3171 - accuracy: 0.8677 - precision: 0.7778 - recall: 0.4882 - val_loss: 0.3265 - val_accuracy: 0.8617 - val_precision: 0.7580 - val_recall: 0.4818\n",
            "Epoch 69/100\n",
            "150/150 [==============================] - 0s 2ms/step - loss: 0.3164 - accuracy: 0.8665 - precision: 0.7685 - recall: 0.4903 - val_loss: 0.3262 - val_accuracy: 0.8600 - val_precision: 0.7687 - val_recall: 0.4575\n",
            "Epoch 70/100\n",
            "150/150 [==============================] - 0s 2ms/step - loss: 0.3158 - accuracy: 0.8685 - precision: 0.7801 - recall: 0.4913 - val_loss: 0.3279 - val_accuracy: 0.8675 - val_precision: 0.7588 - val_recall: 0.5223\n",
            "Epoch 71/100\n",
            "150/150 [==============================] - 0s 3ms/step - loss: 0.3161 - accuracy: 0.8673 - precision: 0.7726 - recall: 0.4913 - val_loss: 0.3269 - val_accuracy: 0.8617 - val_precision: 0.7647 - val_recall: 0.4737\n",
            "Epoch 72/100\n",
            "150/150 [==============================] - 0s 2ms/step - loss: 0.3157 - accuracy: 0.8662 - precision: 0.7622 - recall: 0.4964 - val_loss: 0.3287 - val_accuracy: 0.8658 - val_precision: 0.7654 - val_recall: 0.5020\n",
            "Epoch 73/100\n",
            "150/150 [==============================] - 0s 2ms/step - loss: 0.3157 - accuracy: 0.8677 - precision: 0.7751 - recall: 0.4913 - val_loss: 0.3278 - val_accuracy: 0.8608 - val_precision: 0.7500 - val_recall: 0.4858\n",
            "Epoch 74/100\n",
            "150/150 [==============================] - 0s 2ms/step - loss: 0.3151 - accuracy: 0.8669 - precision: 0.7736 - recall: 0.4872 - val_loss: 0.3291 - val_accuracy: 0.8592 - val_precision: 0.7600 - val_recall: 0.4615\n",
            "Epoch 75/100\n",
            "150/150 [==============================] - 0s 2ms/step - loss: 0.3151 - accuracy: 0.8669 - precision: 0.7701 - recall: 0.4913 - val_loss: 0.3287 - val_accuracy: 0.8642 - val_precision: 0.7692 - val_recall: 0.4858\n",
            "Epoch 76/100\n",
            "150/150 [==============================] - 0s 2ms/step - loss: 0.3150 - accuracy: 0.8673 - precision: 0.7789 - recall: 0.4841 - val_loss: 0.3284 - val_accuracy: 0.8642 - val_precision: 0.7500 - val_recall: 0.5101\n",
            "Epoch 77/100\n",
            "150/150 [==============================] - 0s 2ms/step - loss: 0.3145 - accuracy: 0.8677 - precision: 0.7665 - recall: 0.5015 - val_loss: 0.3280 - val_accuracy: 0.8617 - val_precision: 0.7580 - val_recall: 0.4818\n",
            "Epoch 78/100\n",
            "150/150 [==============================] - 0s 2ms/step - loss: 0.3147 - accuracy: 0.8681 - precision: 0.7803 - recall: 0.4882 - val_loss: 0.3292 - val_accuracy: 0.8650 - val_precision: 0.7576 - val_recall: 0.5061\n",
            "Epoch 79/100\n",
            "150/150 [==============================] - 0s 2ms/step - loss: 0.3142 - accuracy: 0.8673 - precision: 0.7761 - recall: 0.4872 - val_loss: 0.3284 - val_accuracy: 0.8650 - val_precision: 0.7673 - val_recall: 0.4939\n",
            "Epoch 80/100\n",
            "150/150 [==============================] - 0s 2ms/step - loss: 0.3136 - accuracy: 0.8660 - precision: 0.7712 - recall: 0.4841 - val_loss: 0.3301 - val_accuracy: 0.8683 - val_precision: 0.7543 - val_recall: 0.5344\n",
            "Epoch 81/100\n",
            "150/150 [==============================] - 0s 2ms/step - loss: 0.3138 - accuracy: 0.8702 - precision: 0.7794 - recall: 0.5036 - val_loss: 0.3302 - val_accuracy: 0.8642 - val_precision: 0.7692 - val_recall: 0.4858\n",
            "Epoch 82/100\n",
            "150/150 [==============================] - 0s 2ms/step - loss: 0.3131 - accuracy: 0.8654 - precision: 0.7632 - recall: 0.4892 - val_loss: 0.3302 - val_accuracy: 0.8658 - val_precision: 0.7622 - val_recall: 0.5061\n",
            "Epoch 83/100\n",
            "150/150 [==============================] - 0s 2ms/step - loss: 0.3131 - accuracy: 0.8650 - precision: 0.7659 - recall: 0.4831 - val_loss: 0.3302 - val_accuracy: 0.8625 - val_precision: 0.7595 - val_recall: 0.4858\n",
            "Epoch 84/100\n",
            "150/150 [==============================] - 0s 2ms/step - loss: 0.3135 - accuracy: 0.8665 - precision: 0.7668 - recall: 0.4923 - val_loss: 0.3307 - val_accuracy: 0.8642 - val_precision: 0.7800 - val_recall: 0.4737\n",
            "Epoch 85/100\n",
            "150/150 [==============================] - 0s 2ms/step - loss: 0.3128 - accuracy: 0.8673 - precision: 0.7752 - recall: 0.4882 - val_loss: 0.3312 - val_accuracy: 0.8633 - val_precision: 0.7546 - val_recall: 0.4980\n",
            "Epoch 86/100\n",
            "150/150 [==============================] - 0s 2ms/step - loss: 0.3124 - accuracy: 0.8665 - precision: 0.7694 - recall: 0.4892 - val_loss: 0.3308 - val_accuracy: 0.8642 - val_precision: 0.7530 - val_recall: 0.5061\n",
            "Epoch 87/100\n",
            "150/150 [==============================] - 0s 2ms/step - loss: 0.3126 - accuracy: 0.8683 - precision: 0.7701 - recall: 0.5015 - val_loss: 0.3316 - val_accuracy: 0.8642 - val_precision: 0.7658 - val_recall: 0.4899\n",
            "Epoch 88/100\n",
            "150/150 [==============================] - 0s 2ms/step - loss: 0.3128 - accuracy: 0.8687 - precision: 0.7814 - recall: 0.4913 - val_loss: 0.3308 - val_accuracy: 0.8633 - val_precision: 0.7546 - val_recall: 0.4980\n",
            "Epoch 89/100\n",
            "150/150 [==============================] - 0s 2ms/step - loss: 0.3123 - accuracy: 0.8685 - precision: 0.7722 - recall: 0.5005 - val_loss: 0.3316 - val_accuracy: 0.8650 - val_precision: 0.7673 - val_recall: 0.4939\n",
            "Epoch 90/100\n",
            "150/150 [==============================] - 0s 2ms/step - loss: 0.3110 - accuracy: 0.8690 - precision: 0.7755 - recall: 0.4995 - val_loss: 0.3337 - val_accuracy: 0.8692 - val_precision: 0.7557 - val_recall: 0.5385\n",
            "Epoch 91/100\n",
            "150/150 [==============================] - 0s 2ms/step - loss: 0.3123 - accuracy: 0.8685 - precision: 0.7748 - recall: 0.4974 - val_loss: 0.3322 - val_accuracy: 0.8633 - val_precision: 0.7515 - val_recall: 0.5020\n",
            "Epoch 92/100\n",
            "150/150 [==============================] - 0s 2ms/step - loss: 0.3119 - accuracy: 0.8673 - precision: 0.7666 - recall: 0.4985 - val_loss: 0.3320 - val_accuracy: 0.8658 - val_precision: 0.7688 - val_recall: 0.4980\n",
            "Epoch 93/100\n",
            "150/150 [==============================] - 0s 2ms/step - loss: 0.3108 - accuracy: 0.8681 - precision: 0.7723 - recall: 0.4974 - val_loss: 0.3312 - val_accuracy: 0.8617 - val_precision: 0.7580 - val_recall: 0.4818\n",
            "Epoch 94/100\n",
            "150/150 [==============================] - 0s 2ms/step - loss: 0.3124 - accuracy: 0.8685 - precision: 0.7801 - recall: 0.4913 - val_loss: 0.3320 - val_accuracy: 0.8642 - val_precision: 0.7530 - val_recall: 0.5061\n",
            "Epoch 95/100\n",
            "150/150 [==============================] - 0s 2ms/step - loss: 0.3111 - accuracy: 0.8696 - precision: 0.7819 - recall: 0.4964 - val_loss: 0.3327 - val_accuracy: 0.8625 - val_precision: 0.7628 - val_recall: 0.4818\n",
            "Epoch 96/100\n",
            "150/150 [==============================] - 0s 2ms/step - loss: 0.3110 - accuracy: 0.8671 - precision: 0.7758 - recall: 0.4862 - val_loss: 0.3329 - val_accuracy: 0.8642 - val_precision: 0.7500 - val_recall: 0.5101\n",
            "Epoch 97/100\n",
            "150/150 [==============================] - 0s 2ms/step - loss: 0.3107 - accuracy: 0.8687 - precision: 0.7760 - recall: 0.4974 - val_loss: 0.3344 - val_accuracy: 0.8642 - val_precision: 0.7442 - val_recall: 0.5182\n",
            "Epoch 98/100\n",
            "150/150 [==============================] - 0s 2ms/step - loss: 0.3106 - accuracy: 0.8708 - precision: 0.7840 - recall: 0.5026 - val_loss: 0.3317 - val_accuracy: 0.8617 - val_precision: 0.7485 - val_recall: 0.4939\n",
            "Epoch 99/100\n",
            "150/150 [==============================] - 0s 2ms/step - loss: 0.3106 - accuracy: 0.8677 - precision: 0.7707 - recall: 0.4964 - val_loss: 0.3327 - val_accuracy: 0.8625 - val_precision: 0.7500 - val_recall: 0.4980\n",
            "Epoch 100/100\n",
            "150/150 [==============================] - 0s 2ms/step - loss: 0.3098 - accuracy: 0.8690 - precision: 0.7781 - recall: 0.4964 - val_loss: 0.3369 - val_accuracy: 0.8650 - val_precision: 0.7401 - val_recall: 0.5304\n"
          ]
        }
      ]
    },
    {
      "cell_type": "code",
      "metadata": {
        "colab": {
          "base_uri": "https://localhost:8080/",
          "height": 283
        },
        "id": "5BpQwDxRX_rt",
        "outputId": "fc094a28-5f2f-481a-b86f-5933b66357ef"
      },
      "source": [
        "# Capturing learning history per epoch\n",
        "hist  = pd.DataFrame(history.history)\n",
        "hist['epoch'] = history.epoch\n",
        "\n",
        "# Plotting accuracy at different epochs\n",
        "plt.plot(hist['loss'])\n",
        "plt.plot(hist['val_loss'])\n",
        "plt.legend((\"train\", \"valid\") , loc =0)"
      ],
      "execution_count": 52,
      "outputs": [
        {
          "output_type": "execute_result",
          "data": {
            "text/plain": [
              "<matplotlib.legend.Legend at 0x7f0af3c4fdd0>"
            ]
          },
          "metadata": {},
          "execution_count": 52
        },
        {
          "output_type": "display_data",
          "data": {
            "image/png": "[encoded data removed]",
            "text/plain": [
              "<Figure size 432x288 with 1 Axes>"
            ]
          },
          "metadata": {
            "needs_background": "light"
          }
        }
      ]
    },
    {
      "cell_type": "markdown",
      "metadata": {
        "id": "IaOtaqVOh1Yl"
      },
      "source": [
        "- There is a massive drop in the log loss for the validation and train set from the chart above\n",
        "- The model tends to overfit when greater than 40 epoch\n",
        "- There is a continous decrease in the loss showing a learning model"
      ]
    },
    {
      "cell_type": "code",
      "metadata": {
        "colab": {
          "base_uri": "https://localhost:8080/",
          "height": 206
        },
        "id": "CbDxMdAxfLKh",
        "outputId": "e7a44119-a0ff-4cfc-adc2-8e69d3c6526d"
      },
      "source": [
        "hist.head()"
      ],
      "execution_count": 53,
      "outputs": [
        {
          "output_type": "execute_result",
          "data": {
            "text/html": [
              "<div>\n",
              "<style scoped>\n",
              "    .dataframe tbody tr th:only-of-type {\n",
              "        vertical-align: middle;\n",
              "    }\n",
              "\n",
              "    .dataframe tbody tr th {\n",
              "        vertical-align: top;\n",
              "    }\n",
              "\n",
              "    .dataframe thead th {\n",
              "        text-align: right;\n",
              "    }\n",
              "</style>\n",
              "<table border=\"1\" class=\"dataframe\">\n",
              "  <thead>\n",
              "    <tr style=\"text-align: right;\">\n",
              "      <th></th>\n",
              "      <th>loss</th>\n",
              "      <th>accuracy</th>\n",
              "      <th>precision</th>\n",
              "      <th>recall</th>\n",
              "      <th>val_loss</th>\n",
              "      <th>val_accuracy</th>\n",
              "      <th>val_precision</th>\n",
              "      <th>val_recall</th>\n",
              "      <th>epoch</th>\n",
              "    </tr>\n",
              "  </thead>\n",
              "  <tbody>\n",
              "    <tr>\n",
              "      <th>0</th>\n",
              "      <td>0.702720</td>\n",
              "      <td>0.594167</td>\n",
              "      <td>0.201717</td>\n",
              "      <td>0.337436</td>\n",
              "      <td>0.533583</td>\n",
              "      <td>0.793333</td>\n",
              "      <td>0.470588</td>\n",
              "      <td>0.032389</td>\n",
              "      <td>0</td>\n",
              "    </tr>\n",
              "    <tr>\n",
              "      <th>1</th>\n",
              "      <td>0.493997</td>\n",
              "      <td>0.797708</td>\n",
              "      <td>0.642857</td>\n",
              "      <td>0.009231</td>\n",
              "      <td>0.450213</td>\n",
              "      <td>0.802500</td>\n",
              "      <td>1.000000</td>\n",
              "      <td>0.040486</td>\n",
              "      <td>1</td>\n",
              "    </tr>\n",
              "    <tr>\n",
              "      <th>2</th>\n",
              "      <td>0.450144</td>\n",
              "      <td>0.802083</td>\n",
              "      <td>0.692308</td>\n",
              "      <td>0.046154</td>\n",
              "      <td>0.418445</td>\n",
              "      <td>0.819167</td>\n",
              "      <td>0.840909</td>\n",
              "      <td>0.149798</td>\n",
              "      <td>2</td>\n",
              "    </tr>\n",
              "    <tr>\n",
              "      <th>3</th>\n",
              "      <td>0.429668</td>\n",
              "      <td>0.813333</td>\n",
              "      <td>0.715847</td>\n",
              "      <td>0.134359</td>\n",
              "      <td>0.401974</td>\n",
              "      <td>0.829167</td>\n",
              "      <td>0.762500</td>\n",
              "      <td>0.246964</td>\n",
              "      <td>3</td>\n",
              "    </tr>\n",
              "    <tr>\n",
              "      <th>4</th>\n",
              "      <td>0.414460</td>\n",
              "      <td>0.818125</td>\n",
              "      <td>0.662420</td>\n",
              "      <td>0.213333</td>\n",
              "      <td>0.388859</td>\n",
              "      <td>0.834167</td>\n",
              "      <td>0.735294</td>\n",
              "      <td>0.303644</td>\n",
              "      <td>4</td>\n",
              "    </tr>\n",
              "  </tbody>\n",
              "</table>\n",
              "</div>"
            ],
            "text/plain": [
              "       loss  accuracy  precision  ...  val_precision  val_recall  epoch\n",
              "0  0.702720  0.594167   0.201717  ...       0.470588    0.032389      0\n",
              "1  0.493997  0.797708   0.642857  ...       1.000000    0.040486      1\n",
              "2  0.450144  0.802083   0.692308  ...       0.840909    0.149798      2\n",
              "3  0.429668  0.813333   0.715847  ...       0.762500    0.246964      3\n",
              "4  0.414460  0.818125   0.662420  ...       0.735294    0.303644      4\n",
              "\n",
              "[5 rows x 9 columns]"
            ]
          },
          "metadata": {},
          "execution_count": 53
        }
      ]
    },
    {
      "cell_type": "markdown",
      "metadata": {
        "id": "g38KwCuXfHk9"
      },
      "source": [
        "### Model evaluation criterion\n",
        "\n",
        "**Model can make wrong predictions as**:\n",
        "\n",
        "1. False Positive: Where  a customer does not exit the bank and the model predicts that the customer is going to exit the bank, making the bank channelling efforts and resources to keep the customer when not required\n",
        "\n",
        "2. False Negative: Where a customer exits the bank and the model predicts that the customer is not going to exit making the bank loose a customer that might have been kept if the right efforts were made to keeping him/ her..\n",
        "\n",
        "**Which case is more important?**\n",
        "- Opportunity Loss\n",
        "\n",
        "**How to reduce this loss i.e need to reduce False Negatives?**\n",
        "- Recall should be maximized, the greater the Recall, the higher the chances of decreasing the false negatives.\n",
        "- Recall aims at avoiding a lost opportunity\n",
        "- Recall gives the ratio of True positives to Actual positives, so high Recall implies low false negatives."
      ]
    },
    {
      "cell_type": "code",
      "metadata": {
        "colab": {
          "base_uri": "https://localhost:8080/"
        },
        "id": "1HsMmfzMgC94",
        "outputId": "1096a6bd-f005-4ae6-da3c-3de546d6d770"
      },
      "source": [
        "# Performance on train set:\n",
        "train_scores= bank_model.evaluate(X_train, y_train)"
      ],
      "execution_count": 54,
      "outputs": [
        {
          "output_type": "stream",
          "name": "stdout",
          "text": [
            "188/188 [==============================] - 0s 1ms/step - loss: 0.3130 - accuracy: 0.8695 - precision: 0.7604 - recall: 0.5245\n"
          ]
        }
      ]
    },
    {
      "cell_type": "code",
      "metadata": {
        "colab": {
          "base_uri": "https://localhost:8080/"
        },
        "id": "FR5cO5J12kJ2",
        "outputId": "09cdf007-bffe-46cb-a2a4-476f301cfccc"
      },
      "source": [
        "# Performance on validation set:\n",
        "val_scores= bank_model.evaluate(X_val, y_val)"
      ],
      "execution_count": 55,
      "outputs": [
        {
          "output_type": "stream",
          "name": "stdout",
          "text": [
            "63/63 [==============================] - 0s 1ms/step - loss: 0.3668 - accuracy: 0.8485 - precision: 0.6937 - recall: 0.4608\n"
          ]
        }
      ]
    },
    {
      "cell_type": "code",
      "metadata": {
        "colab": {
          "base_uri": "https://localhost:8080/"
        },
        "id": "ault3L7_2tjf",
        "outputId": "aa2d5a2f-db23-42bb-e682-d2b21c9455b9"
      },
      "source": [
        "# Performance on test set:\n",
        "test_scores = bank_model.evaluate(X_test, y_test)"
      ],
      "execution_count": 56,
      "outputs": [
        {
          "output_type": "stream",
          "name": "stdout",
          "text": [
            "63/63 [==============================] - 0s 1ms/step - loss: 0.3682 - accuracy: 0.8515 - precision: 0.7099 - recall: 0.4570\n"
          ]
        }
      ]
    },
    {
      "cell_type": "markdown",
      "metadata": {
        "id": "rvjBx4ISdavj"
      },
      "source": [
        "- The model achieves an accuracy of 86.95 on the training set, 84.85 on validation set and 85.15 on test set.\n",
        "- The model has a relatively low recall across training, validation and test sets which requires improvement"
      ]
    },
    {
      "cell_type": "code",
      "metadata": {
        "id": "rPTczm0a4fDh"
      },
      "source": [
        "# Function to compute confusion matrix\n",
        "def make_confusion_matrix(cf,\n",
        "                          group_names=None,\n",
        "                          categories='auto',\n",
        "                          count=True,\n",
        "                          percent=True,\n",
        "                          cbar=True,\n",
        "                          xyticks=True,\n",
        "                          xyplotlabels=True,\n",
        "                          sum_stats=True,\n",
        "                          figsize=None,\n",
        "                          cmap='Blues',\n",
        "                          title=None):\n",
        "    '''\n",
        "    This function will make a pretty plot of an sklearn Confusion Matrix cm using a Seaborn heatmap visualization.\n",
        "    Arguments\n",
        "    '''\n",
        "\n",
        "\n",
        "    # CODE TO GENERATE TEXT INSIDE EACH SQUARE\n",
        "    blanks = ['' for i in range(cf.size)]\n",
        "\n",
        "    if group_names and len(group_names)==cf.size:\n",
        "        group_labels = [\"{}\\n\".format(value) for value in group_names]\n",
        "    else:\n",
        "        group_labels = blanks\n",
        "\n",
        "    if count:\n",
        "        group_counts = [\"{0:0.0f}\\n\".format(value) for value in cf.flatten()]\n",
        "    else:\n",
        "        group_counts = blanks\n",
        "\n",
        "    if percent:\n",
        "        group_percentages = [\"{0:.2%}\".format(value) for value in cf.flatten()/np.sum(cf)]\n",
        "    else:\n",
        "        group_percentages = blanks\n",
        "\n",
        "    box_labels = [f\"{v1}{v2}{v3}\".strip() for v1, v2, v3 in zip(group_labels,group_counts,group_percentages)]\n",
        "    box_labels = np.asarray(box_labels).reshape(cf.shape[0],cf.shape[1])\n",
        "\n",
        "\n",
        "    # CODE TO GENERATE SUMMARY STATISTICS & TEXT FOR SUMMARY STATS\n",
        "    if sum_stats:\n",
        "        #Accuracy is sum of diagonal divided by total observations\n",
        "        accuracy  = np.trace(cf) / float(np.sum(cf))\n",
        "\n",
        "        #if it is a binary confusion matrix, show some more stats\n",
        "        if len(cf)==2:\n",
        "            #Metrics for Binary Confusion Matrices\n",
        "            precision = cf[1,1] / sum(cf[:,1])\n",
        "            recall    = cf[1,1] / sum(cf[1,:])\n",
        "            f1_score  = 2*precision*recall / (precision + recall)\n",
        "            stats_text = \"\\n\\nAccuracy={:0.3f}\\nPrecision={:0.3f}\\nRecall={:0.3f}\\nF1 Score={:0.3f}\".format(\n",
        "                accuracy,precision,recall,f1_score)\n",
        "        else:\n",
        "            stats_text = \"\\n\\nAccuracy={:0.3f}\".format(accuracy)\n",
        "    else:\n",
        "        stats_text = \"\"\n",
        "\n",
        "\n",
        "    # SET FIGURE PARAMETERS ACCORDING TO OTHER ARGUMENTS\n",
        "    if figsize==None:\n",
        "        #Get default figure size if not set\n",
        "        figsize = plt.rcParams.get('figure.figsize')\n",
        "\n",
        "    if xyticks==False:\n",
        "        #Do not show categories if xyticks is False\n",
        "        categories=False\n",
        "\n",
        "\n",
        "    # MAKE THE HEATMAP VISUALIZATION\n",
        "    plt.figure(figsize=figsize)\n",
        "    sns.heatmap(cf,annot=box_labels,fmt=\"\",cmap=cmap,cbar=cbar,xticklabels=categories,yticklabels=categories)\n",
        "\n",
        "    if xyplotlabels:\n",
        "        plt.ylabel('True label')\n",
        "        plt.xlabel('Predicted label' + stats_text)\n",
        "    else:\n",
        "        plt.xlabel(stats_text)\n",
        "    \n",
        "    if title:\n",
        "        plt.title(title)"
      ],
      "execution_count": 57,
      "outputs": []
    },
    {
      "cell_type": "code",
      "metadata": {
        "colab": {
          "base_uri": "https://localhost:8080/",
          "height": 338
        },
        "id": "56t0mc4G4g6y",
        "outputId": "4e7d5d9f-7afe-4882-8bfe-f08bc07eee57"
      },
      "source": [
        "## Confusion Matrix on unseen test set\n",
        "\n",
        "y_pred = bank_model.predict(X_test)\n",
        "\n",
        "for i in range(len(y_test)): \n",
        "    if y_pred[i]>0.5: # Using default threshold of 0.5 for probability\n",
        "        y_pred[i]=1 \n",
        "    else:\n",
        "        y_pred[i]=0\n",
        "\n",
        "cm1=confusion_matrix(y_test, y_pred)\n",
        "labels = ['True Negative','False Positive','False Negative','True Positive']\n",
        "categories = ['Not_Exited','Exited']\n",
        "\n",
        "make_confusion_matrix(cm1, \n",
        "                      group_names=labels,\n",
        "                      categories=categories, \n",
        "                      cmap='Blues')"
      ],
      "execution_count": 58,
      "outputs": [
        {
          "output_type": "display_data",
          "data": {
            "image/png": "[encoded data removed]",
            "text/plain": [
              "<Figure size 432x288 with 2 Axes>"
            ]
          },
          "metadata": {
            "needs_background": "light"
          }
        }
      ]
    },
    {
      "cell_type": "markdown",
      "metadata": {
        "id": "9Ygfis9cesVy"
      },
      "source": [
        "- The performance of the model is still poor with a recall of 45% while the accuracy and precision seem good\n",
        "- The model failed to detect 221 customers out of 2,000 in the test set\n",
        "- The train set has a higher recal than the test set accounting for an overfitting model"
      ]
    },
    {
      "cell_type": "code",
      "metadata": {
        "colab": {
          "base_uri": "https://localhost:8080/",
          "height": 295
        },
        "id": "WwJc7ncI5S4r",
        "outputId": "564e20ee-77a7-4dc2-c42b-e9cbec2a60d8"
      },
      "source": [
        "# ROC-AUC curve\n",
        "logit_roc_auc = roc_auc_score(y_test, bank_model.predict(X_test))\n",
        "fpr, tpr, thresholds = roc_curve(y_test, bank_model.predict(X_test)) \n",
        "plt.figure()\n",
        "plt.plot(fpr, tpr, label='Area Under Curve = %0.2f)' % logit_roc_auc)\n",
        "plt.plot([0, 1], [0, 1],'r--')\n",
        "plt.xlim([-0.05, 1.05])\n",
        "plt.ylim([-0.05, 1.05])\n",
        "plt.xlabel('False Positive Rate')\n",
        "plt.ylabel('True Positive Rate')\n",
        "plt.title('Receiver operating characteristic')\n",
        "plt.legend(loc=\"lower right\")\n",
        "plt.show()"
      ],
      "execution_count": 59,
      "outputs": [
        {
          "output_type": "display_data",
          "data": {
            "image/png": "[encoded data removed]",
            "text/plain": [
              "<Figure size 432x288 with 1 Axes>"
            ]
          },
          "metadata": {
            "needs_background": "light"
          }
        }
      ]
    },
    {
      "cell_type": "code",
      "metadata": {
        "colab": {
          "base_uri": "https://localhost:8080/",
          "height": 295
        },
        "id": "GpXDg1pjgi_e",
        "outputId": "28f8b52c-1edb-4b9a-bcde-055b4a6e6824"
      },
      "source": [
        "thresholds = np.arange(0.01, 1, .01)\n",
        "recalls = []\n",
        "precisions = []\n",
        "\n",
        "for t in thresholds:\n",
        "    y_pred_1 = bank_model.predict(X_test)\n",
        "    \n",
        "    for i in range(len(y_test)):\n",
        "        if y_pred_1[i] > t:\n",
        "            y_pred_1[i] = 1\n",
        "        else:\n",
        "            y_pred_1[i] = 0\n",
        "        \n",
        "    recalls.append(recall_score(y_test, y_pred_1))\n",
        "    precisions.append(precision_score(y_test, y_pred_1))\n",
        "\n",
        "plt.figure()\n",
        "plt.plot(recalls, precisions)\n",
        "plt.xlim([-0.05, 1.05])\n",
        "plt.ylim([-0.05, 1.05])\n",
        "plt.xlabel('Recall')\n",
        "plt.ylabel('Precision')\n",
        "plt.title('Precision vs Recall')\n",
        "plt.show()"
      ],
      "execution_count": 60,
      "outputs": [
        {
          "output_type": "display_data",
          "data": {
            "image/png": "[encoded data removed]",
            "text/plain": [
              "<Figure size 432x288 with 1 Axes>"
            ]
          },
          "metadata": {
            "needs_background": "light"
          }
        }
      ]
    },
    {
      "cell_type": "markdown",
      "metadata": {
        "id": "84oRjhpRXcSM"
      },
      "source": [
        "- The chart shows the rate of change of the recall and false postive rate at different thresholds.\n",
        "- The neural network model is giving a good performance on training and test set but the recall is low\n",
        "\n",
        "- In this model_1, a default probability threshold of 50% had been used to determine whether the customer would leave or not. If we decrease the threshold, we will increase the number of false positive and decrease the number of false negative hence increasing recall and decreasing precision.\n",
        "\n",
        "The Model can be improved by:\n",
        "- Decreasing the Threshold to Optimize Recall\n",
        "- Using dropout to avoid overfiiting\n",
        "- Adding hidden layers"
      ]
    },
    {
      "cell_type": "markdown",
      "metadata": {
        "id": "ZKknd0B8cKhn"
      },
      "source": [
        "**Buliding another model by adjusting probability threshold to 20%**"
      ]
    },
    {
      "cell_type": "code",
      "metadata": {
        "id": "ntWtATlfm20L"
      },
      "source": [
        "#initialize the model\n",
        "bank_model2 = Sequential()"
      ],
      "execution_count": 61,
      "outputs": []
    },
    {
      "cell_type": "code",
      "metadata": {
        "id": "9_af9F3xceSD"
      },
      "source": [
        "# Input layer with 20 neurons connected an input of 11 columns\n",
        "bank_model2.add(Dense(units=20, input_dim = 11, activation='relu'))\n",
        "\n",
        "# Hidden layer with 5 neurons\n",
        "bank_model2.add(Dense(units=5,activation='relu'))\n",
        "\n",
        "# Output layer with 1 neuron\n",
        "bank_model2.add(Dense(1,activation='sigmoid'))"
      ],
      "execution_count": 62,
      "outputs": []
    },
    {
      "cell_type": "code",
      "metadata": {
        "id": "uNHlTT0Z0E0Q"
      },
      "source": [
        "from tensorflow.keras.metrics import Recall, Accuracy, Precision\n",
        "\n",
        "Rec=tf.keras.metrics.Recall(\n",
        "    thresholds=0.2, top_k=None, class_id=None, name='recall', dtype=None\n",
        ")"
      ],
      "execution_count": 63,
      "outputs": []
    },
    {
      "cell_type": "code",
      "metadata": {
        "id": "Hcn9GXvS0rrx"
      },
      "source": [
        "# Use Adam optimizer with default learning rate and binary_crossentropy loss function\n",
        "bank_model2.compile(optimizer='adam',loss='binary_crossentropy',metrics=['accuracy',Rec])"
      ],
      "execution_count": 64,
      "outputs": []
    },
    {
      "cell_type": "code",
      "metadata": {
        "colab": {
          "base_uri": "https://localhost:8080/"
        },
        "id": "4J1TGIEauwdD",
        "outputId": "6c1ab5b8-f14c-4665-cae5-e80e698c43ac"
      },
      "source": [
        "bank_model2.summary()"
      ],
      "execution_count": 65,
      "outputs": [
        {
          "output_type": "stream",
          "name": "stdout",
          "text": [
            "Model: \"sequential_1\"\n",
            "_________________________________________________________________\n",
            "Layer (type)                 Output Shape              Param #   \n",
            "=================================================================\n",
            "dense_3 (Dense)              (None, 20)                240       \n",
            "_________________________________________________________________\n",
            "dense_4 (Dense)              (None, 5)                 105       \n",
            "_________________________________________________________________\n",
            "dense_5 (Dense)              (None, 1)                 6         \n",
            "=================================================================\n",
            "Total params: 351\n",
            "Trainable params: 351\n",
            "Non-trainable params: 0\n",
            "_________________________________________________________________\n"
          ]
        }
      ]
    },
    {
      "cell_type": "code",
      "metadata": {
        "colab": {
          "base_uri": "https://localhost:8080/"
        },
        "id": "bs_rNo9BuEBu",
        "outputId": "59b63241-93b2-467f-9809-34c26c332bc8"
      },
      "source": [
        "his_mod1= bank_model2.fit(X_train, y_train, validation_split=0.2,epochs=100)\n"
      ],
      "execution_count": 66,
      "outputs": [
        {
          "output_type": "stream",
          "name": "stdout",
          "text": [
            "Epoch 1/100\n",
            "150/150 [==============================] - 1s 4ms/step - loss: 0.5986 - accuracy: 0.7079 - recall: 0.9251 - val_loss: 0.4886 - val_accuracy: 0.8017 - val_recall: 0.8947\n",
            "Epoch 2/100\n",
            "150/150 [==============================] - 0s 2ms/step - loss: 0.4685 - accuracy: 0.8012 - recall: 0.8133 - val_loss: 0.4248 - val_accuracy: 0.8158 - val_recall: 0.8543\n",
            "Epoch 3/100\n",
            "150/150 [==============================] - 0s 2ms/step - loss: 0.4270 - accuracy: 0.8185 - recall: 0.7846 - val_loss: 0.3889 - val_accuracy: 0.8408 - val_recall: 0.8421\n",
            "Epoch 4/100\n",
            "150/150 [==============================] - 0s 2ms/step - loss: 0.4028 - accuracy: 0.8346 - recall: 0.7785 - val_loss: 0.3666 - val_accuracy: 0.8475 - val_recall: 0.8421\n",
            "Epoch 5/100\n",
            "150/150 [==============================] - 0s 2ms/step - loss: 0.3867 - accuracy: 0.8438 - recall: 0.7703 - val_loss: 0.3538 - val_accuracy: 0.8567 - val_recall: 0.8502\n",
            "Epoch 6/100\n",
            "150/150 [==============================] - 0s 2ms/step - loss: 0.3757 - accuracy: 0.8487 - recall: 0.7641 - val_loss: 0.3439 - val_accuracy: 0.8617 - val_recall: 0.8300\n",
            "Epoch 7/100\n",
            "150/150 [==============================] - 0s 2ms/step - loss: 0.3673 - accuracy: 0.8506 - recall: 0.7631 - val_loss: 0.3393 - val_accuracy: 0.8633 - val_recall: 0.8219\n",
            "Epoch 8/100\n",
            "150/150 [==============================] - 0s 2ms/step - loss: 0.3614 - accuracy: 0.8517 - recall: 0.7672 - val_loss: 0.3364 - val_accuracy: 0.8633 - val_recall: 0.8219\n",
            "Epoch 9/100\n",
            "150/150 [==============================] - 0s 2ms/step - loss: 0.3568 - accuracy: 0.8515 - recall: 0.7672 - val_loss: 0.3329 - val_accuracy: 0.8650 - val_recall: 0.8300\n",
            "Epoch 10/100\n",
            "150/150 [==============================] - 0s 2ms/step - loss: 0.3534 - accuracy: 0.8546 - recall: 0.7621 - val_loss: 0.3327 - val_accuracy: 0.8667 - val_recall: 0.8340\n",
            "Epoch 11/100\n",
            "150/150 [==============================] - 0s 2ms/step - loss: 0.3501 - accuracy: 0.8544 - recall: 0.7713 - val_loss: 0.3297 - val_accuracy: 0.8675 - val_recall: 0.8016\n",
            "Epoch 12/100\n",
            "150/150 [==============================] - 0s 3ms/step - loss: 0.3478 - accuracy: 0.8560 - recall: 0.7672 - val_loss: 0.3284 - val_accuracy: 0.8700 - val_recall: 0.7854\n",
            "Epoch 13/100\n",
            "150/150 [==============================] - 0s 2ms/step - loss: 0.3452 - accuracy: 0.8565 - recall: 0.7692 - val_loss: 0.3286 - val_accuracy: 0.8692 - val_recall: 0.7652\n",
            "Epoch 14/100\n",
            "150/150 [==============================] - 0s 2ms/step - loss: 0.3435 - accuracy: 0.8590 - recall: 0.7672 - val_loss: 0.3274 - val_accuracy: 0.8667 - val_recall: 0.7854\n",
            "Epoch 15/100\n",
            "150/150 [==============================] - 0s 2ms/step - loss: 0.3417 - accuracy: 0.8585 - recall: 0.7713 - val_loss: 0.3285 - val_accuracy: 0.8650 - val_recall: 0.7571\n",
            "Epoch 16/100\n",
            "150/150 [==============================] - 0s 2ms/step - loss: 0.3406 - accuracy: 0.8619 - recall: 0.7538 - val_loss: 0.3282 - val_accuracy: 0.8642 - val_recall: 0.7814\n",
            "Epoch 17/100\n",
            "150/150 [==============================] - 0s 3ms/step - loss: 0.3385 - accuracy: 0.8606 - recall: 0.7682 - val_loss: 0.3280 - val_accuracy: 0.8683 - val_recall: 0.7773\n",
            "Epoch 18/100\n",
            "150/150 [==============================] - 0s 2ms/step - loss: 0.3378 - accuracy: 0.8604 - recall: 0.7590 - val_loss: 0.3272 - val_accuracy: 0.8658 - val_recall: 0.7895\n",
            "Epoch 19/100\n",
            "150/150 [==============================] - 0s 2ms/step - loss: 0.3365 - accuracy: 0.8621 - recall: 0.7703 - val_loss: 0.3272 - val_accuracy: 0.8642 - val_recall: 0.7652\n",
            "Epoch 20/100\n",
            "150/150 [==============================] - 0s 2ms/step - loss: 0.3353 - accuracy: 0.8631 - recall: 0.7754 - val_loss: 0.3279 - val_accuracy: 0.8675 - val_recall: 0.7935\n",
            "Epoch 21/100\n",
            "150/150 [==============================] - 0s 2ms/step - loss: 0.3344 - accuracy: 0.8658 - recall: 0.7774 - val_loss: 0.3265 - val_accuracy: 0.8692 - val_recall: 0.7530\n",
            "Epoch 22/100\n",
            "150/150 [==============================] - 0s 2ms/step - loss: 0.3334 - accuracy: 0.8654 - recall: 0.7651 - val_loss: 0.3257 - val_accuracy: 0.8642 - val_recall: 0.7490\n",
            "Epoch 23/100\n",
            "150/150 [==============================] - 0s 2ms/step - loss: 0.3330 - accuracy: 0.8646 - recall: 0.7662 - val_loss: 0.3271 - val_accuracy: 0.8683 - val_recall: 0.7814\n",
            "Epoch 24/100\n",
            "150/150 [==============================] - 0s 2ms/step - loss: 0.3304 - accuracy: 0.8656 - recall: 0.7692 - val_loss: 0.3316 - val_accuracy: 0.8708 - val_recall: 0.8138\n",
            "Epoch 25/100\n",
            "150/150 [==============================] - 0s 2ms/step - loss: 0.3309 - accuracy: 0.8644 - recall: 0.7867 - val_loss: 0.3265 - val_accuracy: 0.8692 - val_recall: 0.7854\n",
            "Epoch 26/100\n",
            "150/150 [==============================] - 0s 2ms/step - loss: 0.3291 - accuracy: 0.8662 - recall: 0.7703 - val_loss: 0.3262 - val_accuracy: 0.8675 - val_recall: 0.7692\n",
            "Epoch 27/100\n",
            "150/150 [==============================] - 0s 2ms/step - loss: 0.3280 - accuracy: 0.8665 - recall: 0.7887 - val_loss: 0.3267 - val_accuracy: 0.8700 - val_recall: 0.7409\n",
            "Epoch 28/100\n",
            "150/150 [==============================] - 0s 2ms/step - loss: 0.3275 - accuracy: 0.8660 - recall: 0.7774 - val_loss: 0.3283 - val_accuracy: 0.8708 - val_recall: 0.7895\n",
            "Epoch 29/100\n",
            "150/150 [==============================] - 0s 2ms/step - loss: 0.3262 - accuracy: 0.8667 - recall: 0.7846 - val_loss: 0.3286 - val_accuracy: 0.8717 - val_recall: 0.7571\n",
            "Epoch 30/100\n",
            "150/150 [==============================] - 0s 2ms/step - loss: 0.3257 - accuracy: 0.8667 - recall: 0.7764 - val_loss: 0.3289 - val_accuracy: 0.8708 - val_recall: 0.7773\n",
            "Epoch 31/100\n",
            "150/150 [==============================] - 0s 2ms/step - loss: 0.3250 - accuracy: 0.8667 - recall: 0.7856 - val_loss: 0.3284 - val_accuracy: 0.8692 - val_recall: 0.7530\n",
            "Epoch 32/100\n",
            "150/150 [==============================] - 0s 2ms/step - loss: 0.3242 - accuracy: 0.8681 - recall: 0.7887 - val_loss: 0.3299 - val_accuracy: 0.8683 - val_recall: 0.7449\n",
            "Epoch 33/100\n",
            "150/150 [==============================] - 0s 2ms/step - loss: 0.3240 - accuracy: 0.8679 - recall: 0.7785 - val_loss: 0.3288 - val_accuracy: 0.8692 - val_recall: 0.7449\n",
            "Epoch 34/100\n",
            "150/150 [==============================] - 0s 2ms/step - loss: 0.3226 - accuracy: 0.8692 - recall: 0.7795 - val_loss: 0.3306 - val_accuracy: 0.8683 - val_recall: 0.7449\n",
            "Epoch 35/100\n",
            "150/150 [==============================] - 0s 2ms/step - loss: 0.3221 - accuracy: 0.8669 - recall: 0.7785 - val_loss: 0.3293 - val_accuracy: 0.8700 - val_recall: 0.7449\n",
            "Epoch 36/100\n",
            "150/150 [==============================] - 0s 2ms/step - loss: 0.3217 - accuracy: 0.8665 - recall: 0.7846 - val_loss: 0.3298 - val_accuracy: 0.8708 - val_recall: 0.7895\n",
            "Epoch 37/100\n",
            "150/150 [==============================] - 0s 2ms/step - loss: 0.3213 - accuracy: 0.8662 - recall: 0.7887 - val_loss: 0.3289 - val_accuracy: 0.8700 - val_recall: 0.7409\n",
            "Epoch 38/100\n",
            "150/150 [==============================] - 0s 2ms/step - loss: 0.3202 - accuracy: 0.8700 - recall: 0.7785 - val_loss: 0.3296 - val_accuracy: 0.8675 - val_recall: 0.7449\n",
            "Epoch 39/100\n",
            "150/150 [==============================] - 0s 2ms/step - loss: 0.3200 - accuracy: 0.8683 - recall: 0.7846 - val_loss: 0.3308 - val_accuracy: 0.8675 - val_recall: 0.7571\n",
            "Epoch 40/100\n",
            "150/150 [==============================] - 0s 2ms/step - loss: 0.3194 - accuracy: 0.8694 - recall: 0.7918 - val_loss: 0.3288 - val_accuracy: 0.8717 - val_recall: 0.7571\n",
            "Epoch 41/100\n",
            "150/150 [==============================] - 0s 2ms/step - loss: 0.3193 - accuracy: 0.8690 - recall: 0.7867 - val_loss: 0.3290 - val_accuracy: 0.8708 - val_recall: 0.7409\n",
            "Epoch 42/100\n",
            "150/150 [==============================] - 0s 2ms/step - loss: 0.3189 - accuracy: 0.8692 - recall: 0.7867 - val_loss: 0.3299 - val_accuracy: 0.8675 - val_recall: 0.7571\n",
            "Epoch 43/100\n",
            "150/150 [==============================] - 0s 2ms/step - loss: 0.3180 - accuracy: 0.8681 - recall: 0.7979 - val_loss: 0.3311 - val_accuracy: 0.8725 - val_recall: 0.7247\n",
            "Epoch 44/100\n",
            "150/150 [==============================] - 0s 2ms/step - loss: 0.3180 - accuracy: 0.8687 - recall: 0.7908 - val_loss: 0.3305 - val_accuracy: 0.8683 - val_recall: 0.7449\n",
            "Epoch 45/100\n",
            "150/150 [==============================] - 0s 2ms/step - loss: 0.3173 - accuracy: 0.8687 - recall: 0.7918 - val_loss: 0.3289 - val_accuracy: 0.8717 - val_recall: 0.7530\n",
            "Epoch 46/100\n",
            "150/150 [==============================] - 0s 2ms/step - loss: 0.3169 - accuracy: 0.8712 - recall: 0.7928 - val_loss: 0.3300 - val_accuracy: 0.8708 - val_recall: 0.7409\n",
            "Epoch 47/100\n",
            "150/150 [==============================] - 0s 2ms/step - loss: 0.3171 - accuracy: 0.8685 - recall: 0.7867 - val_loss: 0.3341 - val_accuracy: 0.8692 - val_recall: 0.7287\n",
            "Epoch 48/100\n",
            "150/150 [==============================] - 0s 2ms/step - loss: 0.3166 - accuracy: 0.8692 - recall: 0.7887 - val_loss: 0.3327 - val_accuracy: 0.8692 - val_recall: 0.7449\n",
            "Epoch 49/100\n",
            "150/150 [==============================] - 0s 2ms/step - loss: 0.3169 - accuracy: 0.8696 - recall: 0.7949 - val_loss: 0.3325 - val_accuracy: 0.8700 - val_recall: 0.7530\n",
            "Epoch 50/100\n",
            "150/150 [==============================] - 0s 2ms/step - loss: 0.3158 - accuracy: 0.8696 - recall: 0.7887 - val_loss: 0.3335 - val_accuracy: 0.8692 - val_recall: 0.7328\n",
            "Epoch 51/100\n",
            "150/150 [==============================] - 0s 2ms/step - loss: 0.3158 - accuracy: 0.8719 - recall: 0.7867 - val_loss: 0.3330 - val_accuracy: 0.8692 - val_recall: 0.7692\n",
            "Epoch 52/100\n",
            "150/150 [==============================] - 0s 2ms/step - loss: 0.3153 - accuracy: 0.8700 - recall: 0.7949 - val_loss: 0.3326 - val_accuracy: 0.8683 - val_recall: 0.7773\n",
            "Epoch 53/100\n",
            "150/150 [==============================] - 0s 2ms/step - loss: 0.3145 - accuracy: 0.8725 - recall: 0.7990 - val_loss: 0.3331 - val_accuracy: 0.8700 - val_recall: 0.7449\n",
            "Epoch 54/100\n",
            "150/150 [==============================] - 0s 2ms/step - loss: 0.3147 - accuracy: 0.8708 - recall: 0.7979 - val_loss: 0.3346 - val_accuracy: 0.8683 - val_recall: 0.7449\n",
            "Epoch 55/100\n",
            "150/150 [==============================] - 0s 2ms/step - loss: 0.3143 - accuracy: 0.8715 - recall: 0.7897 - val_loss: 0.3336 - val_accuracy: 0.8650 - val_recall: 0.7571\n",
            "Epoch 56/100\n",
            "150/150 [==============================] - 0s 2ms/step - loss: 0.3143 - accuracy: 0.8698 - recall: 0.8010 - val_loss: 0.3344 - val_accuracy: 0.8675 - val_recall: 0.7571\n",
            "Epoch 57/100\n",
            "150/150 [==============================] - 0s 2ms/step - loss: 0.3140 - accuracy: 0.8721 - recall: 0.7938 - val_loss: 0.3356 - val_accuracy: 0.8675 - val_recall: 0.7328\n",
            "Epoch 58/100\n",
            "150/150 [==============================] - 0s 2ms/step - loss: 0.3132 - accuracy: 0.8706 - recall: 0.7938 - val_loss: 0.3358 - val_accuracy: 0.8675 - val_recall: 0.7449\n",
            "Epoch 59/100\n",
            "150/150 [==============================] - 0s 2ms/step - loss: 0.3132 - accuracy: 0.8710 - recall: 0.7969 - val_loss: 0.3357 - val_accuracy: 0.8675 - val_recall: 0.7409\n",
            "Epoch 60/100\n",
            "150/150 [==============================] - 0s 2ms/step - loss: 0.3130 - accuracy: 0.8700 - recall: 0.7928 - val_loss: 0.3355 - val_accuracy: 0.8667 - val_recall: 0.7409\n",
            "Epoch 61/100\n",
            "150/150 [==============================] - 0s 2ms/step - loss: 0.3123 - accuracy: 0.8735 - recall: 0.7979 - val_loss: 0.3353 - val_accuracy: 0.8692 - val_recall: 0.7409\n",
            "Epoch 62/100\n",
            "150/150 [==============================] - 0s 2ms/step - loss: 0.3119 - accuracy: 0.8715 - recall: 0.7969 - val_loss: 0.3348 - val_accuracy: 0.8650 - val_recall: 0.7490\n",
            "Epoch 63/100\n",
            "150/150 [==============================] - 0s 2ms/step - loss: 0.3117 - accuracy: 0.8710 - recall: 0.7949 - val_loss: 0.3374 - val_accuracy: 0.8700 - val_recall: 0.7409\n",
            "Epoch 64/100\n",
            "150/150 [==============================] - 0s 2ms/step - loss: 0.3117 - accuracy: 0.8710 - recall: 0.8021 - val_loss: 0.3367 - val_accuracy: 0.8667 - val_recall: 0.7328\n",
            "Epoch 65/100\n",
            "150/150 [==============================] - 0s 2ms/step - loss: 0.3120 - accuracy: 0.8721 - recall: 0.7887 - val_loss: 0.3389 - val_accuracy: 0.8667 - val_recall: 0.7611\n",
            "Epoch 66/100\n",
            "150/150 [==============================] - 0s 2ms/step - loss: 0.3114 - accuracy: 0.8715 - recall: 0.8041 - val_loss: 0.3390 - val_accuracy: 0.8650 - val_recall: 0.7247\n",
            "Epoch 67/100\n",
            "150/150 [==============================] - 0s 2ms/step - loss: 0.3121 - accuracy: 0.8715 - recall: 0.7979 - val_loss: 0.3386 - val_accuracy: 0.8667 - val_recall: 0.7409\n",
            "Epoch 68/100\n",
            "150/150 [==============================] - 0s 2ms/step - loss: 0.3112 - accuracy: 0.8706 - recall: 0.8010 - val_loss: 0.3423 - val_accuracy: 0.8667 - val_recall: 0.7449\n",
            "Epoch 69/100\n",
            "150/150 [==============================] - 0s 2ms/step - loss: 0.3108 - accuracy: 0.8735 - recall: 0.7918 - val_loss: 0.3381 - val_accuracy: 0.8675 - val_recall: 0.7368\n",
            "Epoch 70/100\n",
            "150/150 [==============================] - 0s 2ms/step - loss: 0.3107 - accuracy: 0.8733 - recall: 0.7938 - val_loss: 0.3398 - val_accuracy: 0.8683 - val_recall: 0.7409\n",
            "Epoch 71/100\n",
            "150/150 [==============================] - 0s 2ms/step - loss: 0.3107 - accuracy: 0.8721 - recall: 0.8021 - val_loss: 0.3393 - val_accuracy: 0.8667 - val_recall: 0.7206\n",
            "Epoch 72/100\n",
            "150/150 [==============================] - 0s 2ms/step - loss: 0.3103 - accuracy: 0.8717 - recall: 0.7959 - val_loss: 0.3401 - val_accuracy: 0.8658 - val_recall: 0.7449\n",
            "Epoch 73/100\n",
            "150/150 [==============================] - 0s 2ms/step - loss: 0.3103 - accuracy: 0.8706 - recall: 0.8010 - val_loss: 0.3392 - val_accuracy: 0.8642 - val_recall: 0.7409\n",
            "Epoch 74/100\n",
            "150/150 [==============================] - 0s 2ms/step - loss: 0.3101 - accuracy: 0.8700 - recall: 0.7969 - val_loss: 0.3416 - val_accuracy: 0.8658 - val_recall: 0.7166\n",
            "Epoch 75/100\n",
            "150/150 [==============================] - 0s 2ms/step - loss: 0.3101 - accuracy: 0.8704 - recall: 0.7887 - val_loss: 0.3407 - val_accuracy: 0.8667 - val_recall: 0.7409\n",
            "Epoch 76/100\n",
            "150/150 [==============================] - 0s 2ms/step - loss: 0.3103 - accuracy: 0.8719 - recall: 0.7887 - val_loss: 0.3420 - val_accuracy: 0.8650 - val_recall: 0.7652\n",
            "Epoch 77/100\n",
            "150/150 [==============================] - 0s 2ms/step - loss: 0.3091 - accuracy: 0.8729 - recall: 0.7969 - val_loss: 0.3418 - val_accuracy: 0.8658 - val_recall: 0.7409\n",
            "Epoch 78/100\n",
            "150/150 [==============================] - 0s 2ms/step - loss: 0.3095 - accuracy: 0.8742 - recall: 0.7908 - val_loss: 0.3418 - val_accuracy: 0.8658 - val_recall: 0.7328\n",
            "Epoch 79/100\n",
            "150/150 [==============================] - 0s 2ms/step - loss: 0.3092 - accuracy: 0.8719 - recall: 0.7938 - val_loss: 0.3406 - val_accuracy: 0.8625 - val_recall: 0.7328\n",
            "Epoch 80/100\n",
            "150/150 [==============================] - 0s 2ms/step - loss: 0.3094 - accuracy: 0.8727 - recall: 0.7867 - val_loss: 0.3419 - val_accuracy: 0.8667 - val_recall: 0.7814\n",
            "Epoch 81/100\n",
            "150/150 [==============================] - 0s 2ms/step - loss: 0.3091 - accuracy: 0.8746 - recall: 0.8062 - val_loss: 0.3447 - val_accuracy: 0.8675 - val_recall: 0.7287\n",
            "Epoch 82/100\n",
            "150/150 [==============================] - 0s 2ms/step - loss: 0.3088 - accuracy: 0.8721 - recall: 0.7938 - val_loss: 0.3432 - val_accuracy: 0.8683 - val_recall: 0.7368\n",
            "Epoch 83/100\n",
            "150/150 [==============================] - 0s 2ms/step - loss: 0.3084 - accuracy: 0.8763 - recall: 0.8041 - val_loss: 0.3433 - val_accuracy: 0.8658 - val_recall: 0.7368\n",
            "Epoch 84/100\n",
            "150/150 [==============================] - 0s 2ms/step - loss: 0.3085 - accuracy: 0.8746 - recall: 0.7990 - val_loss: 0.3433 - val_accuracy: 0.8658 - val_recall: 0.7287\n",
            "Epoch 85/100\n",
            "150/150 [==============================] - 0s 2ms/step - loss: 0.3084 - accuracy: 0.8725 - recall: 0.8010 - val_loss: 0.3430 - val_accuracy: 0.8658 - val_recall: 0.7328\n",
            "Epoch 86/100\n",
            "150/150 [==============================] - 0s 2ms/step - loss: 0.3080 - accuracy: 0.8737 - recall: 0.7969 - val_loss: 0.3450 - val_accuracy: 0.8683 - val_recall: 0.7368\n",
            "Epoch 87/100\n",
            "150/150 [==============================] - 0s 2ms/step - loss: 0.3080 - accuracy: 0.8731 - recall: 0.7979 - val_loss: 0.3463 - val_accuracy: 0.8650 - val_recall: 0.7287\n",
            "Epoch 88/100\n",
            "150/150 [==============================] - 0s 2ms/step - loss: 0.3079 - accuracy: 0.8731 - recall: 0.7979 - val_loss: 0.3455 - val_accuracy: 0.8658 - val_recall: 0.7328\n",
            "Epoch 89/100\n",
            "150/150 [==============================] - 0s 2ms/step - loss: 0.3082 - accuracy: 0.8729 - recall: 0.7979 - val_loss: 0.3448 - val_accuracy: 0.8658 - val_recall: 0.7206\n",
            "Epoch 90/100\n",
            "150/150 [==============================] - 0s 2ms/step - loss: 0.3073 - accuracy: 0.8744 - recall: 0.7928 - val_loss: 0.3458 - val_accuracy: 0.8658 - val_recall: 0.7611\n",
            "Epoch 91/100\n",
            "150/150 [==============================] - 0s 2ms/step - loss: 0.3072 - accuracy: 0.8742 - recall: 0.7959 - val_loss: 0.3455 - val_accuracy: 0.8667 - val_recall: 0.7530\n",
            "Epoch 92/100\n",
            "150/150 [==============================] - 0s 2ms/step - loss: 0.3075 - accuracy: 0.8750 - recall: 0.8000 - val_loss: 0.3455 - val_accuracy: 0.8658 - val_recall: 0.7368\n",
            "Epoch 93/100\n",
            "150/150 [==============================] - 0s 2ms/step - loss: 0.3067 - accuracy: 0.8740 - recall: 0.8000 - val_loss: 0.3450 - val_accuracy: 0.8650 - val_recall: 0.7247\n",
            "Epoch 94/100\n",
            "150/150 [==============================] - 0s 2ms/step - loss: 0.3081 - accuracy: 0.8735 - recall: 0.7979 - val_loss: 0.3460 - val_accuracy: 0.8617 - val_recall: 0.7611\n",
            "Epoch 95/100\n",
            "150/150 [==============================] - 0s 2ms/step - loss: 0.3067 - accuracy: 0.8746 - recall: 0.8041 - val_loss: 0.3465 - val_accuracy: 0.8650 - val_recall: 0.7328\n",
            "Epoch 96/100\n",
            "150/150 [==============================] - 0s 2ms/step - loss: 0.3074 - accuracy: 0.8737 - recall: 0.7887 - val_loss: 0.3472 - val_accuracy: 0.8683 - val_recall: 0.7287\n",
            "Epoch 97/100\n",
            "150/150 [==============================] - 0s 2ms/step - loss: 0.3068 - accuracy: 0.8744 - recall: 0.8031 - val_loss: 0.3478 - val_accuracy: 0.8650 - val_recall: 0.7449\n",
            "Epoch 98/100\n",
            "150/150 [==============================] - 0s 2ms/step - loss: 0.3067 - accuracy: 0.8731 - recall: 0.7969 - val_loss: 0.3467 - val_accuracy: 0.8658 - val_recall: 0.7287\n",
            "Epoch 99/100\n",
            "150/150 [==============================] - 0s 2ms/step - loss: 0.3063 - accuracy: 0.8740 - recall: 0.7928 - val_loss: 0.3460 - val_accuracy: 0.8667 - val_recall: 0.7247\n",
            "Epoch 100/100\n",
            "150/150 [==============================] - 0s 2ms/step - loss: 0.3059 - accuracy: 0.8754 - recall: 0.7969 - val_loss: 0.3504 - val_accuracy: 0.8658 - val_recall: 0.7409\n"
          ]
        }
      ]
    },
    {
      "cell_type": "code",
      "metadata": {
        "colab": {
          "base_uri": "https://localhost:8080/",
          "height": 283
        },
        "id": "-LCDqX41u0Ul",
        "outputId": "db8df6c4-6b47-45fa-e671-ac6f36f8b468"
      },
      "source": [
        "# Capturing learning history per epoch\n",
        "hist  = pd.DataFrame(his_mod1.history)\n",
        "hist['epoch'] = his_mod1.epoch\n",
        "\n",
        "# Plotting accuracy at different epochs\n",
        "plt.plot(hist['loss'])\n",
        "plt.plot(hist['val_loss'])\n",
        "plt.legend((\"train\" , \"valid\") , loc =0)\n"
      ],
      "execution_count": 67,
      "outputs": [
        {
          "output_type": "execute_result",
          "data": {
            "text/plain": [
              "<matplotlib.legend.Legend at 0x7f0afd578290>"
            ]
          },
          "metadata": {},
          "execution_count": 67
        },
        {
          "output_type": "display_data",
          "data": {
            "image/png": "[encoded data removed]",
            "text/plain": [
              "<Figure size 432x288 with 1 Axes>"
            ]
          },
          "metadata": {
            "needs_background": "light"
          }
        }
      ]
    },
    {
      "cell_type": "code",
      "metadata": {
        "colab": {
          "base_uri": "https://localhost:8080/"
        },
        "id": "z2TD53yg6C2N",
        "outputId": "115cf201-2da0-4209-f5a3-16a237ef1a1f"
      },
      "source": [
        "# Model 2 performance:\n",
        "print('Train scores:')\n",
        "train_scores_2 = bank_model2.evaluate(X_train, y_train)\n",
        "print('Validation scores:')\n",
        "train_scores_2 = bank_model2.evaluate(X_val, y_val)\n",
        "print('Test scores:')\n",
        "test_scores_2 = bank_model2.evaluate(X_test, y_test)"
      ],
      "execution_count": 68,
      "outputs": [
        {
          "output_type": "stream",
          "name": "stdout",
          "text": [
            "Train scores:\n",
            "188/188 [==============================] - 0s 1ms/step - loss: 0.3124 - accuracy: 0.8728 - recall: 0.8061\n",
            "Validation scores:\n",
            "63/63 [==============================] - 0s 1ms/step - loss: 0.3547 - accuracy: 0.8545 - recall: 0.7623\n",
            "Test scores:\n",
            "63/63 [==============================] - 0s 1ms/step - loss: 0.3753 - accuracy: 0.8500 - recall: 0.7297\n"
          ]
        }
      ]
    },
    {
      "cell_type": "markdown",
      "metadata": {
        "id": "hSPjnxYKhgyC"
      },
      "source": [
        "- Recall score improves relative to the first model across training, vaidation and test set to 80%,76% and 72% respectively"
      ]
    },
    {
      "cell_type": "code",
      "metadata": {
        "colab": {
          "base_uri": "https://localhost:8080/",
          "height": 338
        },
        "id": "ekfumoJQA7SU",
        "outputId": "51dc748e-9967-4023-81db-bbc0562e944d"
      },
      "source": [
        "## Confusion Matrix using probability threshold of 0.2\n",
        "\n",
        "y_pred2 = bank_model2.predict(X_test)\n",
        "\n",
        "for i in range(len(y_test)): \n",
        "    if y_pred2[i] > 0.2: # Ajusting threshold to 0.2\n",
        "        y_pred2[i] = 1 \n",
        "    else:\n",
        "        y_pred2[i] = 0\n",
        "\n",
        "cm2=confusion_matrix(y_test, y_pred2)\n",
        "labels = ['True Negative','False Positive','False Negative','True Positive']\n",
        "categories = ['Not_Exited','Exited']\n",
        "\n",
        "make_confusion_matrix(cm2, \n",
        "                      group_names=labels,\n",
        "                      categories=categories, \n",
        "                      cmap='Blues')"
      ],
      "execution_count": 69,
      "outputs": [
        {
          "output_type": "display_data",
          "data": {
            "image/png": "[encoded data removed]",
            "text/plain": [
              "<Figure size 432x288 with 2 Axes>"
            ]
          },
          "metadata": {
            "needs_background": "light"
          }
        }
      ]
    },
    {
      "cell_type": "markdown",
      "metadata": {
        "id": "f2lYsSowBZC6"
      },
      "source": [
        "- From the confusion matrix, the recall increased on the test set while the precision decreased\n",
        "- The model is slightly overfitting"
      ]
    },
    {
      "cell_type": "markdown",
      "metadata": {
        "id": "_14_dlWLFXC8"
      },
      "source": [
        "**Building a new model similar to the second model using 10% dropout to treat overfitting**"
      ]
    },
    {
      "cell_type": "code",
      "metadata": {
        "id": "lYtMRBLTF0Rb"
      },
      "source": [
        "#initialize the model\n",
        "bank_model3 = Sequential()"
      ],
      "execution_count": 70,
      "outputs": []
    },
    {
      "cell_type": "code",
      "metadata": {
        "id": "ZPGMgHcsGLCg"
      },
      "source": [
        "# Input layer with 20 neurons connected an input of 11 columns\n",
        "bank_model3.add(Dense(units=20, input_dim = 11, activation='relu'))\n",
        "\n",
        "# Hidden layer with 10 neurons\n",
        "bank_model3.add(Dense(units=5,activation='relu'))\n",
        "\n",
        "bank_model3.add(Dropout(0.10)) # Adding 10% dropout to reduce model's overfitting\n",
        "\n",
        "# Output layer with 1 neuron\n",
        "bank_model3.add(Dense(1,activation='sigmoid'))"
      ],
      "execution_count": 71,
      "outputs": []
    },
    {
      "cell_type": "code",
      "metadata": {
        "id": "xqwFEW27GRl6"
      },
      "source": [
        "from tensorflow.keras.metrics import Recall, Accuracy, Precision\n",
        "\n",
        "Rec=tf.keras.metrics.Recall(\n",
        "    thresholds=0.2, top_k=None, class_id=None, name='recall', dtype=None\n",
        ")"
      ],
      "execution_count": 72,
      "outputs": []
    },
    {
      "cell_type": "code",
      "metadata": {
        "id": "FXGl7XDCGVvM"
      },
      "source": [
        "# Use Adam optimizer with default learning rate and binary_crossentropy loss function\n",
        "bank_model3.compile(optimizer='adam',loss='binary_crossentropy',metrics=['accuracy',Rec])"
      ],
      "execution_count": 73,
      "outputs": []
    },
    {
      "cell_type": "code",
      "metadata": {
        "colab": {
          "base_uri": "https://localhost:8080/"
        },
        "id": "YBcCzOlWG52A",
        "outputId": "ec8c109b-c662-4b3b-c98b-37f5ae6746a8"
      },
      "source": [
        "bank_model3.summary()"
      ],
      "execution_count": 74,
      "outputs": [
        {
          "output_type": "stream",
          "name": "stdout",
          "text": [
            "Model: \"sequential_2\"\n",
            "_________________________________________________________________\n",
            "Layer (type)                 Output Shape              Param #   \n",
            "=================================================================\n",
            "dense_6 (Dense)              (None, 20)                240       \n",
            "_________________________________________________________________\n",
            "dense_7 (Dense)              (None, 5)                 105       \n",
            "_________________________________________________________________\n",
            "dropout (Dropout)            (None, 5)                 0         \n",
            "_________________________________________________________________\n",
            "dense_8 (Dense)              (None, 1)                 6         \n",
            "=================================================================\n",
            "Total params: 351\n",
            "Trainable params: 351\n",
            "Non-trainable params: 0\n",
            "_________________________________________________________________\n"
          ]
        }
      ]
    },
    {
      "cell_type": "code",
      "metadata": {
        "colab": {
          "base_uri": "https://localhost:8080/"
        },
        "id": "ZQjizKSVHGu_",
        "outputId": "2f586c56-f886-4007-9e23-4a24b1322d48"
      },
      "source": [
        "his_mod2= bank_model3.fit(X_train, y_train, validation_split=0.2,epochs=100)"
      ],
      "execution_count": 75,
      "outputs": [
        {
          "output_type": "stream",
          "name": "stdout",
          "text": [
            "Epoch 1/100\n",
            "150/150 [==============================] - 1s 4ms/step - loss: 0.6010 - accuracy: 0.6806 - recall: 0.9303 - val_loss: 0.4943 - val_accuracy: 0.7983 - val_recall: 0.8623\n",
            "Epoch 2/100\n",
            "150/150 [==============================] - 0s 2ms/step - loss: 0.4871 - accuracy: 0.7887 - recall: 0.7415 - val_loss: 0.4404 - val_accuracy: 0.8092 - val_recall: 0.8300\n",
            "Epoch 3/100\n",
            "150/150 [==============================] - 0s 2ms/step - loss: 0.4637 - accuracy: 0.8023 - recall: 0.7344 - val_loss: 0.4182 - val_accuracy: 0.8150 - val_recall: 0.8178\n",
            "Epoch 4/100\n",
            "150/150 [==============================] - 0s 2ms/step - loss: 0.4500 - accuracy: 0.8112 - recall: 0.7344 - val_loss: 0.4045 - val_accuracy: 0.8258 - val_recall: 0.8219\n",
            "Epoch 5/100\n",
            "150/150 [==============================] - 0s 2ms/step - loss: 0.4345 - accuracy: 0.8154 - recall: 0.7446 - val_loss: 0.3933 - val_accuracy: 0.8325 - val_recall: 0.8421\n",
            "Epoch 6/100\n",
            "150/150 [==============================] - 0s 2ms/step - loss: 0.4243 - accuracy: 0.8288 - recall: 0.7395 - val_loss: 0.3822 - val_accuracy: 0.8425 - val_recall: 0.8259\n",
            "Epoch 7/100\n",
            "150/150 [==============================] - 0s 2ms/step - loss: 0.4135 - accuracy: 0.8360 - recall: 0.7477 - val_loss: 0.3685 - val_accuracy: 0.8517 - val_recall: 0.8340\n",
            "Epoch 8/100\n",
            "150/150 [==============================] - 0s 2ms/step - loss: 0.4037 - accuracy: 0.8427 - recall: 0.7497 - val_loss: 0.3588 - val_accuracy: 0.8600 - val_recall: 0.8462\n",
            "Epoch 9/100\n",
            "150/150 [==============================] - 0s 2ms/step - loss: 0.3911 - accuracy: 0.8475 - recall: 0.7610 - val_loss: 0.3492 - val_accuracy: 0.8667 - val_recall: 0.8057\n",
            "Epoch 10/100\n",
            "150/150 [==============================] - 0s 2ms/step - loss: 0.3838 - accuracy: 0.8483 - recall: 0.7518 - val_loss: 0.3449 - val_accuracy: 0.8658 - val_recall: 0.7935\n",
            "Epoch 11/100\n",
            "150/150 [==============================] - 0s 2ms/step - loss: 0.3783 - accuracy: 0.8533 - recall: 0.7518 - val_loss: 0.3418 - val_accuracy: 0.8675 - val_recall: 0.7692\n",
            "Epoch 12/100\n",
            "150/150 [==============================] - 0s 2ms/step - loss: 0.3706 - accuracy: 0.8556 - recall: 0.7477 - val_loss: 0.3385 - val_accuracy: 0.8650 - val_recall: 0.7733\n",
            "Epoch 13/100\n",
            "150/150 [==============================] - 0s 2ms/step - loss: 0.3731 - accuracy: 0.8535 - recall: 0.7528 - val_loss: 0.3387 - val_accuracy: 0.8700 - val_recall: 0.7449\n",
            "Epoch 14/100\n",
            "150/150 [==============================] - 0s 2ms/step - loss: 0.3701 - accuracy: 0.8519 - recall: 0.7518 - val_loss: 0.3365 - val_accuracy: 0.8717 - val_recall: 0.7773\n",
            "Epoch 15/100\n",
            "150/150 [==============================] - 0s 2ms/step - loss: 0.3708 - accuracy: 0.8496 - recall: 0.7631 - val_loss: 0.3379 - val_accuracy: 0.8708 - val_recall: 0.7652\n",
            "Epoch 16/100\n",
            "150/150 [==============================] - 0s 2ms/step - loss: 0.3608 - accuracy: 0.8562 - recall: 0.7549 - val_loss: 0.3358 - val_accuracy: 0.8742 - val_recall: 0.7692\n",
            "Epoch 17/100\n",
            "150/150 [==============================] - 0s 2ms/step - loss: 0.3601 - accuracy: 0.8546 - recall: 0.7641 - val_loss: 0.3344 - val_accuracy: 0.8683 - val_recall: 0.7652\n",
            "Epoch 18/100\n",
            "150/150 [==============================] - 0s 2ms/step - loss: 0.3570 - accuracy: 0.8565 - recall: 0.7621 - val_loss: 0.3331 - val_accuracy: 0.8708 - val_recall: 0.7773\n",
            "Epoch 19/100\n",
            "150/150 [==============================] - 0s 2ms/step - loss: 0.3618 - accuracy: 0.8571 - recall: 0.7528 - val_loss: 0.3329 - val_accuracy: 0.8725 - val_recall: 0.7692\n",
            "Epoch 20/100\n",
            "150/150 [==============================] - 0s 2ms/step - loss: 0.3541 - accuracy: 0.8556 - recall: 0.7569 - val_loss: 0.3304 - val_accuracy: 0.8692 - val_recall: 0.7773\n",
            "Epoch 21/100\n",
            "150/150 [==============================] - 0s 2ms/step - loss: 0.3579 - accuracy: 0.8598 - recall: 0.7538 - val_loss: 0.3287 - val_accuracy: 0.8767 - val_recall: 0.7652\n",
            "Epoch 22/100\n",
            "150/150 [==============================] - 0s 2ms/step - loss: 0.3487 - accuracy: 0.8575 - recall: 0.7662 - val_loss: 0.3266 - val_accuracy: 0.8692 - val_recall: 0.7530\n",
            "Epoch 23/100\n",
            "150/150 [==============================] - 0s 2ms/step - loss: 0.3467 - accuracy: 0.8617 - recall: 0.7662 - val_loss: 0.3254 - val_accuracy: 0.8700 - val_recall: 0.7733\n",
            "Epoch 24/100\n",
            "150/150 [==============================] - 0s 2ms/step - loss: 0.3448 - accuracy: 0.8583 - recall: 0.7518 - val_loss: 0.3306 - val_accuracy: 0.8725 - val_recall: 0.8016\n",
            "Epoch 25/100\n",
            "150/150 [==============================] - 0s 2ms/step - loss: 0.3472 - accuracy: 0.8558 - recall: 0.7867 - val_loss: 0.3261 - val_accuracy: 0.8700 - val_recall: 0.7814\n",
            "Epoch 26/100\n",
            "150/150 [==============================] - 0s 2ms/step - loss: 0.3452 - accuracy: 0.8577 - recall: 0.7631 - val_loss: 0.3249 - val_accuracy: 0.8708 - val_recall: 0.7571\n",
            "Epoch 27/100\n",
            "150/150 [==============================] - 0s 2ms/step - loss: 0.3446 - accuracy: 0.8596 - recall: 0.7621 - val_loss: 0.3266 - val_accuracy: 0.8742 - val_recall: 0.7530\n",
            "Epoch 28/100\n",
            "150/150 [==============================] - 0s 2ms/step - loss: 0.3421 - accuracy: 0.8596 - recall: 0.7610 - val_loss: 0.3256 - val_accuracy: 0.8717 - val_recall: 0.7692\n",
            "Epoch 29/100\n",
            "150/150 [==============================] - 0s 2ms/step - loss: 0.3436 - accuracy: 0.8590 - recall: 0.7610 - val_loss: 0.3261 - val_accuracy: 0.8733 - val_recall: 0.7652\n",
            "Epoch 30/100\n",
            "150/150 [==============================] - 0s 2ms/step - loss: 0.3419 - accuracy: 0.8617 - recall: 0.7682 - val_loss: 0.3268 - val_accuracy: 0.8717 - val_recall: 0.7814\n",
            "Epoch 31/100\n",
            "150/150 [==============================] - 0s 2ms/step - loss: 0.3401 - accuracy: 0.8621 - recall: 0.7641 - val_loss: 0.3250 - val_accuracy: 0.8700 - val_recall: 0.7611\n",
            "Epoch 32/100\n",
            "150/150 [==============================] - 0s 2ms/step - loss: 0.3393 - accuracy: 0.8596 - recall: 0.7651 - val_loss: 0.3249 - val_accuracy: 0.8692 - val_recall: 0.7611\n",
            "Epoch 33/100\n",
            "150/150 [==============================] - 0s 2ms/step - loss: 0.3408 - accuracy: 0.8592 - recall: 0.7579 - val_loss: 0.3240 - val_accuracy: 0.8725 - val_recall: 0.7652\n",
            "Epoch 34/100\n",
            "150/150 [==============================] - 0s 2ms/step - loss: 0.3407 - accuracy: 0.8625 - recall: 0.7641 - val_loss: 0.3262 - val_accuracy: 0.8725 - val_recall: 0.7733\n",
            "Epoch 35/100\n",
            "150/150 [==============================] - 0s 2ms/step - loss: 0.3401 - accuracy: 0.8617 - recall: 0.7621 - val_loss: 0.3241 - val_accuracy: 0.8725 - val_recall: 0.7692\n",
            "Epoch 36/100\n",
            "150/150 [==============================] - 0s 2ms/step - loss: 0.3425 - accuracy: 0.8596 - recall: 0.7703 - val_loss: 0.3248 - val_accuracy: 0.8717 - val_recall: 0.7895\n",
            "Epoch 37/100\n",
            "150/150 [==============================] - 0s 2ms/step - loss: 0.3389 - accuracy: 0.8608 - recall: 0.7703 - val_loss: 0.3235 - val_accuracy: 0.8700 - val_recall: 0.7652\n",
            "Epoch 38/100\n",
            "150/150 [==============================] - 0s 2ms/step - loss: 0.3390 - accuracy: 0.8635 - recall: 0.7692 - val_loss: 0.3235 - val_accuracy: 0.8742 - val_recall: 0.7652\n",
            "Epoch 39/100\n",
            "150/150 [==============================] - 0s 2ms/step - loss: 0.3376 - accuracy: 0.8621 - recall: 0.7528 - val_loss: 0.3248 - val_accuracy: 0.8717 - val_recall: 0.7976\n",
            "Epoch 40/100\n",
            "150/150 [==============================] - 0s 2ms/step - loss: 0.3396 - accuracy: 0.8629 - recall: 0.7764 - val_loss: 0.3230 - val_accuracy: 0.8758 - val_recall: 0.7773\n",
            "Epoch 41/100\n",
            "150/150 [==============================] - 0s 2ms/step - loss: 0.3364 - accuracy: 0.8617 - recall: 0.7754 - val_loss: 0.3227 - val_accuracy: 0.8700 - val_recall: 0.7571\n",
            "Epoch 42/100\n",
            "150/150 [==============================] - 0s 2ms/step - loss: 0.3378 - accuracy: 0.8602 - recall: 0.7641 - val_loss: 0.3224 - val_accuracy: 0.8725 - val_recall: 0.7773\n",
            "Epoch 43/100\n",
            "150/150 [==============================] - 0s 2ms/step - loss: 0.3346 - accuracy: 0.8615 - recall: 0.7795 - val_loss: 0.3236 - val_accuracy: 0.8733 - val_recall: 0.7814\n",
            "Epoch 44/100\n",
            "150/150 [==============================] - 0s 2ms/step - loss: 0.3364 - accuracy: 0.8625 - recall: 0.7672 - val_loss: 0.3231 - val_accuracy: 0.8750 - val_recall: 0.7692\n",
            "Epoch 45/100\n",
            "150/150 [==============================] - 0s 2ms/step - loss: 0.3342 - accuracy: 0.8646 - recall: 0.7744 - val_loss: 0.3226 - val_accuracy: 0.8683 - val_recall: 0.7773\n",
            "Epoch 46/100\n",
            "150/150 [==============================] - 0s 3ms/step - loss: 0.3370 - accuracy: 0.8612 - recall: 0.7805 - val_loss: 0.3234 - val_accuracy: 0.8708 - val_recall: 0.7571\n",
            "Epoch 47/100\n",
            "150/150 [==============================] - 0s 3ms/step - loss: 0.3364 - accuracy: 0.8604 - recall: 0.7682 - val_loss: 0.3245 - val_accuracy: 0.8700 - val_recall: 0.7652\n",
            "Epoch 48/100\n",
            "150/150 [==============================] - 0s 2ms/step - loss: 0.3359 - accuracy: 0.8617 - recall: 0.7733 - val_loss: 0.3241 - val_accuracy: 0.8717 - val_recall: 0.7773\n",
            "Epoch 49/100\n",
            "150/150 [==============================] - 0s 2ms/step - loss: 0.3331 - accuracy: 0.8640 - recall: 0.7836 - val_loss: 0.3232 - val_accuracy: 0.8733 - val_recall: 0.7773\n",
            "Epoch 50/100\n",
            "150/150 [==============================] - 0s 2ms/step - loss: 0.3338 - accuracy: 0.8612 - recall: 0.7754 - val_loss: 0.3234 - val_accuracy: 0.8692 - val_recall: 0.7692\n",
            "Epoch 51/100\n",
            "150/150 [==============================] - 0s 2ms/step - loss: 0.3345 - accuracy: 0.8610 - recall: 0.7733 - val_loss: 0.3240 - val_accuracy: 0.8733 - val_recall: 0.7854\n",
            "Epoch 52/100\n",
            "150/150 [==============================] - 0s 2ms/step - loss: 0.3334 - accuracy: 0.8631 - recall: 0.7795 - val_loss: 0.3242 - val_accuracy: 0.8742 - val_recall: 0.7895\n",
            "Epoch 53/100\n",
            "150/150 [==============================] - 0s 2ms/step - loss: 0.3321 - accuracy: 0.8625 - recall: 0.7815 - val_loss: 0.3244 - val_accuracy: 0.8708 - val_recall: 0.7814\n",
            "Epoch 54/100\n",
            "150/150 [==============================] - 0s 2ms/step - loss: 0.3333 - accuracy: 0.8625 - recall: 0.7795 - val_loss: 0.3246 - val_accuracy: 0.8708 - val_recall: 0.7733\n",
            "Epoch 55/100\n",
            "150/150 [==============================] - 0s 2ms/step - loss: 0.3326 - accuracy: 0.8650 - recall: 0.7672 - val_loss: 0.3234 - val_accuracy: 0.8708 - val_recall: 0.7733\n",
            "Epoch 56/100\n",
            "150/150 [==============================] - 0s 2ms/step - loss: 0.3349 - accuracy: 0.8629 - recall: 0.7733 - val_loss: 0.3244 - val_accuracy: 0.8717 - val_recall: 0.7692\n",
            "Epoch 57/100\n",
            "150/150 [==============================] - 0s 2ms/step - loss: 0.3314 - accuracy: 0.8608 - recall: 0.7826 - val_loss: 0.3232 - val_accuracy: 0.8700 - val_recall: 0.7611\n",
            "Epoch 58/100\n",
            "150/150 [==============================] - 0s 2ms/step - loss: 0.3324 - accuracy: 0.8606 - recall: 0.7856 - val_loss: 0.3243 - val_accuracy: 0.8683 - val_recall: 0.7409\n",
            "Epoch 59/100\n",
            "150/150 [==============================] - 0s 2ms/step - loss: 0.3322 - accuracy: 0.8640 - recall: 0.7744 - val_loss: 0.3239 - val_accuracy: 0.8700 - val_recall: 0.7449\n",
            "Epoch 60/100\n",
            "150/150 [==============================] - 0s 2ms/step - loss: 0.3306 - accuracy: 0.8662 - recall: 0.7733 - val_loss: 0.3232 - val_accuracy: 0.8725 - val_recall: 0.7571\n",
            "Epoch 61/100\n",
            "150/150 [==============================] - 0s 2ms/step - loss: 0.3331 - accuracy: 0.8650 - recall: 0.7785 - val_loss: 0.3233 - val_accuracy: 0.8725 - val_recall: 0.7490\n",
            "Epoch 62/100\n",
            "150/150 [==============================] - 0s 2ms/step - loss: 0.3294 - accuracy: 0.8646 - recall: 0.7785 - val_loss: 0.3234 - val_accuracy: 0.8692 - val_recall: 0.7571\n",
            "Epoch 63/100\n",
            "150/150 [==============================] - 0s 2ms/step - loss: 0.3310 - accuracy: 0.8671 - recall: 0.7774 - val_loss: 0.3234 - val_accuracy: 0.8708 - val_recall: 0.7652\n",
            "Epoch 64/100\n",
            "150/150 [==============================] - 0s 2ms/step - loss: 0.3318 - accuracy: 0.8621 - recall: 0.7856 - val_loss: 0.3229 - val_accuracy: 0.8683 - val_recall: 0.7449\n",
            "Epoch 65/100\n",
            "150/150 [==============================] - 0s 2ms/step - loss: 0.3332 - accuracy: 0.8623 - recall: 0.7744 - val_loss: 0.3230 - val_accuracy: 0.8717 - val_recall: 0.7733\n",
            "Epoch 66/100\n",
            "150/150 [==============================] - 0s 2ms/step - loss: 0.3302 - accuracy: 0.8654 - recall: 0.7846 - val_loss: 0.3252 - val_accuracy: 0.8700 - val_recall: 0.7571\n",
            "Epoch 67/100\n",
            "150/150 [==============================] - 0s 2ms/step - loss: 0.3255 - accuracy: 0.8658 - recall: 0.7764 - val_loss: 0.3235 - val_accuracy: 0.8725 - val_recall: 0.7449\n",
            "Epoch 68/100\n",
            "150/150 [==============================] - 0s 2ms/step - loss: 0.3268 - accuracy: 0.8637 - recall: 0.7785 - val_loss: 0.3239 - val_accuracy: 0.8733 - val_recall: 0.7490\n",
            "Epoch 69/100\n",
            "150/150 [==============================] - 0s 2ms/step - loss: 0.3296 - accuracy: 0.8658 - recall: 0.7856 - val_loss: 0.3235 - val_accuracy: 0.8708 - val_recall: 0.7449\n",
            "Epoch 70/100\n",
            "150/150 [==============================] - 0s 2ms/step - loss: 0.3279 - accuracy: 0.8656 - recall: 0.7723 - val_loss: 0.3237 - val_accuracy: 0.8700 - val_recall: 0.7530\n",
            "Epoch 71/100\n",
            "150/150 [==============================] - 0s 2ms/step - loss: 0.3289 - accuracy: 0.8665 - recall: 0.7826 - val_loss: 0.3239 - val_accuracy: 0.8733 - val_recall: 0.7368\n",
            "Epoch 72/100\n",
            "150/150 [==============================] - 0s 2ms/step - loss: 0.3313 - accuracy: 0.8646 - recall: 0.7795 - val_loss: 0.3248 - val_accuracy: 0.8733 - val_recall: 0.7571\n",
            "Epoch 73/100\n",
            "150/150 [==============================] - 0s 2ms/step - loss: 0.3316 - accuracy: 0.8631 - recall: 0.7805 - val_loss: 0.3246 - val_accuracy: 0.8692 - val_recall: 0.7409\n",
            "Epoch 74/100\n",
            "150/150 [==============================] - 0s 2ms/step - loss: 0.3256 - accuracy: 0.8681 - recall: 0.7836 - val_loss: 0.3241 - val_accuracy: 0.8700 - val_recall: 0.7206\n",
            "Epoch 75/100\n",
            "150/150 [==============================] - 0s 2ms/step - loss: 0.3280 - accuracy: 0.8644 - recall: 0.7846 - val_loss: 0.3236 - val_accuracy: 0.8717 - val_recall: 0.7368\n",
            "Epoch 76/100\n",
            "150/150 [==============================] - 0s 2ms/step - loss: 0.3284 - accuracy: 0.8662 - recall: 0.7641 - val_loss: 0.3237 - val_accuracy: 0.8717 - val_recall: 0.7611\n",
            "Epoch 77/100\n",
            "150/150 [==============================] - 0s 2ms/step - loss: 0.3258 - accuracy: 0.8656 - recall: 0.7785 - val_loss: 0.3242 - val_accuracy: 0.8717 - val_recall: 0.7409\n",
            "Epoch 78/100\n",
            "150/150 [==============================] - 0s 2ms/step - loss: 0.3292 - accuracy: 0.8646 - recall: 0.7744 - val_loss: 0.3253 - val_accuracy: 0.8708 - val_recall: 0.7530\n",
            "Epoch 79/100\n",
            "150/150 [==============================] - 0s 2ms/step - loss: 0.3258 - accuracy: 0.8662 - recall: 0.7703 - val_loss: 0.3235 - val_accuracy: 0.8717 - val_recall: 0.7409\n",
            "Epoch 80/100\n",
            "150/150 [==============================] - 0s 2ms/step - loss: 0.3263 - accuracy: 0.8654 - recall: 0.7672 - val_loss: 0.3244 - val_accuracy: 0.8733 - val_recall: 0.7490\n",
            "Epoch 81/100\n",
            "150/150 [==============================] - 0s 2ms/step - loss: 0.3271 - accuracy: 0.8644 - recall: 0.7805 - val_loss: 0.3255 - val_accuracy: 0.8708 - val_recall: 0.7409\n",
            "Epoch 82/100\n",
            "150/150 [==============================] - 0s 2ms/step - loss: 0.3279 - accuracy: 0.8662 - recall: 0.7918 - val_loss: 0.3242 - val_accuracy: 0.8708 - val_recall: 0.7449\n",
            "Epoch 83/100\n",
            "150/150 [==============================] - 0s 2ms/step - loss: 0.3263 - accuracy: 0.8669 - recall: 0.7836 - val_loss: 0.3237 - val_accuracy: 0.8733 - val_recall: 0.7368\n",
            "Epoch 84/100\n",
            "150/150 [==============================] - 0s 2ms/step - loss: 0.3260 - accuracy: 0.8665 - recall: 0.7733 - val_loss: 0.3246 - val_accuracy: 0.8692 - val_recall: 0.7206\n",
            "Epoch 85/100\n",
            "150/150 [==============================] - 0s 2ms/step - loss: 0.3269 - accuracy: 0.8654 - recall: 0.7795 - val_loss: 0.3237 - val_accuracy: 0.8742 - val_recall: 0.7490\n",
            "Epoch 86/100\n",
            "150/150 [==============================] - 0s 2ms/step - loss: 0.3246 - accuracy: 0.8662 - recall: 0.7703 - val_loss: 0.3241 - val_accuracy: 0.8725 - val_recall: 0.7530\n",
            "Epoch 87/100\n",
            "150/150 [==============================] - 0s 2ms/step - loss: 0.3241 - accuracy: 0.8679 - recall: 0.7949 - val_loss: 0.3243 - val_accuracy: 0.8717 - val_recall: 0.7571\n",
            "Epoch 88/100\n",
            "150/150 [==============================] - 0s 2ms/step - loss: 0.3225 - accuracy: 0.8658 - recall: 0.7856 - val_loss: 0.3237 - val_accuracy: 0.8750 - val_recall: 0.7287\n",
            "Epoch 89/100\n",
            "150/150 [==============================] - 0s 2ms/step - loss: 0.3271 - accuracy: 0.8692 - recall: 0.7723 - val_loss: 0.3239 - val_accuracy: 0.8733 - val_recall: 0.7368\n",
            "Epoch 90/100\n",
            "150/150 [==============================] - 0s 2ms/step - loss: 0.3226 - accuracy: 0.8671 - recall: 0.7877 - val_loss: 0.3253 - val_accuracy: 0.8750 - val_recall: 0.7611\n",
            "Epoch 91/100\n",
            "150/150 [==============================] - 0s 2ms/step - loss: 0.3232 - accuracy: 0.8669 - recall: 0.7867 - val_loss: 0.3249 - val_accuracy: 0.8758 - val_recall: 0.7530\n",
            "Epoch 92/100\n",
            "150/150 [==============================] - 0s 2ms/step - loss: 0.3250 - accuracy: 0.8662 - recall: 0.7887 - val_loss: 0.3247 - val_accuracy: 0.8767 - val_recall: 0.7530\n",
            "Epoch 93/100\n",
            "150/150 [==============================] - 0s 2ms/step - loss: 0.3276 - accuracy: 0.8623 - recall: 0.7815 - val_loss: 0.3250 - val_accuracy: 0.8742 - val_recall: 0.7287\n",
            "Epoch 94/100\n",
            "150/150 [==============================] - 0s 2ms/step - loss: 0.3252 - accuracy: 0.8671 - recall: 0.7682 - val_loss: 0.3255 - val_accuracy: 0.8750 - val_recall: 0.7530\n",
            "Epoch 95/100\n",
            "150/150 [==============================] - 0s 2ms/step - loss: 0.3211 - accuracy: 0.8687 - recall: 0.7918 - val_loss: 0.3257 - val_accuracy: 0.8717 - val_recall: 0.7409\n",
            "Epoch 96/100\n",
            "150/150 [==============================] - 0s 2ms/step - loss: 0.3247 - accuracy: 0.8652 - recall: 0.7846 - val_loss: 0.3256 - val_accuracy: 0.8742 - val_recall: 0.7490\n",
            "Epoch 97/100\n",
            "150/150 [==============================] - 0s 2ms/step - loss: 0.3236 - accuracy: 0.8687 - recall: 0.7846 - val_loss: 0.3263 - val_accuracy: 0.8750 - val_recall: 0.7571\n",
            "Epoch 98/100\n",
            "150/150 [==============================] - 0s 2ms/step - loss: 0.3222 - accuracy: 0.8646 - recall: 0.7836 - val_loss: 0.3244 - val_accuracy: 0.8742 - val_recall: 0.7490\n",
            "Epoch 99/100\n",
            "150/150 [==============================] - 0s 2ms/step - loss: 0.3225 - accuracy: 0.8671 - recall: 0.7774 - val_loss: 0.3243 - val_accuracy: 0.8733 - val_recall: 0.7490\n",
            "Epoch 100/100\n",
            "150/150 [==============================] - 0s 2ms/step - loss: 0.3259 - accuracy: 0.8673 - recall: 0.7856 - val_loss: 0.3270 - val_accuracy: 0.8733 - val_recall: 0.7652\n"
          ]
        }
      ]
    },
    {
      "cell_type": "code",
      "metadata": {
        "colab": {
          "base_uri": "https://localhost:8080/",
          "height": 283
        },
        "id": "XxZxUYI5HQJF",
        "outputId": "cf1134b4-b4dc-49da-f968-33b55ef75ffa"
      },
      "source": [
        "# Capturing learning history per epoch\n",
        "hist  = pd.DataFrame(his_mod2.history)\n",
        "hist['epoch'] = his_mod2.epoch\n",
        "\n",
        "# Plotting accuracy at different epochs\n",
        "plt.plot(hist['loss'])\n",
        "plt.plot(hist['val_loss'])\n",
        "plt.legend((\"train\" , \"valid\") , loc =0)"
      ],
      "execution_count": 76,
      "outputs": [
        {
          "output_type": "execute_result",
          "data": {
            "text/plain": [
              "<matplotlib.legend.Legend at 0x7f0afd67a2d0>"
            ]
          },
          "metadata": {},
          "execution_count": 76
        },
        {
          "output_type": "display_data",
          "data": {
            "image/png": "[encoded data removed]",
            "text/plain": [
              "<Figure size 432x288 with 1 Axes>"
            ]
          },
          "metadata": {
            "needs_background": "light"
          }
        }
      ]
    },
    {
      "cell_type": "code",
      "metadata": {
        "colab": {
          "base_uri": "https://localhost:8080/"
        },
        "id": "UOV_EHALHX5z",
        "outputId": "37fa62a1-5b3a-4474-8f29-76f240da717c"
      },
      "source": [
        "# Model 3 performance:\n",
        "print('Train scores:')\n",
        "train_scores_3 = bank_model3.evaluate(X_train, y_train)\n",
        "print('Validation scores:')\n",
        "train_scores_3 = bank_model3.evaluate(X_val, y_val)\n",
        "print('Test scores:')\n",
        "test_scores_3 = bank_model3.evaluate(X_test, y_test)"
      ],
      "execution_count": 77,
      "outputs": [
        {
          "output_type": "stream",
          "name": "stdout",
          "text": [
            "Train scores:\n",
            "188/188 [==============================] - 0s 1ms/step - loss: 0.3140 - accuracy: 0.8715 - recall: 0.8028\n",
            "Validation scores:\n",
            "63/63 [==============================] - 0s 1ms/step - loss: 0.3599 - accuracy: 0.8470 - recall: 0.7328\n",
            "Test scores:\n",
            "63/63 [==============================] - 0s 1ms/step - loss: 0.3551 - accuracy: 0.8590 - recall: 0.7396\n"
          ]
        }
      ]
    },
    {
      "cell_type": "markdown",
      "metadata": {
        "id": "kKev-EP-j0cs"
      },
      "source": [
        "- Recall score improved relative to the second modelacross training, vaidation and test set to 79%,76% and 74% respectively"
      ]
    },
    {
      "cell_type": "code",
      "metadata": {
        "colab": {
          "base_uri": "https://localhost:8080/",
          "height": 338
        },
        "id": "FBAPpQVoQ1b0",
        "outputId": "f6e8721c-b31d-426b-9647-971ca082bcc5"
      },
      "source": [
        "## Confusion Matrix\n",
        "\n",
        "y_pred3 = bank_model3.predict(X_test)\n",
        "\n",
        "for i in range(len(y_test)): \n",
        "    if y_pred3[i] > 0.2:\n",
        "        y_pred3[i] = 1 \n",
        "    else:\n",
        "        y_pred3[i] = 0\n",
        "\n",
        "cm3=confusion_matrix(y_test, y_pred3)\n",
        "labels = ['True Negative','False Positive','False Negative','True Positive']\n",
        "categories = ['Not_Exited','Exited']\n",
        "\n",
        "make_confusion_matrix(cm3, \n",
        "                      group_names=labels,\n",
        "                      categories=categories, \n",
        "                      cmap='Blues')"
      ],
      "execution_count": 78,
      "outputs": [
        {
          "output_type": "display_data",
          "data": {
            "image/png": "[encoded data removed]",
            "text/plain": [
              "<Figure size 432x288 with 2 Axes>"
            ]
          },
          "metadata": {
            "needs_background": "light"
          }
        }
      ]
    },
    {
      "cell_type": "markdown",
      "metadata": {
        "id": "9329WbQwk4wf"
      },
      "source": [
        "**Building a new model similar to the third model with more hidden layers**"
      ]
    },
    {
      "cell_type": "code",
      "metadata": {
        "id": "JLML81EeVk8_"
      },
      "source": [
        "# Model 4 initialization\n",
        "bank_model4 = Sequential([\n",
        "    Dense(units=50, input_dim = X_train.shape[1], activation='relu'),\n",
        "    Dropout(.25), # Adding 50% dropout to reduce model's overfitting\n",
        "    Dense(units=10, activation='relu'),\n",
        "    Dense(units=3,activation='relu'),\n",
        "    Dense(1,activation='sigmoid')\n",
        "    ])"
      ],
      "execution_count": 79,
      "outputs": []
    },
    {
      "cell_type": "code",
      "metadata": {
        "id": "r-_Ha9iTWBQB"
      },
      "source": [
        "from tensorflow.keras.metrics import Recall, Accuracy, Precision\n",
        "\n",
        "Rec=tf.keras.metrics.Recall(\n",
        "    thresholds=0.2, top_k=None, class_id=None, name='recall', dtype=None)"
      ],
      "execution_count": 80,
      "outputs": []
    },
    {
      "cell_type": "code",
      "metadata": {
        "id": "M3taa8qXV1XJ"
      },
      "source": [
        "# Use Adam optimizer with default learning rate and binary_crossentropy loss function\n",
        "bank_model4.compile(optimizer='adam',loss='binary_crossentropy',metrics=['accuracy',Rec])"
      ],
      "execution_count": 81,
      "outputs": []
    },
    {
      "cell_type": "code",
      "metadata": {
        "colab": {
          "base_uri": "https://localhost:8080/"
        },
        "id": "O_l55o_nWKaD",
        "outputId": "1da4ee13-2111-44ef-d83e-665ca0f818a3"
      },
      "source": [
        "bank_model4.summary()"
      ],
      "execution_count": 82,
      "outputs": [
        {
          "output_type": "stream",
          "name": "stdout",
          "text": [
            "Model: \"sequential_3\"\n",
            "_________________________________________________________________\n",
            "Layer (type)                 Output Shape              Param #   \n",
            "=================================================================\n",
            "dense_9 (Dense)              (None, 50)                600       \n",
            "_________________________________________________________________\n",
            "dropout_1 (Dropout)          (None, 50)                0         \n",
            "_________________________________________________________________\n",
            "dense_10 (Dense)             (None, 10)                510       \n",
            "_________________________________________________________________\n",
            "dense_11 (Dense)             (None, 3)                 33        \n",
            "_________________________________________________________________\n",
            "dense_12 (Dense)             (None, 1)                 4         \n",
            "=================================================================\n",
            "Total params: 1,147\n",
            "Trainable params: 1,147\n",
            "Non-trainable params: 0\n",
            "_________________________________________________________________\n"
          ]
        }
      ]
    },
    {
      "cell_type": "code",
      "metadata": {
        "colab": {
          "base_uri": "https://localhost:8080/"
        },
        "id": "RSHUEOv-WPsw",
        "outputId": "3dbea3b5-a273-4813-e072-5a80dd28dad5"
      },
      "source": [
        "his_mod3= bank_model4.fit(X_train, y_train, validation_split=0.2,epochs=100)"
      ],
      "execution_count": 83,
      "outputs": [
        {
          "output_type": "stream",
          "name": "stdout",
          "text": [
            "Epoch 1/100\n",
            "150/150 [==============================] - 1s 4ms/step - loss: 0.6027 - accuracy: 0.7275 - recall: 0.9436 - val_loss: 0.4778 - val_accuracy: 0.7942 - val_recall: 0.8421\n",
            "Epoch 2/100\n",
            "150/150 [==============================] - 0s 2ms/step - loss: 0.4610 - accuracy: 0.7975 - recall: 0.7108 - val_loss: 0.4280 - val_accuracy: 0.8008 - val_recall: 0.8219\n",
            "Epoch 3/100\n",
            "150/150 [==============================] - 0s 2ms/step - loss: 0.4404 - accuracy: 0.8071 - recall: 0.7262 - val_loss: 0.4062 - val_accuracy: 0.8233 - val_recall: 0.7773\n",
            "Epoch 4/100\n",
            "150/150 [==============================] - 0s 2ms/step - loss: 0.4258 - accuracy: 0.8242 - recall: 0.7118 - val_loss: 0.3878 - val_accuracy: 0.8433 - val_recall: 0.8016\n",
            "Epoch 5/100\n",
            "150/150 [==============================] - 0s 2ms/step - loss: 0.4079 - accuracy: 0.8344 - recall: 0.7385 - val_loss: 0.3649 - val_accuracy: 0.8567 - val_recall: 0.8381\n",
            "Epoch 6/100\n",
            "150/150 [==============================] - 0s 2ms/step - loss: 0.3947 - accuracy: 0.8465 - recall: 0.7395 - val_loss: 0.3454 - val_accuracy: 0.8617 - val_recall: 0.8097\n",
            "Epoch 7/100\n",
            "150/150 [==============================] - 0s 2ms/step - loss: 0.3801 - accuracy: 0.8471 - recall: 0.7241 - val_loss: 0.3363 - val_accuracy: 0.8675 - val_recall: 0.7571\n",
            "Epoch 8/100\n",
            "150/150 [==============================] - 0s 2ms/step - loss: 0.3688 - accuracy: 0.8500 - recall: 0.7354 - val_loss: 0.3295 - val_accuracy: 0.8667 - val_recall: 0.7814\n",
            "Epoch 9/100\n",
            "150/150 [==============================] - 0s 2ms/step - loss: 0.3673 - accuracy: 0.8519 - recall: 0.7262 - val_loss: 0.3286 - val_accuracy: 0.8692 - val_recall: 0.7530\n",
            "Epoch 10/100\n",
            "150/150 [==============================] - 0s 2ms/step - loss: 0.3621 - accuracy: 0.8519 - recall: 0.7323 - val_loss: 0.3278 - val_accuracy: 0.8725 - val_recall: 0.7935\n",
            "Epoch 11/100\n",
            "150/150 [==============================] - 0s 2ms/step - loss: 0.3566 - accuracy: 0.8573 - recall: 0.7456 - val_loss: 0.3239 - val_accuracy: 0.8708 - val_recall: 0.7692\n",
            "Epoch 12/100\n",
            "150/150 [==============================] - 0s 2ms/step - loss: 0.3633 - accuracy: 0.8540 - recall: 0.7333 - val_loss: 0.3240 - val_accuracy: 0.8692 - val_recall: 0.7611\n",
            "Epoch 13/100\n",
            "150/150 [==============================] - 0s 2ms/step - loss: 0.3522 - accuracy: 0.8569 - recall: 0.7600 - val_loss: 0.3251 - val_accuracy: 0.8725 - val_recall: 0.7409\n",
            "Epoch 14/100\n",
            "150/150 [==============================] - 0s 2ms/step - loss: 0.3531 - accuracy: 0.8540 - recall: 0.7344 - val_loss: 0.3231 - val_accuracy: 0.8700 - val_recall: 0.7692\n",
            "Epoch 15/100\n",
            "150/150 [==============================] - 0s 2ms/step - loss: 0.3506 - accuracy: 0.8562 - recall: 0.7467 - val_loss: 0.3236 - val_accuracy: 0.8708 - val_recall: 0.7449\n",
            "Epoch 16/100\n",
            "150/150 [==============================] - 0s 2ms/step - loss: 0.3507 - accuracy: 0.8573 - recall: 0.7323 - val_loss: 0.3240 - val_accuracy: 0.8692 - val_recall: 0.7733\n",
            "Epoch 17/100\n",
            "150/150 [==============================] - 0s 2ms/step - loss: 0.3489 - accuracy: 0.8527 - recall: 0.7436 - val_loss: 0.3226 - val_accuracy: 0.8725 - val_recall: 0.7611\n",
            "Epoch 18/100\n",
            "150/150 [==============================] - 0s 2ms/step - loss: 0.3470 - accuracy: 0.8531 - recall: 0.7600 - val_loss: 0.3240 - val_accuracy: 0.8658 - val_recall: 0.7814\n",
            "Epoch 19/100\n",
            "150/150 [==============================] - 0s 2ms/step - loss: 0.3412 - accuracy: 0.8610 - recall: 0.7569 - val_loss: 0.3228 - val_accuracy: 0.8708 - val_recall: 0.7530\n",
            "Epoch 20/100\n",
            "150/150 [==============================] - 0s 2ms/step - loss: 0.3450 - accuracy: 0.8554 - recall: 0.7436 - val_loss: 0.3237 - val_accuracy: 0.8692 - val_recall: 0.7773\n",
            "Epoch 21/100\n",
            "150/150 [==============================] - 0s 2ms/step - loss: 0.3445 - accuracy: 0.8600 - recall: 0.7610 - val_loss: 0.3206 - val_accuracy: 0.8725 - val_recall: 0.7773\n",
            "Epoch 22/100\n",
            "150/150 [==============================] - 0s 2ms/step - loss: 0.3434 - accuracy: 0.8608 - recall: 0.7713 - val_loss: 0.3202 - val_accuracy: 0.8708 - val_recall: 0.7652\n",
            "Epoch 23/100\n",
            "150/150 [==============================] - 0s 2ms/step - loss: 0.3439 - accuracy: 0.8558 - recall: 0.7631 - val_loss: 0.3195 - val_accuracy: 0.8700 - val_recall: 0.7895\n",
            "Epoch 24/100\n",
            "150/150 [==============================] - 0s 2ms/step - loss: 0.3435 - accuracy: 0.8598 - recall: 0.7518 - val_loss: 0.3261 - val_accuracy: 0.8692 - val_recall: 0.8138\n",
            "Epoch 25/100\n",
            "150/150 [==============================] - 0s 2ms/step - loss: 0.3431 - accuracy: 0.8608 - recall: 0.7836 - val_loss: 0.3200 - val_accuracy: 0.8692 - val_recall: 0.7773\n",
            "Epoch 26/100\n",
            "150/150 [==============================] - 0s 2ms/step - loss: 0.3423 - accuracy: 0.8608 - recall: 0.7477 - val_loss: 0.3210 - val_accuracy: 0.8708 - val_recall: 0.7611\n",
            "Epoch 27/100\n",
            "150/150 [==============================] - 0s 2ms/step - loss: 0.3443 - accuracy: 0.8581 - recall: 0.7651 - val_loss: 0.3226 - val_accuracy: 0.8692 - val_recall: 0.7287\n",
            "Epoch 28/100\n",
            "150/150 [==============================] - 0s 2ms/step - loss: 0.3392 - accuracy: 0.8612 - recall: 0.7569 - val_loss: 0.3192 - val_accuracy: 0.8700 - val_recall: 0.7814\n",
            "Epoch 29/100\n",
            "150/150 [==============================] - 0s 2ms/step - loss: 0.3396 - accuracy: 0.8615 - recall: 0.7600 - val_loss: 0.3218 - val_accuracy: 0.8683 - val_recall: 0.7368\n",
            "Epoch 30/100\n",
            "150/150 [==============================] - 0s 2ms/step - loss: 0.3405 - accuracy: 0.8617 - recall: 0.7672 - val_loss: 0.3221 - val_accuracy: 0.8692 - val_recall: 0.7773\n",
            "Epoch 31/100\n",
            "150/150 [==============================] - 0s 2ms/step - loss: 0.3363 - accuracy: 0.8642 - recall: 0.7723 - val_loss: 0.3203 - val_accuracy: 0.8675 - val_recall: 0.7571\n",
            "Epoch 32/100\n",
            "150/150 [==============================] - 0s 2ms/step - loss: 0.3377 - accuracy: 0.8590 - recall: 0.7631 - val_loss: 0.3222 - val_accuracy: 0.8683 - val_recall: 0.7409\n",
            "Epoch 33/100\n",
            "150/150 [==============================] - 0s 2ms/step - loss: 0.3344 - accuracy: 0.8650 - recall: 0.7590 - val_loss: 0.3206 - val_accuracy: 0.8708 - val_recall: 0.7490\n",
            "Epoch 34/100\n",
            "150/150 [==============================] - 0s 2ms/step - loss: 0.3339 - accuracy: 0.8652 - recall: 0.7600 - val_loss: 0.3222 - val_accuracy: 0.8700 - val_recall: 0.7611\n",
            "Epoch 35/100\n",
            "150/150 [==============================] - 0s 2ms/step - loss: 0.3388 - accuracy: 0.8617 - recall: 0.7621 - val_loss: 0.3206 - val_accuracy: 0.8683 - val_recall: 0.7652\n",
            "Epoch 36/100\n",
            "150/150 [==============================] - 0s 2ms/step - loss: 0.3349 - accuracy: 0.8590 - recall: 0.7713 - val_loss: 0.3215 - val_accuracy: 0.8742 - val_recall: 0.7976\n",
            "Epoch 37/100\n",
            "150/150 [==============================] - 0s 2ms/step - loss: 0.3364 - accuracy: 0.8610 - recall: 0.7744 - val_loss: 0.3226 - val_accuracy: 0.8700 - val_recall: 0.7206\n",
            "Epoch 38/100\n",
            "150/150 [==============================] - 0s 2ms/step - loss: 0.3307 - accuracy: 0.8646 - recall: 0.7662 - val_loss: 0.3220 - val_accuracy: 0.8692 - val_recall: 0.7449\n",
            "Epoch 39/100\n",
            "150/150 [==============================] - 0s 2ms/step - loss: 0.3369 - accuracy: 0.8625 - recall: 0.7621 - val_loss: 0.3212 - val_accuracy: 0.8683 - val_recall: 0.7895\n",
            "Epoch 40/100\n",
            "150/150 [==============================] - 0s 2ms/step - loss: 0.3331 - accuracy: 0.8685 - recall: 0.7846 - val_loss: 0.3191 - val_accuracy: 0.8675 - val_recall: 0.7773\n",
            "Epoch 41/100\n",
            "150/150 [==============================] - 0s 2ms/step - loss: 0.3346 - accuracy: 0.8623 - recall: 0.7774 - val_loss: 0.3206 - val_accuracy: 0.8700 - val_recall: 0.7368\n",
            "Epoch 42/100\n",
            "150/150 [==============================] - 0s 2ms/step - loss: 0.3274 - accuracy: 0.8677 - recall: 0.7785 - val_loss: 0.3208 - val_accuracy: 0.8700 - val_recall: 0.7652\n",
            "Epoch 43/100\n",
            "150/150 [==============================] - 0s 2ms/step - loss: 0.3315 - accuracy: 0.8667 - recall: 0.7744 - val_loss: 0.3221 - val_accuracy: 0.8692 - val_recall: 0.7530\n",
            "Epoch 44/100\n",
            "150/150 [==============================] - 0s 2ms/step - loss: 0.3291 - accuracy: 0.8681 - recall: 0.7662 - val_loss: 0.3215 - val_accuracy: 0.8733 - val_recall: 0.7733\n",
            "Epoch 45/100\n",
            "150/150 [==============================] - 0s 2ms/step - loss: 0.3274 - accuracy: 0.8660 - recall: 0.7897 - val_loss: 0.3208 - val_accuracy: 0.8708 - val_recall: 0.7571\n",
            "Epoch 46/100\n",
            "150/150 [==============================] - 0s 2ms/step - loss: 0.3281 - accuracy: 0.8683 - recall: 0.7815 - val_loss: 0.3208 - val_accuracy: 0.8725 - val_recall: 0.7206\n",
            "Epoch 47/100\n",
            "150/150 [==============================] - 0s 2ms/step - loss: 0.3318 - accuracy: 0.8660 - recall: 0.7723 - val_loss: 0.3232 - val_accuracy: 0.8708 - val_recall: 0.7247\n",
            "Epoch 48/100\n",
            "150/150 [==============================] - 0s 2ms/step - loss: 0.3303 - accuracy: 0.8650 - recall: 0.7744 - val_loss: 0.3218 - val_accuracy: 0.8742 - val_recall: 0.7611\n",
            "Epoch 49/100\n",
            "150/150 [==============================] - 0s 2ms/step - loss: 0.3327 - accuracy: 0.8650 - recall: 0.7692 - val_loss: 0.3225 - val_accuracy: 0.8733 - val_recall: 0.7733\n",
            "Epoch 50/100\n",
            "150/150 [==============================] - 0s 2ms/step - loss: 0.3277 - accuracy: 0.8637 - recall: 0.7754 - val_loss: 0.3213 - val_accuracy: 0.8725 - val_recall: 0.7652\n",
            "Epoch 51/100\n",
            "150/150 [==============================] - 0s 2ms/step - loss: 0.3299 - accuracy: 0.8685 - recall: 0.7754 - val_loss: 0.3215 - val_accuracy: 0.8717 - val_recall: 0.7895\n",
            "Epoch 52/100\n",
            "150/150 [==============================] - 0s 2ms/step - loss: 0.3293 - accuracy: 0.8658 - recall: 0.7692 - val_loss: 0.3217 - val_accuracy: 0.8700 - val_recall: 0.7935\n",
            "Epoch 53/100\n",
            "150/150 [==============================] - 0s 2ms/step - loss: 0.3324 - accuracy: 0.8687 - recall: 0.7723 - val_loss: 0.3195 - val_accuracy: 0.8708 - val_recall: 0.7814\n",
            "Epoch 54/100\n",
            "150/150 [==============================] - 0s 2ms/step - loss: 0.3222 - accuracy: 0.8673 - recall: 0.7949 - val_loss: 0.3222 - val_accuracy: 0.8708 - val_recall: 0.7409\n",
            "Epoch 55/100\n",
            "150/150 [==============================] - 0s 2ms/step - loss: 0.3275 - accuracy: 0.8667 - recall: 0.7651 - val_loss: 0.3191 - val_accuracy: 0.8725 - val_recall: 0.7733\n",
            "Epoch 56/100\n",
            "150/150 [==============================] - 0s 2ms/step - loss: 0.3289 - accuracy: 0.8671 - recall: 0.7631 - val_loss: 0.3195 - val_accuracy: 0.8717 - val_recall: 0.7611\n",
            "Epoch 57/100\n",
            "150/150 [==============================] - 0s 2ms/step - loss: 0.3326 - accuracy: 0.8671 - recall: 0.7610 - val_loss: 0.3199 - val_accuracy: 0.8725 - val_recall: 0.7571\n",
            "Epoch 58/100\n",
            "150/150 [==============================] - 0s 2ms/step - loss: 0.3238 - accuracy: 0.8694 - recall: 0.7692 - val_loss: 0.3198 - val_accuracy: 0.8742 - val_recall: 0.7692\n",
            "Epoch 59/100\n",
            "150/150 [==============================] - 0s 2ms/step - loss: 0.3269 - accuracy: 0.8690 - recall: 0.7908 - val_loss: 0.3209 - val_accuracy: 0.8708 - val_recall: 0.7571\n",
            "Epoch 60/100\n",
            "150/150 [==============================] - 0s 2ms/step - loss: 0.3252 - accuracy: 0.8692 - recall: 0.7846 - val_loss: 0.3203 - val_accuracy: 0.8725 - val_recall: 0.7490\n",
            "Epoch 61/100\n",
            "150/150 [==============================] - 0s 2ms/step - loss: 0.3244 - accuracy: 0.8706 - recall: 0.7672 - val_loss: 0.3214 - val_accuracy: 0.8733 - val_recall: 0.7611\n",
            "Epoch 62/100\n",
            "150/150 [==============================] - 0s 2ms/step - loss: 0.3238 - accuracy: 0.8698 - recall: 0.7826 - val_loss: 0.3210 - val_accuracy: 0.8750 - val_recall: 0.7490\n",
            "Epoch 63/100\n",
            "150/150 [==============================] - 0s 2ms/step - loss: 0.3230 - accuracy: 0.8669 - recall: 0.7815 - val_loss: 0.3212 - val_accuracy: 0.8717 - val_recall: 0.7692\n",
            "Epoch 64/100\n",
            "150/150 [==============================] - 0s 2ms/step - loss: 0.3231 - accuracy: 0.8698 - recall: 0.7805 - val_loss: 0.3211 - val_accuracy: 0.8733 - val_recall: 0.7368\n",
            "Epoch 65/100\n",
            "150/150 [==============================] - 0s 2ms/step - loss: 0.3234 - accuracy: 0.8669 - recall: 0.7641 - val_loss: 0.3220 - val_accuracy: 0.8733 - val_recall: 0.7935\n",
            "Epoch 66/100\n",
            "150/150 [==============================] - 0s 2ms/step - loss: 0.3214 - accuracy: 0.8723 - recall: 0.7897 - val_loss: 0.3222 - val_accuracy: 0.8708 - val_recall: 0.7571\n",
            "Epoch 67/100\n",
            "150/150 [==============================] - 0s 2ms/step - loss: 0.3230 - accuracy: 0.8698 - recall: 0.7723 - val_loss: 0.3210 - val_accuracy: 0.8733 - val_recall: 0.7490\n",
            "Epoch 68/100\n",
            "150/150 [==============================] - 0s 2ms/step - loss: 0.3208 - accuracy: 0.8712 - recall: 0.7764 - val_loss: 0.3222 - val_accuracy: 0.8742 - val_recall: 0.7571\n",
            "Epoch 69/100\n",
            "150/150 [==============================] - 0s 2ms/step - loss: 0.3219 - accuracy: 0.8737 - recall: 0.7723 - val_loss: 0.3235 - val_accuracy: 0.8725 - val_recall: 0.7571\n",
            "Epoch 70/100\n",
            "150/150 [==============================] - 0s 2ms/step - loss: 0.3246 - accuracy: 0.8698 - recall: 0.7641 - val_loss: 0.3235 - val_accuracy: 0.8742 - val_recall: 0.7611\n",
            "Epoch 71/100\n",
            "150/150 [==============================] - 0s 2ms/step - loss: 0.3239 - accuracy: 0.8662 - recall: 0.7805 - val_loss: 0.3231 - val_accuracy: 0.8742 - val_recall: 0.7409\n",
            "Epoch 72/100\n",
            "150/150 [==============================] - 0s 3ms/step - loss: 0.3243 - accuracy: 0.8706 - recall: 0.7723 - val_loss: 0.3228 - val_accuracy: 0.8750 - val_recall: 0.7449\n",
            "Epoch 73/100\n",
            "150/150 [==============================] - 0s 2ms/step - loss: 0.3211 - accuracy: 0.8704 - recall: 0.7713 - val_loss: 0.3226 - val_accuracy: 0.8767 - val_recall: 0.7409\n",
            "Epoch 74/100\n",
            "150/150 [==============================] - 0s 2ms/step - loss: 0.3246 - accuracy: 0.8687 - recall: 0.7713 - val_loss: 0.3265 - val_accuracy: 0.8700 - val_recall: 0.7126\n",
            "Epoch 75/100\n",
            "150/150 [==============================] - 0s 2ms/step - loss: 0.3259 - accuracy: 0.8662 - recall: 0.7631 - val_loss: 0.3241 - val_accuracy: 0.8750 - val_recall: 0.7530\n",
            "Epoch 76/100\n",
            "150/150 [==============================] - 0s 2ms/step - loss: 0.3242 - accuracy: 0.8719 - recall: 0.7672 - val_loss: 0.3230 - val_accuracy: 0.8725 - val_recall: 0.7652\n",
            "Epoch 77/100\n",
            "150/150 [==============================] - 0s 2ms/step - loss: 0.3246 - accuracy: 0.8690 - recall: 0.7723 - val_loss: 0.3239 - val_accuracy: 0.8758 - val_recall: 0.7530\n",
            "Epoch 78/100\n",
            "150/150 [==============================] - 0s 2ms/step - loss: 0.3202 - accuracy: 0.8719 - recall: 0.7723 - val_loss: 0.3222 - val_accuracy: 0.8733 - val_recall: 0.7490\n",
            "Epoch 79/100\n",
            "150/150 [==============================] - 0s 2ms/step - loss: 0.3239 - accuracy: 0.8690 - recall: 0.7600 - val_loss: 0.3212 - val_accuracy: 0.8708 - val_recall: 0.7490\n",
            "Epoch 80/100\n",
            "150/150 [==============================] - 0s 2ms/step - loss: 0.3154 - accuracy: 0.8710 - recall: 0.7856 - val_loss: 0.3233 - val_accuracy: 0.8725 - val_recall: 0.7814\n",
            "Epoch 81/100\n",
            "150/150 [==============================] - 0s 2ms/step - loss: 0.3210 - accuracy: 0.8679 - recall: 0.7867 - val_loss: 0.3241 - val_accuracy: 0.8742 - val_recall: 0.7368\n",
            "Epoch 82/100\n",
            "150/150 [==============================] - 0s 2ms/step - loss: 0.3185 - accuracy: 0.8698 - recall: 0.7744 - val_loss: 0.3255 - val_accuracy: 0.8733 - val_recall: 0.7571\n",
            "Epoch 83/100\n",
            "150/150 [==============================] - 0s 2ms/step - loss: 0.3167 - accuracy: 0.8690 - recall: 0.7928 - val_loss: 0.3252 - val_accuracy: 0.8742 - val_recall: 0.7611\n",
            "Epoch 84/100\n",
            "150/150 [==============================] - 0s 2ms/step - loss: 0.3154 - accuracy: 0.8700 - recall: 0.7795 - val_loss: 0.3259 - val_accuracy: 0.8725 - val_recall: 0.7247\n",
            "Epoch 85/100\n",
            "150/150 [==============================] - 0s 2ms/step - loss: 0.3196 - accuracy: 0.8723 - recall: 0.7785 - val_loss: 0.3257 - val_accuracy: 0.8750 - val_recall: 0.7287\n",
            "Epoch 86/100\n",
            "150/150 [==============================] - 0s 2ms/step - loss: 0.3215 - accuracy: 0.8694 - recall: 0.7733 - val_loss: 0.3242 - val_accuracy: 0.8742 - val_recall: 0.7571\n",
            "Epoch 87/100\n",
            "150/150 [==============================] - 0s 2ms/step - loss: 0.3158 - accuracy: 0.8719 - recall: 0.7795 - val_loss: 0.3247 - val_accuracy: 0.8758 - val_recall: 0.7530\n",
            "Epoch 88/100\n",
            "150/150 [==============================] - 0s 2ms/step - loss: 0.3135 - accuracy: 0.8750 - recall: 0.7897 - val_loss: 0.3235 - val_accuracy: 0.8775 - val_recall: 0.7490\n",
            "Epoch 89/100\n",
            "150/150 [==============================] - 0s 2ms/step - loss: 0.3161 - accuracy: 0.8717 - recall: 0.7826 - val_loss: 0.3237 - val_accuracy: 0.8733 - val_recall: 0.7409\n",
            "Epoch 90/100\n",
            "150/150 [==============================] - 0s 2ms/step - loss: 0.3174 - accuracy: 0.8723 - recall: 0.7846 - val_loss: 0.3238 - val_accuracy: 0.8742 - val_recall: 0.7652\n",
            "Epoch 91/100\n",
            "150/150 [==============================] - 0s 2ms/step - loss: 0.3180 - accuracy: 0.8717 - recall: 0.7795 - val_loss: 0.3257 - val_accuracy: 0.8733 - val_recall: 0.7571\n",
            "Epoch 92/100\n",
            "150/150 [==============================] - 0s 2ms/step - loss: 0.3188 - accuracy: 0.8687 - recall: 0.7805 - val_loss: 0.3232 - val_accuracy: 0.8733 - val_recall: 0.7490\n",
            "Epoch 93/100\n",
            "150/150 [==============================] - 0s 2ms/step - loss: 0.3162 - accuracy: 0.8729 - recall: 0.7774 - val_loss: 0.3239 - val_accuracy: 0.8758 - val_recall: 0.7409\n",
            "Epoch 94/100\n",
            "150/150 [==============================] - 0s 2ms/step - loss: 0.3166 - accuracy: 0.8717 - recall: 0.7733 - val_loss: 0.3235 - val_accuracy: 0.8733 - val_recall: 0.7490\n",
            "Epoch 95/100\n",
            "150/150 [==============================] - 0s 2ms/step - loss: 0.3198 - accuracy: 0.8715 - recall: 0.7856 - val_loss: 0.3249 - val_accuracy: 0.8708 - val_recall: 0.7409\n",
            "Epoch 96/100\n",
            "150/150 [==============================] - 0s 2ms/step - loss: 0.3108 - accuracy: 0.8771 - recall: 0.7877 - val_loss: 0.3251 - val_accuracy: 0.8683 - val_recall: 0.7328\n",
            "Epoch 97/100\n",
            "150/150 [==============================] - 0s 2ms/step - loss: 0.3121 - accuracy: 0.8700 - recall: 0.7969 - val_loss: 0.3263 - val_accuracy: 0.8708 - val_recall: 0.7409\n",
            "Epoch 98/100\n",
            "150/150 [==============================] - 0s 2ms/step - loss: 0.3140 - accuracy: 0.8721 - recall: 0.7908 - val_loss: 0.3246 - val_accuracy: 0.8750 - val_recall: 0.7449\n",
            "Epoch 99/100\n",
            "150/150 [==============================] - 0s 2ms/step - loss: 0.3158 - accuracy: 0.8723 - recall: 0.7764 - val_loss: 0.3246 - val_accuracy: 0.8742 - val_recall: 0.7530\n",
            "Epoch 100/100\n",
            "150/150 [==============================] - 0s 2ms/step - loss: 0.3125 - accuracy: 0.8729 - recall: 0.7764 - val_loss: 0.3268 - val_accuracy: 0.8692 - val_recall: 0.7530\n"
          ]
        }
      ]
    },
    {
      "cell_type": "code",
      "metadata": {
        "colab": {
          "base_uri": "https://localhost:8080/",
          "height": 283
        },
        "id": "dpXA-uIoWggf",
        "outputId": "6e195015-d058-4a16-f1b2-b1dba43abc6c"
      },
      "source": [
        "# Capturing learning history per epoch\n",
        "hist  = pd.DataFrame(his_mod3.history)\n",
        "hist['epoch'] = his_mod3.epoch\n",
        "\n",
        "# Plotting accuracy at different epochs\n",
        "plt.plot(hist['loss'])\n",
        "plt.plot(hist['val_loss'])\n",
        "plt.legend((\"train\" , \"valid\") , loc =0)"
      ],
      "execution_count": 84,
      "outputs": [
        {
          "output_type": "execute_result",
          "data": {
            "text/plain": [
              "<matplotlib.legend.Legend at 0x7f0afd212e10>"
            ]
          },
          "metadata": {},
          "execution_count": 84
        },
        {
          "output_type": "display_data",
          "data": {
            "image/png": "[encoded data removed]",
            "text/plain": [
              "<Figure size 432x288 with 1 Axes>"
            ]
          },
          "metadata": {
            "needs_background": "light"
          }
        }
      ]
    },
    {
      "cell_type": "code",
      "metadata": {
        "colab": {
          "base_uri": "https://localhost:8080/"
        },
        "id": "5aF23uyDW-rv",
        "outputId": "e6d3a07f-c3a2-4bf6-d49e-a4f752f0bc87"
      },
      "source": [
        "# Model 4 performance:\n",
        "print('Train scores:')\n",
        "train_scores_4 = bank_model4.evaluate(X_train, y_train)\n",
        "print('Validation scores:')\n",
        "train_scores_4 = bank_model4.evaluate(X_val, y_val)\n",
        "print('Test scores:')\n",
        "test_scores_4 = bank_model4.evaluate(X_test, y_test)"
      ],
      "execution_count": 85,
      "outputs": [
        {
          "output_type": "stream",
          "name": "stdout",
          "text": [
            "Train scores:\n",
            "188/188 [==============================] - 0s 1ms/step - loss: 0.3004 - accuracy: 0.8793 - recall: 0.7987\n",
            "Validation scores:\n",
            "63/63 [==============================] - 0s 1ms/step - loss: 0.3560 - accuracy: 0.8560 - recall: 0.7500\n",
            "Test scores:\n",
            "63/63 [==============================] - 0s 1ms/step - loss: 0.3528 - accuracy: 0.8565 - recall: 0.7445\n"
          ]
        }
      ]
    },
    {
      "cell_type": "code",
      "metadata": {
        "colab": {
          "base_uri": "https://localhost:8080/",
          "height": 338
        },
        "id": "4jx2fKEZXChN",
        "outputId": "0c0ae118-67fe-4ab7-9094-51b39a5d6b24"
      },
      "source": [
        "## Confusion Matrix using probability threshold of 0.2\n",
        "\n",
        "y_pred4 = bank_model4.predict(X_test)\n",
        "\n",
        "for i in range(len(y_test)): \n",
        "    if y_pred4[i] > 0.2: # Ajusting threshold to 0.2\n",
        "        y_pred4[i] = 1 \n",
        "    else:\n",
        "        y_pred4[i] = 0\n",
        "\n",
        "cm4=confusion_matrix(y_test, y_pred4)\n",
        "labels = ['True Negative','False Positive','False Negative','True Positive']\n",
        "categories = ['Not_Exited','Exited']\n",
        "\n",
        "make_confusion_matrix(cm4, \n",
        "                      group_names=labels,\n",
        "                      categories=categories, \n",
        "                      cmap='Blues')"
      ],
      "execution_count": 86,
      "outputs": [
        {
          "output_type": "display_data",
          "data": {
            "image/png": "[encoded data removed]",
            "text/plain": [
              "<Figure size 432x288 with 2 Axes>"
            ]
          },
          "metadata": {
            "needs_background": "light"
          }
        }
      ]
    },
    {
      "cell_type": "markdown",
      "metadata": {
        "id": "Nw6sypmzpc53"
      },
      "source": [
        "- Adding more layers and neurons to the network only slightly improved the model's performance.\n",
        "- Recall score improved slightly across training, vaidation and test set to 82%,76% and 75% respectively\n",
        "- The performance of the model remains comparable to the fourth model "
      ]
    },
    {
      "cell_type": "markdown",
      "metadata": {
        "id": "E_Ri6w6cgTAE"
      },
      "source": [
        "### Model Comparison"
      ]
    },
    {
      "cell_type": "code",
      "metadata": {
        "colab": {
          "base_uri": "https://localhost:8080/",
          "height": 175
        },
        "id": "ZpVBohJa46X-",
        "outputId": "5c202f72-77a1-46de-90d8-35bb38f971a3"
      },
      "source": [
        "comparison_frame = pd.DataFrame({'Model':['Simple Model','Model with 20% Threshold','Model with Drop-out',\n",
        "                                         'Model with Added Layers and Neuron'], 'Train Accuracy':[0.87,0.87,0.88,0.88], 'Validation Accuracy':[0.85,0.85,0.85,0.85], 'Test Accuracy':[0.85,0.85,0.86,0.86],'Train Recall':[0.52,0.80,0.79,0.82], 'Validation Recall':[0.46,0.76,0.76,0.76], 'Test Recall':[0.46,0.72,0.74,0.75]}) \n",
        "comparison_frame"
      ],
      "execution_count": 87,
      "outputs": [
        {
          "output_type": "execute_result",
          "data": {
            "text/html": [
              "<div>\n",
              "<style scoped>\n",
              "    .dataframe tbody tr th:only-of-type {\n",
              "        vertical-align: middle;\n",
              "    }\n",
              "\n",
              "    .dataframe tbody tr th {\n",
              "        vertical-align: top;\n",
              "    }\n",
              "\n",
              "    .dataframe thead th {\n",
              "        text-align: right;\n",
              "    }\n",
              "</style>\n",
              "<table border=\"1\" class=\"dataframe\">\n",
              "  <thead>\n",
              "    <tr style=\"text-align: right;\">\n",
              "      <th></th>\n",
              "      <th>Model</th>\n",
              "      <th>Train Accuracy</th>\n",
              "      <th>Validation Accuracy</th>\n",
              "      <th>Test Accuracy</th>\n",
              "      <th>Train Recall</th>\n",
              "      <th>Validation Recall</th>\n",
              "      <th>Test Recall</th>\n",
              "    </tr>\n",
              "  </thead>\n",
              "  <tbody>\n",
              "    <tr>\n",
              "      <th>0</th>\n",
              "      <td>Simple Model</td>\n",
              "      <td>0.87</td>\n",
              "      <td>0.85</td>\n",
              "      <td>0.85</td>\n",
              "      <td>0.52</td>\n",
              "      <td>0.46</td>\n",
              "      <td>0.46</td>\n",
              "    </tr>\n",
              "    <tr>\n",
              "      <th>1</th>\n",
              "      <td>Model with 20% Threshold</td>\n",
              "      <td>0.87</td>\n",
              "      <td>0.85</td>\n",
              "      <td>0.85</td>\n",
              "      <td>0.80</td>\n",
              "      <td>0.76</td>\n",
              "      <td>0.72</td>\n",
              "    </tr>\n",
              "    <tr>\n",
              "      <th>2</th>\n",
              "      <td>Model with Drop-out</td>\n",
              "      <td>0.88</td>\n",
              "      <td>0.85</td>\n",
              "      <td>0.86</td>\n",
              "      <td>0.79</td>\n",
              "      <td>0.76</td>\n",
              "      <td>0.74</td>\n",
              "    </tr>\n",
              "    <tr>\n",
              "      <th>3</th>\n",
              "      <td>Model with Added Layers and Neuron</td>\n",
              "      <td>0.88</td>\n",
              "      <td>0.85</td>\n",
              "      <td>0.86</td>\n",
              "      <td>0.82</td>\n",
              "      <td>0.76</td>\n",
              "      <td>0.75</td>\n",
              "    </tr>\n",
              "  </tbody>\n",
              "</table>\n",
              "</div>"
            ],
            "text/plain": [
              "                                Model  ...  Test Recall\n",
              "0                        Simple Model  ...         0.46\n",
              "1            Model with 20% Threshold  ...         0.72\n",
              "2                 Model with Drop-out  ...         0.74\n",
              "3  Model with Added Layers and Neuron  ...         0.75\n",
              "\n",
              "[4 rows x 7 columns]"
            ]
          },
          "metadata": {},
          "execution_count": 87
        }
      ]
    },
    {
      "cell_type": "markdown",
      "metadata": {
        "id": "7696LsIp6xe3"
      },
      "source": [
        "## Observations\n",
        "\n",
        "- We evaluated four neural network models based on ability to predict the customers' exit from the bank\n",
        "- The model with 10% drop out and the model with added layers have the best recall values on the test set\n",
        "- We were able to increase the recall by setting a lower probability threshold of 20%\n",
        "- We were able to reduce overfitting and increase the model's overall performance by adding 10% drop out\n",
        "- There is a direct relationship between number of products and tendency to leave\n",
        "- Customers who have up to four products left after six months"
      ]
    },
    {
      "cell_type": "markdown",
      "metadata": {
        "id": "rKOKHY4A73lE"
      },
      "source": [
        "## Conclusions and Recommendation\n",
        "\n",
        "- The artificial neural network developed is capable of predicting if a customer will leave the bank or not with a recall of 75% and accuracy of 86%\n",
        "- The model with 10% drop out and the model with added layers have the best performances\n",
        "- The bank should reduce the number of products per customer\n",
        "- The bank should runa survey to determine the cause of low customer retention in Germany\n"
      ]
    },
    {
      "cell_type": "code",
      "metadata": {
        "id": "LhbEJFWH8NMR"
      },
      "source": [
        ""
      ],
      "execution_count": 87,
      "outputs": []
    }
  ]
}